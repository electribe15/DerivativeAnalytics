{
 "cells": [
  {
   "cell_type": "code",
   "execution_count": 1,
   "metadata": {},
   "outputs": [],
   "source": [
    "import numpy as np\n",
    "import pandas as pd\n",
    "from openbb_terminal.sdk import openbb"
   ]
  },
  {
   "cell_type": "code",
   "execution_count": 2,
   "metadata": {},
   "outputs": [],
   "source": [
    "DATA_STORE=('assets.h5')"
   ]
  },
  {
   "cell_type": "code",
   "execution_count": null,
   "metadata": {},
   "outputs": [],
   "source": [
    "openbb.stocks.screener.screener_data(preset_loaded='sdk_guide_preset.ini',data_type='performance')"
   ]
  },
  {
   "cell_type": "code",
   "execution_count": null,
   "metadata": {},
   "outputs": [],
   "source": [
    "sp500_overview = openbb.stocks.screener.screener_data(preset_loaded='sp500_filter', data_type = 'overview')\n",
    "sp500_ownership = openbb.stocks.screener.screener_data(preset_loaded='sp500_filter', data_type = 'ownership')\n",
    "sp500_performance = openbb.stocks.screener.screener_data(preset_loaded='sp500_filter', data_type = 'performance')\n",
    "sp500_technical = openbb.stocks.screener.screener_data(preset_loaded='sp500_filter', data_type = 'technical')\n",
    "sp500_valuation = openbb.stocks.screener.screener_data(preset_loaded='sp500_filter', data_type = 'valuation')\n",
    "\n",
    "sp500_overview = sp500_overview.convert_dtypes()\n",
    "sp500_ownership = sp500_ownership.convert_dtypes()\n",
    "sp500_performance = sp500_performance.convert_dtypes()\n",
    "sp500_technical = sp500_technical.convert_dtypes()\n",
    "sp500_valuation = sp500_valuation.convert_dtypes()\n",
    "\n",
    "sp500_overview.drop(columns = ['P/E'], inplace = True)\n",
    "sp500_overview.set_index(keys = ['Ticker', 'Price', 'Change', 'Volume'], inplace = True)\n",
    "sp500_performance.drop(columns = ['Avg Volume', 'Price', 'Change', 'Volume'], inplace = True)\n",
    "sp500_performance.set_index(keys = ['Ticker'], inplace = True)\n",
    "sp500_ownership.drop(columns = ['Price', 'Change', 'Volume', 'Market Cap'], inplace = True)\n",
    "sp500_ownership.set_index(keys = ['Ticker'], inplace = True)\n",
    "sp500_technical.drop(columns = ['Price', 'Change', 'Volume'], inplace = True)\n",
    "sp500_technical.set_index(keys = ['Ticker'], inplace = True)\n",
    "sp500_valuation.drop(columns = ['Price', 'Change', 'Volume', 'Market Cap'], inplace = True)\n",
    "sp500_valuation.set_index(keys = ['Ticker'], inplace = True)\n",
    "\n",
    "sp500_df = sp500_overview.join(sp500_valuation)\n",
    "sp500_df = sp500_df.join(sp500_ownership)\n",
    "sp500_df = sp500_df.join(sp500_performance)\n",
    "sp500_df = sp500_df.join(sp500_technical)\n",
    "\n",
    "sp500_df.reset_index(inplace = True)\n",
    "\n",
    "sp500_df"
   ]
  },
  {
   "cell_type": "code",
   "execution_count": null,
   "metadata": {},
   "outputs": [],
   "source": []
  }
 ],
 "metadata": {
  "kernelspec": {
   "display_name": "Python 3",
   "language": "python",
   "name": "python3"
  },
  "language_info": {
   "codemirror_mode": {
    "name": "ipython",
    "version": 3
   },
   "file_extension": ".py",
   "mimetype": "text/x-python",
   "name": "python",
   "nbconvert_exporter": "python",
   "pygments_lexer": "ipython3",
   "version": "3.9.13"
  },
  "orig_nbformat": 4
 },
 "nbformat": 4,
 "nbformat_minor": 2
}
