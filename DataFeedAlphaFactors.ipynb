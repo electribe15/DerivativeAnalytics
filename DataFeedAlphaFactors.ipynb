{
 "cells": [
  {
   "cell_type": "code",
   "execution_count": 1,
   "metadata": {},
   "outputs": [],
   "source": [
    "import warnings\n",
    "warnings.filterwarnings('ignore')"
   ]
  },
  {
   "cell_type": "code",
   "execution_count": 5,
   "metadata": {},
   "outputs": [
    {
     "data": {
      "text/plain": [
       "'1.5.2'"
      ]
     },
     "execution_count": 5,
     "metadata": {},
     "output_type": "execute_result"
    }
   ],
   "source": [
    "\n",
    "import numpy as np\n",
    "import pandas as pd\n",
    "\n",
    "from openbb_terminal.sdk import openbb\n",
    "pd.__version__"
   ]
  },
  {
   "cell_type": "code",
   "execution_count": null,
   "metadata": {},
   "outputs": [],
   "source": []
  },
  {
   "cell_type": "code",
   "execution_count": null,
   "metadata": {},
   "outputs": [],
   "source": []
  },
  {
   "cell_type": "code",
   "execution_count": 3,
   "metadata": {},
   "outputs": [],
   "source": [
    "DATA_STORE=('assets.h5')"
   ]
  },
  {
   "cell_type": "markdown",
   "metadata": {},
   "source": []
  },
  {
   "cell_type": "code",
   "execution_count": 4,
   "metadata": {},
   "outputs": [
    {
     "data": {
      "text/html": [
       "<pre style=\"white-space:pre;overflow-x:auto;line-height:normal;font-family:Menlo,'DejaVu Sans Mono',consolas,'Courier New',monospace\"><span style=\"color: #800000; text-decoration-color: #800000\">Error: 'sp500_filter'</span>\n",
       "\n",
       "</pre>\n"
      ],
      "text/plain": [
       "\u001b[31mError: 'sp500_filter'\u001b[0m\n",
       "\n"
      ]
     },
     "metadata": {},
     "output_type": "display_data"
    },
    {
     "data": {
      "text/html": [
       "<pre style=\"white-space:pre;overflow-x:auto;line-height:normal;font-family:Menlo,'DejaVu Sans Mono',consolas,'Courier New',monospace\"><span style=\"color: #800000; text-decoration-color: #800000\">Error: 'sp500_filter'</span>\n",
       "\n",
       "</pre>\n"
      ],
      "text/plain": [
       "\u001b[31mError: 'sp500_filter'\u001b[0m\n",
       "\n"
      ]
     },
     "metadata": {},
     "output_type": "display_data"
    },
    {
     "data": {
      "text/html": [
       "<pre style=\"white-space:pre;overflow-x:auto;line-height:normal;font-family:Menlo,'DejaVu Sans Mono',consolas,'Courier New',monospace\"><span style=\"color: #800000; text-decoration-color: #800000\">Error: 'sp500_filter'</span>\n",
       "\n",
       "</pre>\n"
      ],
      "text/plain": [
       "\u001b[31mError: 'sp500_filter'\u001b[0m\n",
       "\n"
      ]
     },
     "metadata": {},
     "output_type": "display_data"
    },
    {
     "data": {
      "text/html": [
       "<pre style=\"white-space:pre;overflow-x:auto;line-height:normal;font-family:Menlo,'DejaVu Sans Mono',consolas,'Courier New',monospace\"><span style=\"color: #800000; text-decoration-color: #800000\">Error: 'sp500_filter'</span>\n",
       "\n",
       "</pre>\n"
      ],
      "text/plain": [
       "\u001b[31mError: 'sp500_filter'\u001b[0m\n",
       "\n"
      ]
     },
     "metadata": {},
     "output_type": "display_data"
    },
    {
     "data": {
      "text/html": [
       "<pre style=\"white-space:pre;overflow-x:auto;line-height:normal;font-family:Menlo,'DejaVu Sans Mono',consolas,'Courier New',monospace\"><span style=\"color: #800000; text-decoration-color: #800000\">Error: 'sp500_filter'</span>\n",
       "\n",
       "</pre>\n"
      ],
      "text/plain": [
       "\u001b[31mError: 'sp500_filter'\u001b[0m\n",
       "\n"
      ]
     },
     "metadata": {},
     "output_type": "display_data"
    },
    {
     "ename": "AttributeError",
     "evalue": "'list' object has no attribute 'convert_dtypes'",
     "output_type": "error",
     "traceback": [
      "\u001b[0;31m---------------------------------------------------------------------------\u001b[0m",
      "\u001b[0;31mAttributeError\u001b[0m                            Traceback (most recent call last)",
      "\u001b[1;32m/electribe15/DerivativeAnalytics/DataFeedAlphaFactors.ipynb Cell 5\u001b[0m in \u001b[0;36m7\n\u001b[1;32m      <a href='vscode-notebook-cell://github/electribe15/DerivativeAnalytics/DataFeedAlphaFactors.ipynb#W4sdnNjb2RlLXZmcw%3D%3D?line=3'>4</a>\u001b[0m sp500_technical \u001b[39m=\u001b[39m openbb\u001b[39m.\u001b[39mstocks\u001b[39m.\u001b[39mscreener\u001b[39m.\u001b[39mscreener_data(preset_loaded\u001b[39m=\u001b[39m\u001b[39m'\u001b[39m\u001b[39msp500_filter\u001b[39m\u001b[39m'\u001b[39m, data_type \u001b[39m=\u001b[39m \u001b[39m'\u001b[39m\u001b[39mtechnical\u001b[39m\u001b[39m'\u001b[39m)\n\u001b[1;32m      <a href='vscode-notebook-cell://github/electribe15/DerivativeAnalytics/DataFeedAlphaFactors.ipynb#W4sdnNjb2RlLXZmcw%3D%3D?line=4'>5</a>\u001b[0m sp500_valuation \u001b[39m=\u001b[39m openbb\u001b[39m.\u001b[39mstocks\u001b[39m.\u001b[39mscreener\u001b[39m.\u001b[39mscreener_data(preset_loaded\u001b[39m=\u001b[39m\u001b[39m'\u001b[39m\u001b[39msp500_filter\u001b[39m\u001b[39m'\u001b[39m, data_type \u001b[39m=\u001b[39m \u001b[39m'\u001b[39m\u001b[39mvaluation\u001b[39m\u001b[39m'\u001b[39m)\n\u001b[0;32m----> <a href='vscode-notebook-cell://github/electribe15/DerivativeAnalytics/DataFeedAlphaFactors.ipynb#W4sdnNjb2RlLXZmcw%3D%3D?line=6'>7</a>\u001b[0m sp500_overview \u001b[39m=\u001b[39m sp500_overview\u001b[39m.\u001b[39;49mconvert_dtypes()\n\u001b[1;32m      <a href='vscode-notebook-cell://github/electribe15/DerivativeAnalytics/DataFeedAlphaFactors.ipynb#W4sdnNjb2RlLXZmcw%3D%3D?line=7'>8</a>\u001b[0m sp500_ownership \u001b[39m=\u001b[39m sp500_ownership\u001b[39m.\u001b[39mconvert_dtypes()\n\u001b[1;32m      <a href='vscode-notebook-cell://github/electribe15/DerivativeAnalytics/DataFeedAlphaFactors.ipynb#W4sdnNjb2RlLXZmcw%3D%3D?line=8'>9</a>\u001b[0m sp500_performance \u001b[39m=\u001b[39m sp500_performance\u001b[39m.\u001b[39mconvert_dtypes()\n",
      "\u001b[0;31mAttributeError\u001b[0m: 'list' object has no attribute 'convert_dtypes'"
     ]
    }
   ],
   "source": [
    "sp500_overview = openbb.stocks.screener.screener_data(preset_loaded='sp500_filter', data_type = 'overview')\n",
    "sp500_ownership = openbb.stocks.screener.screener_data(preset_loaded='sp500_filter', data_type = 'ownership')\n",
    "sp500_performance = openbb.stocks.screener.screener_data(preset_loaded='sp500_filter', data_type = 'performance')\n",
    "sp500_technical = openbb.stocks.screener.screener_data(preset_loaded='sp500_filter', data_type = 'technical')\n",
    "sp500_valuation = openbb.stocks.screener.screener_data(preset_loaded='sp500_filter', data_type = 'valuation')\n",
    "\n",
    "sp500_overview = sp500_overview.convert_dtypes()\n",
    "sp500_ownership = sp500_ownership.convert_dtypes()\n",
    "sp500_performance = sp500_performance.convert_dtypes()\n",
    "sp500_technical = sp500_technical.convert_dtypes()\n",
    "sp500_valuation = sp500_valuation.convert_dtypes()\n",
    "\n",
    "sp500_overview.drop(columns = ['P/E'], inplace = True)\n",
    "sp500_overview.set_index(keys = ['Ticker', 'Price', 'Change', 'Volume'], inplace = True)\n",
    "sp500_performance.drop(columns = ['Avg Volume', 'Price', 'Change', 'Volume'], inplace = True)\n",
    "sp500_performance.set_index(keys = ['Ticker'], inplace = True)\n",
    "sp500_ownership.drop(columns = ['Price', 'Change', 'Volume', 'Market Cap'], inplace = True)\n",
    "sp500_ownership.set_index(keys = ['Ticker'], inplace = True)\n",
    "sp500_technical.drop(columns = ['Price', 'Change', 'Volume'], inplace = True)\n",
    "sp500_technical.set_index(keys = ['Ticker'], inplace = True)\n",
    "sp500_valuation.drop(columns = ['Price', 'Change', 'Volume', 'Market Cap'], inplace = True)\n",
    "sp500_valuation.set_index(keys = ['Ticker'], inplace = True)\n",
    "\n",
    "sp500_df = sp500_overview.join(sp500_valuation)\n",
    "sp500_df = sp500_df.join(sp500_ownership)\n",
    "sp500_df = sp500_df.join(sp500_performance)\n",
    "sp500_df = sp500_df.join(sp500_technical)\n",
    "\n",
    "sp500_df.reset_index(inplace = True)\n",
    "\n",
    "sp500_df"
   ]
  },
  {
   "cell_type": "code",
   "execution_count": null,
   "metadata": {},
   "outputs": [],
   "source": []
  }
 ],
 "metadata": {
  "kernelspec": {
   "display_name": "Python 3",
   "language": "python",
   "name": "python3"
  },
  "language_info": {
   "codemirror_mode": {
    "name": "ipython",
    "version": 3
   },
   "file_extension": ".py",
   "mimetype": "text/x-python",
   "name": "python",
   "nbconvert_exporter": "python",
   "pygments_lexer": "ipython3",
   "version": "3.9.13"
  },
  "orig_nbformat": 4
 },
 "nbformat": 4,
 "nbformat_minor": 2
}
