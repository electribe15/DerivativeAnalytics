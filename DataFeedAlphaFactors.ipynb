{
 "cells": [
  {
   "cell_type": "code",
   "execution_count": 330,
   "metadata": {},
   "outputs": [],
   "source": [
    "%matplotlib inline\n",
    "\n",
    "from datetime import datetime\n",
    "import pandas as pd\n",
    "import pandas_datareader.data as web\n",
    "\n",
    "# replaces pyfinance.ols.PandasRollingOLS (no longer maintained)\n",
    "from statsmodels.regression.rolling import RollingOLS\n",
    "import statsmodels.api as sm\n",
    "\n",
    "import matplotlib.pyplot as plt\n",
    "import seaborn as sns"
   ]
  },
  {
   "cell_type": "code",
   "execution_count": 331,
   "metadata": {},
   "outputs": [],
   "source": [
    "import warnings\n",
    "warnings.filterwarnings('ignore')"
   ]
  },
  {
   "cell_type": "code",
   "execution_count": 332,
   "metadata": {},
   "outputs": [],
   "source": [
    "sns.set_style('whitegrid')\n",
    "idx = pd.IndexSlice"
   ]
  },
  {
   "cell_type": "code",
   "execution_count": 333,
   "metadata": {},
   "outputs": [],
   "source": [
    "DATA_STORE = '/Users/Massimiliano/assets.h5'"
   ]
  },
  {
   "cell_type": "code",
   "execution_count": 334,
   "metadata": {},
   "outputs": [],
   "source": [
    "START = 2000\n",
    "END = 2018"
   ]
  },
  {
   "cell_type": "code",
   "execution_count": 335,
   "metadata": {},
   "outputs": [],
   "source": [
    "with pd.HDFStore(DATA_STORE) as store:\n",
    "    prices = (store['quandl/wiki/prices']\n",
    "              .loc[idx[str(START):str(END), :], 'adj_close']\n",
    "              .unstack('ticker'))\n",
    "    stocks = store['us_equities/stocks'].loc[:, ['mktcap', 'ipoyear', 'sector']]"
   ]
  },
  {
   "cell_type": "code",
   "execution_count": 336,
   "metadata": {},
   "outputs": [
    {
     "name": "stdout",
     "output_type": "stream",
     "text": [
      "<class 'pandas.core.frame.DataFrame'>\n",
      "Index: 4314 entries, AACG to ZYXI\n",
      "Data columns (total 3 columns):\n",
      " #   Column   Non-Null Count  Dtype  \n",
      "---  ------   --------------  -----  \n",
      " 0   mktcap   4302 non-null   float64\n",
      " 1   ipoyear  2622 non-null   float64\n",
      " 2   sector   4184 non-null   object \n",
      "dtypes: float64(2), object(1)\n",
      "memory usage: 134.8+ KB\n"
     ]
    }
   ],
   "source": [
    "stocks.info()"
   ]
  },
  {
   "cell_type": "code",
   "execution_count": 337,
   "metadata": {},
   "outputs": [
    {
     "name": "stdout",
     "output_type": "stream",
     "text": [
      "<class 'pandas.core.frame.DataFrame'>\n",
      "DatetimeIndex: 4706 entries, 2000-01-03 to 2018-03-27\n",
      "Columns: 3199 entries, A to ZUMZ\n",
      "dtypes: float64(3199)\n",
      "memory usage: 114.9 MB\n"
     ]
    }
   ],
   "source": [
    "prices.info()"
   ]
  },
  {
   "cell_type": "code",
   "execution_count": 338,
   "metadata": {},
   "outputs": [
    {
     "name": "stdout",
     "output_type": "stream",
     "text": [
      "<class 'pandas.core.frame.DataFrame'>\n",
      "Index: 4314 entries, AACG to ZYXI\n",
      "Data columns (total 3 columns):\n",
      " #   Column   Non-Null Count  Dtype  \n",
      "---  ------   --------------  -----  \n",
      " 0   mktcap   4302 non-null   float64\n",
      " 1   ipoyear  2622 non-null   float64\n",
      " 2   sector   4184 non-null   object \n",
      "dtypes: float64(2), object(1)\n",
      "memory usage: 134.8+ KB\n"
     ]
    }
   ],
   "source": [
    "stocks.info()"
   ]
  },
  {
   "cell_type": "code",
   "execution_count": 339,
   "metadata": {},
   "outputs": [
    {
     "name": "stdout",
     "output_type": "stream",
     "text": [
      "<class 'pandas.core.frame.DataFrame'>\n",
      "Index: 843 entries, AAL to ZUMZ\n",
      "Data columns (total 3 columns):\n",
      " #   Column   Non-Null Count  Dtype  \n",
      "---  ------   --------------  -----  \n",
      " 0   mktcap   843 non-null    float64\n",
      " 1   ipoyear  447 non-null    float64\n",
      " 2   sector   836 non-null    object \n",
      "dtypes: float64(2), object(1)\n",
      "memory usage: 26.3+ KB\n"
     ]
    }
   ],
   "source": [
    "#Remove stocks duplicates and align index names for later joining.\n",
    "stocks = stocks[~stocks.index.duplicated()]\n",
    "stocks.index.name = 'ticker'\n",
    "\n",
    "#Get tickers with both price information and metadata\n",
    "shared = prices.columns.intersection(stocks.index)\n",
    "stocks = stocks.loc[shared, :]\n",
    "stocks.info()"
   ]
  },
  {
   "cell_type": "code",
   "execution_count": 340,
   "metadata": {},
   "outputs": [],
   "source": [
    "#resamplemonthlyreturns\n",
    "monthly_prices = prices.resample('M').last()"
   ]
  },
  {
   "cell_type": "code",
   "execution_count": 341,
   "metadata": {},
   "outputs": [
    {
     "name": "stdout",
     "output_type": "stream",
     "text": [
      "<class 'pandas.core.frame.DataFrame'>\n",
      "DatetimeIndex: 219 entries, 2000-01-31 to 2018-03-31\n",
      "Freq: M\n",
      "Columns: 3199 entries, A to ZUMZ\n",
      "dtypes: float64(3199)\n",
      "memory usage: 5.3 MB\n"
     ]
    }
   ],
   "source": [
    "monthly_prices.info()"
   ]
  },
  {
   "cell_type": "code",
   "execution_count": 342,
   "metadata": {},
   "outputs": [],
   "source": [
    "#To capture time series dynamics that reflect, for example, momentum patterns, \n",
    "#we compute historical returns using the method .pct_change(n_periods), \n",
    "#that is, returns over various monthly periods as identified by lags.\n",
    "\n",
    "#We then convert the wide result back to long format with the .stack() method, \n",
    "#use .pipe() to apply the .clip() method to the resulting DataFrame, and \n",
    "#Finally, we normalize returns using the geometric average. \n",
    "#winsorize returns at the [1%, 99%] levels; that is, we cap outliers at these percentiles.\n",
    "#After using .swaplevel() to change the order of the MultiIndex levels, \n",
    "#we obtain compounded monthly returns for six periods ranging from 1 to 12 months:"
   ]
  },
  {
   "cell_type": "code",
   "execution_count": 343,
   "metadata": {},
   "outputs": [
    {
     "name": "stdout",
     "output_type": "stream",
     "text": [
      "<class 'pandas.core.frame.DataFrame'>\n",
      "MultiIndex: 521806 entries, ('A', Timestamp('2001-01-31 00:00:00')) to ('ZUMZ', Timestamp('2018-03-31 00:00:00'))\n",
      "Data columns (total 6 columns):\n",
      " #   Column      Non-Null Count   Dtype  \n",
      "---  ------      --------------   -----  \n",
      " 0   return_1m   521806 non-null  float64\n",
      " 1   return_2m   521806 non-null  float64\n",
      " 2   return_3m   521806 non-null  float64\n",
      " 3   return_6m   521806 non-null  float64\n",
      " 4   return_9m   521806 non-null  float64\n",
      " 5   return_12m  521806 non-null  float64\n",
      "dtypes: float64(6)\n",
      "memory usage: 26.0+ MB\n"
     ]
    }
   ],
   "source": [
    "outlier_cutoff = 0.01\n",
    "data = pd.DataFrame()\n",
    "lags = [1, 2, 3, 6, 9, 12]\n",
    "for lag in lags:\n",
    "    data[f'return_{lag}m'] = (monthly_prices\n",
    "                           .pct_change(lag)\n",
    "                           .stack()\n",
    "                           .pipe(lambda x: x.clip(lower=x.quantile(outlier_cutoff),\n",
    "                                                  upper=x.quantile(1-outlier_cutoff)))\n",
    "                           .add(1)\n",
    "                           .pow(1/lag)\n",
    "                           .sub(1)\n",
    "                           )\n",
    "data = data.swaplevel().dropna()\n",
    "data.info()"
   ]
  },
  {
   "cell_type": "code",
   "execution_count": 344,
   "metadata": {},
   "outputs": [],
   "source": [
    "#Drop stocks with less than 10 yrs of returns"
   ]
  },
  {
   "cell_type": "code",
   "execution_count": 345,
   "metadata": {},
   "outputs": [
    {
     "name": "stdout",
     "output_type": "stream",
     "text": [
      "<class 'pandas.core.frame.DataFrame'>\n",
      "MultiIndex: 465935 entries, ('A', Timestamp('2001-01-31 00:00:00')) to ('ZUMZ', Timestamp('2018-03-31 00:00:00'))\n",
      "Data columns (total 6 columns):\n",
      " #   Column      Non-Null Count   Dtype  \n",
      "---  ------      --------------   -----  \n",
      " 0   return_1m   465935 non-null  float64\n",
      " 1   return_2m   465935 non-null  float64\n",
      " 2   return_3m   465935 non-null  float64\n",
      " 3   return_6m   465935 non-null  float64\n",
      " 4   return_9m   465935 non-null  float64\n",
      " 5   return_12m  465935 non-null  float64\n",
      "dtypes: float64(6)\n",
      "memory usage: 23.3+ MB\n"
     ]
    }
   ],
   "source": [
    "min_obs = 120\n",
    "nobs = data.groupby(level='ticker').size()\n",
    "keep = nobs[nobs>min_obs].index\n",
    "\n",
    "data = data.loc[idx[keep,:], :]\n",
    "data.info()"
   ]
  },
  {
   "cell_type": "code",
   "execution_count": 346,
   "metadata": {},
   "outputs": [
    {
     "data": {
      "text/html": [
       "<div>\n",
       "<style scoped>\n",
       "    .dataframe tbody tr th:only-of-type {\n",
       "        vertical-align: middle;\n",
       "    }\n",
       "\n",
       "    .dataframe tbody tr th {\n",
       "        vertical-align: top;\n",
       "    }\n",
       "\n",
       "    .dataframe thead th {\n",
       "        text-align: right;\n",
       "    }\n",
       "</style>\n",
       "<table border=\"1\" class=\"dataframe\">\n",
       "  <thead>\n",
       "    <tr style=\"text-align: right;\">\n",
       "      <th></th>\n",
       "      <th>return_1m</th>\n",
       "      <th>return_2m</th>\n",
       "      <th>return_3m</th>\n",
       "      <th>return_6m</th>\n",
       "      <th>return_9m</th>\n",
       "      <th>return_12m</th>\n",
       "    </tr>\n",
       "  </thead>\n",
       "  <tbody>\n",
       "    <tr>\n",
       "      <th>count</th>\n",
       "      <td>465935.000000</td>\n",
       "      <td>465935.000000</td>\n",
       "      <td>465935.000000</td>\n",
       "      <td>465935.000000</td>\n",
       "      <td>465935.000000</td>\n",
       "      <td>465935.000000</td>\n",
       "    </tr>\n",
       "    <tr>\n",
       "      <th>mean</th>\n",
       "      <td>0.011694</td>\n",
       "      <td>0.008454</td>\n",
       "      <td>0.007306</td>\n",
       "      <td>0.006036</td>\n",
       "      <td>0.005542</td>\n",
       "      <td>0.005285</td>\n",
       "    </tr>\n",
       "    <tr>\n",
       "      <th>std</th>\n",
       "      <td>0.117872</td>\n",
       "      <td>0.084059</td>\n",
       "      <td>0.069195</td>\n",
       "      <td>0.050674</td>\n",
       "      <td>0.041919</td>\n",
       "      <td>0.036635</td>\n",
       "    </tr>\n",
       "    <tr>\n",
       "      <th>min</th>\n",
       "      <td>-0.343442</td>\n",
       "      <td>-0.269341</td>\n",
       "      <td>-0.229978</td>\n",
       "      <td>-0.175426</td>\n",
       "      <td>-0.145071</td>\n",
       "      <td>-0.125787</td>\n",
       "    </tr>\n",
       "    <tr>\n",
       "      <th>25%</th>\n",
       "      <td>-0.046679</td>\n",
       "      <td>-0.031096</td>\n",
       "      <td>-0.024413</td>\n",
       "      <td>-0.015632</td>\n",
       "      <td>-0.012035</td>\n",
       "      <td>-0.009962</td>\n",
       "    </tr>\n",
       "    <tr>\n",
       "      <th>50%</th>\n",
       "      <td>0.006369</td>\n",
       "      <td>0.007476</td>\n",
       "      <td>0.007810</td>\n",
       "      <td>0.008024</td>\n",
       "      <td>0.007924</td>\n",
       "      <td>0.007852</td>\n",
       "    </tr>\n",
       "    <tr>\n",
       "      <th>75%</th>\n",
       "      <td>0.065314</td>\n",
       "      <td>0.048890</td>\n",
       "      <td>0.041722</td>\n",
       "      <td>0.031742</td>\n",
       "      <td>0.027062</td>\n",
       "      <td>0.024439</td>\n",
       "    </tr>\n",
       "    <tr>\n",
       "      <th>max</th>\n",
       "      <td>0.449446</td>\n",
       "      <td>0.294075</td>\n",
       "      <td>0.230064</td>\n",
       "      <td>0.159207</td>\n",
       "      <td>0.128147</td>\n",
       "      <td>0.108809</td>\n",
       "    </tr>\n",
       "  </tbody>\n",
       "</table>\n",
       "</div>"
      ],
      "text/plain": [
       "           return_1m      return_2m      return_3m      return_6m  \\\n",
       "count  465935.000000  465935.000000  465935.000000  465935.000000   \n",
       "mean        0.011694       0.008454       0.007306       0.006036   \n",
       "std         0.117872       0.084059       0.069195       0.050674   \n",
       "min        -0.343442      -0.269341      -0.229978      -0.175426   \n",
       "25%        -0.046679      -0.031096      -0.024413      -0.015632   \n",
       "50%         0.006369       0.007476       0.007810       0.008024   \n",
       "75%         0.065314       0.048890       0.041722       0.031742   \n",
       "max         0.449446       0.294075       0.230064       0.159207   \n",
       "\n",
       "           return_9m     return_12m  \n",
       "count  465935.000000  465935.000000  \n",
       "mean        0.005542       0.005285  \n",
       "std         0.041919       0.036635  \n",
       "min        -0.145071      -0.125787  \n",
       "25%        -0.012035      -0.009962  \n",
       "50%         0.007924       0.007852  \n",
       "75%         0.027062       0.024439  \n",
       "max         0.128147       0.108809  "
      ]
     },
     "execution_count": 346,
     "metadata": {},
     "output_type": "execute_result"
    }
   ],
   "source": [
    "data.describe()"
   ]
  },
  {
   "cell_type": "code",
   "execution_count": 347,
   "metadata": {},
   "outputs": [
    {
     "data": {
      "image/png": "[encoded data removed]",
      "text/plain": [
       "<Figure size 1000x1000 with 4 Axes>"
      ]
     },
     "metadata": {},
     "output_type": "display_data"
    }
   ],
   "source": [
    "# cmap = sns.diverging_palette(10, 220, as_cmap=True)\n",
    "sns.clustermap(data.corr('spearman'), annot=True, center=0, cmap='Blues');"
   ]
  },
  {
   "cell_type": "code",
   "execution_count": 348,
   "metadata": {},
   "outputs": [
    {
     "data": {
      "text/plain": [
       "2385"
      ]
     },
     "execution_count": 348,
     "metadata": {},
     "output_type": "execute_result"
    }
   ],
   "source": [
    "#n of tickers left\n",
    "data.index.get_level_values('ticker').nunique()"
   ]
  },
  {
   "cell_type": "code",
   "execution_count": 349,
   "metadata": {},
   "outputs": [],
   "source": [
    "#the five Fama—French factors, namely market risk, size, value, operating profitability,\n",
    "# and investment have been shown empirically to explain asset returns and are commonly used \n",
    "# to assess the risk/return profile of portfolios. Hence, it is natural to include past \n",
    "# factor exposures as financial features in models that aim to predict future returns.We can access \n",
    "# the historical factor returns using the pandas-datareader and estimate historical exposures \n",
    "# using the RollingOLS rolling linear regression functionality in the statsmodels library as follows:\n",
    "# Use Fama-French research factors to estimate the factor exposures of the stock in the dataset to \n",
    "# the 5 factors market risk, size, value, operating profitability and investment."
   ]
  },
  {
   "cell_type": "code",
   "execution_count": 350,
   "metadata": {},
   "outputs": [
    {
     "name": "stdout",
     "output_type": "stream",
     "text": [
      "<class 'pandas.core.frame.DataFrame'>\n",
      "DatetimeIndex: 284 entries, 2000-01-31 to 2023-08-31\n",
      "Freq: M\n",
      "Data columns (total 5 columns):\n",
      " #   Column  Non-Null Count  Dtype  \n",
      "---  ------  --------------  -----  \n",
      " 0   Mkt-RF  284 non-null    float64\n",
      " 1   SMB     284 non-null    float64\n",
      " 2   HML     284 non-null    float64\n",
      " 3   RMW     284 non-null    float64\n",
      " 4   CMA     284 non-null    float64\n",
      "dtypes: float64(5)\n",
      "memory usage: 13.3 KB\n"
     ]
    }
   ],
   "source": [
    "factors = ['Mkt-RF', 'SMB', 'HML', 'RMW', 'CMA']\n",
    "factor_data = web.DataReader('F-F_Research_Data_5_Factors_2x3', 'famafrench', start='2000')[0].drop('RF', axis=1)\n",
    "factor_data.index = factor_data.index.to_timestamp()\n",
    "factor_data = factor_data.resample('M').last().div(100)\n",
    "factor_data.index.name = 'date'\n",
    "factor_data.info()"
   ]
  },
  {
   "cell_type": "code",
   "execution_count": 351,
   "metadata": {},
   "outputs": [
    {
     "name": "stdout",
     "output_type": "stream",
     "text": [
      "<class 'pandas.core.frame.DataFrame'>\n",
      "MultiIndex: 465935 entries, ('A', Timestamp('2001-01-31 00:00:00')) to ('ZUMZ', Timestamp('2018-03-31 00:00:00'))\n",
      "Data columns (total 6 columns):\n",
      " #   Column     Non-Null Count   Dtype  \n",
      "---  ------     --------------   -----  \n",
      " 0   Mkt-RF     465935 non-null  float64\n",
      " 1   SMB        465935 non-null  float64\n",
      " 2   HML        465935 non-null  float64\n",
      " 3   RMW        465935 non-null  float64\n",
      " 4   CMA        465935 non-null  float64\n",
      " 5   return_1m  465935 non-null  float64\n",
      "dtypes: float64(6)\n",
      "memory usage: 23.3+ MB\n"
     ]
    }
   ],
   "source": [
    "factor_data = factor_data.join(data['return_1m']).sort_index()\n",
    "factor_data.info()"
   ]
  },
  {
   "cell_type": "code",
   "execution_count": 352,
   "metadata": {},
   "outputs": [],
   "source": [
    "T = 24\n",
    "betas = (factor_data.groupby(level='ticker',\n",
    "                             group_keys=False)\n",
    "         .apply(lambda x: RollingOLS(endog=x.return_1m,\n",
    "                                     exog=sm.add_constant(x.drop('return_1m', axis=1)),\n",
    "                                     window=min(T, x.shape[0]-1))\n",
    "                .fit(params_only=True)\n",
    "                .params\n",
    "                .drop('const', axis=1)))"
   ]
  },
  {
   "cell_type": "code",
   "execution_count": 353,
   "metadata": {},
   "outputs": [
    {
     "data": {
      "text/html": [
       "<div>\n",
       "<style scoped>\n",
       "    .dataframe tbody tr th:only-of-type {\n",
       "        vertical-align: middle;\n",
       "    }\n",
       "\n",
       "    .dataframe tbody tr th {\n",
       "        vertical-align: top;\n",
       "    }\n",
       "\n",
       "    .dataframe thead th {\n",
       "        text-align: right;\n",
       "    }\n",
       "</style>\n",
       "<table border=\"1\" class=\"dataframe\">\n",
       "  <thead>\n",
       "    <tr style=\"text-align: right;\">\n",
       "      <th></th>\n",
       "      <th>Mkt-RF</th>\n",
       "      <th>SMB</th>\n",
       "      <th>HML</th>\n",
       "      <th>RMW</th>\n",
       "      <th>CMA</th>\n",
       "      <th>total</th>\n",
       "    </tr>\n",
       "  </thead>\n",
       "  <tbody>\n",
       "    <tr>\n",
       "      <th>count</th>\n",
       "      <td>411080.000000</td>\n",
       "      <td>411080.000000</td>\n",
       "      <td>411080.000000</td>\n",
       "      <td>4.110800e+05</td>\n",
       "      <td>411080.000000</td>\n",
       "      <td>465935.000000</td>\n",
       "    </tr>\n",
       "    <tr>\n",
       "      <th>mean</th>\n",
       "      <td>0.972738</td>\n",
       "      <td>0.639852</td>\n",
       "      <td>0.113687</td>\n",
       "      <td>-9.520483e-02</td>\n",
       "      <td>0.018514</td>\n",
       "      <td>1.455379</td>\n",
       "    </tr>\n",
       "    <tr>\n",
       "      <th>std</th>\n",
       "      <td>0.949609</td>\n",
       "      <td>1.307478</td>\n",
       "      <td>1.668164</td>\n",
       "      <td>1.994570e+00</td>\n",
       "      <td>2.233348</td>\n",
       "      <td>3.436439</td>\n",
       "    </tr>\n",
       "    <tr>\n",
       "      <th>min</th>\n",
       "      <td>-9.839408</td>\n",
       "      <td>-10.514475</td>\n",
       "      <td>-16.972496</td>\n",
       "      <td>-2.482626e+01</td>\n",
       "      <td>-19.912303</td>\n",
       "      <td>-35.400302</td>\n",
       "    </tr>\n",
       "    <tr>\n",
       "      <th>25%</th>\n",
       "      <td>0.428533</td>\n",
       "      <td>-0.120422</td>\n",
       "      <td>-0.732065</td>\n",
       "      <td>-1.049914e+00</td>\n",
       "      <td>-1.099445</td>\n",
       "      <td>0.000000</td>\n",
       "    </tr>\n",
       "    <tr>\n",
       "      <th>50%</th>\n",
       "      <td>0.918065</td>\n",
       "      <td>0.542867</td>\n",
       "      <td>0.072700</td>\n",
       "      <td>2.126248e-15</td>\n",
       "      <td>0.024009</td>\n",
       "      <td>1.128157</td>\n",
       "    </tr>\n",
       "    <tr>\n",
       "      <th>75%</th>\n",
       "      <td>1.458323</td>\n",
       "      <td>1.338423</td>\n",
       "      <td>0.948059</td>\n",
       "      <td>9.521193e-01</td>\n",
       "      <td>1.153939</td>\n",
       "      <td>3.163461</td>\n",
       "    </tr>\n",
       "    <tr>\n",
       "      <th>max</th>\n",
       "      <td>10.926073</td>\n",
       "      <td>10.852749</td>\n",
       "      <td>15.723984</td>\n",
       "      <td>1.932599e+01</td>\n",
       "      <td>21.450389</td>\n",
       "      <td>39.453020</td>\n",
       "    </tr>\n",
       "  </tbody>\n",
       "</table>\n",
       "</div>"
      ],
      "text/plain": [
       "              Mkt-RF            SMB            HML           RMW  \\\n",
       "count  411080.000000  411080.000000  411080.000000  4.110800e+05   \n",
       "mean        0.972738       0.639852       0.113687 -9.520483e-02   \n",
       "std         0.949609       1.307478       1.668164  1.994570e+00   \n",
       "min        -9.839408     -10.514475     -16.972496 -2.482626e+01   \n",
       "25%         0.428533      -0.120422      -0.732065 -1.049914e+00   \n",
       "50%         0.918065       0.542867       0.072700  2.126248e-15   \n",
       "75%         1.458323       1.338423       0.948059  9.521193e-01   \n",
       "max        10.926073      10.852749      15.723984  1.932599e+01   \n",
       "\n",
       "                 CMA          total  \n",
       "count  411080.000000  465935.000000  \n",
       "mean        0.018514       1.455379  \n",
       "std         2.233348       3.436439  \n",
       "min       -19.912303     -35.400302  \n",
       "25%        -1.099445       0.000000  \n",
       "50%         0.024009       1.128157  \n",
       "75%         1.153939       3.163461  \n",
       "max        21.450389      39.453020  "
      ]
     },
     "execution_count": 353,
     "metadata": {},
     "output_type": "execute_result"
    }
   ],
   "source": [
    "betas.describe().join(betas.sum(1).describe().to_frame('total'))"
   ]
  },
  {
   "cell_type": "code",
   "execution_count": 354,
   "metadata": {},
   "outputs": [
    {
     "data": {
      "text/plain": [
       "<seaborn.matrix.ClusterGrid at 0x7f8f5fdb2e50>"
      ]
     },
     "execution_count": 354,
     "metadata": {},
     "output_type": "execute_result"
    },
    {
     "data": {
      "image/png": "[encoded data removed]",
      "text/plain": [
       "<Figure size 1000x1000 with 4 Axes>"
      ]
     },
     "metadata": {},
     "output_type": "display_data"
    }
   ],
   "source": [
    "cmap = sns.diverging_palette(10, 220, as_cmap=True)\n",
    "sns.clustermap(betas.corr(), annot=True, cmap=cmap, center=0)"
   ]
  },
  {
   "cell_type": "code",
   "execution_count": 355,
   "metadata": {},
   "outputs": [
    {
     "name": "stdout",
     "output_type": "stream",
     "text": [
      "<class 'pandas.core.frame.DataFrame'>\n",
      "MultiIndex: 465935 entries, ('A', Timestamp('2001-01-31 00:00:00')) to ('ZUMZ', Timestamp('2018-03-31 00:00:00'))\n",
      "Data columns (total 11 columns):\n",
      " #   Column      Non-Null Count   Dtype  \n",
      "---  ------      --------------   -----  \n",
      " 0   return_1m   465935 non-null  float64\n",
      " 1   return_2m   465935 non-null  float64\n",
      " 2   return_3m   465935 non-null  float64\n",
      " 3   return_6m   465935 non-null  float64\n",
      " 4   return_9m   465935 non-null  float64\n",
      " 5   return_12m  465935 non-null  float64\n",
      " 6   Mkt-RF      408695 non-null  float64\n",
      " 7   SMB         408695 non-null  float64\n",
      " 8   HML         408695 non-null  float64\n",
      " 9   RMW         408695 non-null  float64\n",
      " 10  CMA         408695 non-null  float64\n",
      "dtypes: float64(11)\n",
      "memory usage: 57.2+ MB\n"
     ]
    }
   ],
   "source": [
    "data = (data\n",
    "        .join(betas\n",
    "              .groupby(level='ticker')\n",
    "              .shift()))\n",
    "data.info()"
   ]
  },
  {
   "cell_type": "code",
   "execution_count": 356,
   "metadata": {},
   "outputs": [
    {
     "name": "stdout",
     "output_type": "stream",
     "text": [
      "<class 'pandas.core.frame.DataFrame'>\n",
      "MultiIndex: 465935 entries, ('A', Timestamp('2001-01-31 00:00:00')) to ('ZUMZ', Timestamp('2018-03-31 00:00:00'))\n",
      "Data columns (total 11 columns):\n",
      " #   Column      Non-Null Count   Dtype  \n",
      "---  ------      --------------   -----  \n",
      " 0   return_1m   465935 non-null  float64\n",
      " 1   return_2m   465935 non-null  float64\n",
      " 2   return_3m   465935 non-null  float64\n",
      " 3   return_6m   465935 non-null  float64\n",
      " 4   return_9m   465935 non-null  float64\n",
      " 5   return_12m  465935 non-null  float64\n",
      " 6   Mkt-RF      465935 non-null  float64\n",
      " 7   SMB         465935 non-null  float64\n",
      " 8   HML         465935 non-null  float64\n",
      " 9   RMW         465935 non-null  float64\n",
      " 10  CMA         465935 non-null  float64\n",
      "dtypes: float64(11)\n",
      "memory usage: 57.2+ MB\n"
     ]
    }
   ],
   "source": [
    "data.loc[:, factors] = data.groupby('ticker')[factors].transform(lambda x: x.fillna(x.mean()))\n",
    "data.info()"
   ]
  },
  {
   "cell_type": "code",
   "execution_count": 357,
   "metadata": {},
   "outputs": [],
   "source": [
    "#We can use these results to compute momentum factors based on the difference between \n",
    "# returns over longer periods and the most recent monthly return, as well as for \n",
    "# the difference between 3 and 12 month returns as follows:"
   ]
  },
  {
   "cell_type": "code",
   "execution_count": 358,
   "metadata": {},
   "outputs": [],
   "source": [
    "for lag in [2,3,6,9,12]:\n",
    "        data[f'momentum_{lag}'] = data[f'return_{lag}m'].sub(data.return_1m)\n",
    "        data[f'momentum_3_12'] = data[f'return_12m'].sub(data.return_3m)"
   ]
  },
  {
   "cell_type": "code",
   "execution_count": 359,
   "metadata": {},
   "outputs": [],
   "source": [
    "dates = data.index.get_level_values('date')\n",
    "data['year'] = dates.year\n",
    "data['month'] = dates.month"
   ]
  },
  {
   "cell_type": "code",
   "execution_count": 360,
   "metadata": {},
   "outputs": [],
   "source": [
    "#Lagged returns\n",
    "#To use lagged values as input variables or features associated with the current observations, \n",
    "#we use the .shift() method to move historical returns up to the current period:"
   ]
  },
  {
   "cell_type": "code",
   "execution_count": 361,
   "metadata": {},
   "outputs": [
    {
     "name": "stdout",
     "output_type": "stream",
     "text": [
      "<class 'pandas.core.frame.DataFrame'>\n",
      "MultiIndex: 465935 entries, ('A', Timestamp('2001-01-31 00:00:00')) to ('ZUMZ', Timestamp('2018-03-31 00:00:00'))\n",
      "Data columns (total 25 columns):\n",
      " #   Column         Non-Null Count   Dtype  \n",
      "---  ------         --------------   -----  \n",
      " 0   return_1m      465935 non-null  float64\n",
      " 1   return_2m      465935 non-null  float64\n",
      " 2   return_3m      465935 non-null  float64\n",
      " 3   return_6m      465935 non-null  float64\n",
      " 4   return_9m      465935 non-null  float64\n",
      " 5   return_12m     465935 non-null  float64\n",
      " 6   Mkt-RF         465935 non-null  float64\n",
      " 7   SMB            465935 non-null  float64\n",
      " 8   HML            465935 non-null  float64\n",
      " 9   RMW            465935 non-null  float64\n",
      " 10  CMA            465935 non-null  float64\n",
      " 11  momentum_2     465935 non-null  float64\n",
      " 12  momentum_3_12  465935 non-null  float64\n",
      " 13  momentum_3     465935 non-null  float64\n",
      " 14  momentum_6     465935 non-null  float64\n",
      " 15  momentum_9     465935 non-null  float64\n",
      " 16  momentum_12    465935 non-null  float64\n",
      " 17  year           465935 non-null  int32  \n",
      " 18  month          465935 non-null  int32  \n",
      " 19  return_1m_t-1  463550 non-null  float64\n",
      " 20  return_1m_t-2  461165 non-null  float64\n",
      " 21  return_1m_t-3  458780 non-null  float64\n",
      " 22  return_1m_t-4  456395 non-null  float64\n",
      " 23  return_1m_t-5  454010 non-null  float64\n",
      " 24  return_1m_t-6  451625 non-null  float64\n",
      "dtypes: float64(23), int32(2)\n",
      "memory usage: 103.4+ MB\n"
     ]
    }
   ],
   "source": [
    "for t in range(1, 7):\n",
    "    data[f'return_1m_t-{t}'] = data.groupby(level='ticker').return_1m.shift(t)\n",
    "data.info()"
   ]
  },
  {
   "cell_type": "code",
   "execution_count": 362,
   "metadata": {},
   "outputs": [],
   "source": [
    "#Target: Holding Period Returns\n",
    "#Similarly, to compute returns for various holding periods, we use the normalized period returns \n",
    "# computed previously and shift them back to align them with the current financial features"
   ]
  },
  {
   "cell_type": "code",
   "execution_count": 363,
   "metadata": {},
   "outputs": [],
   "source": [
    "for t in [1,2,3,6,12]:\n",
    "    data[f'target_{t}m'] = data.groupby(level='ticker')[f'return_{t}m'].shift(-t)"
   ]
  },
  {
   "cell_type": "code",
   "execution_count": 364,
   "metadata": {},
   "outputs": [
    {
     "data": {
      "text/html": [
       "<div>\n",
       "<style scoped>\n",
       "    .dataframe tbody tr th:only-of-type {\n",
       "        vertical-align: middle;\n",
       "    }\n",
       "\n",
       "    .dataframe tbody tr th {\n",
       "        vertical-align: top;\n",
       "    }\n",
       "\n",
       "    .dataframe thead th {\n",
       "        text-align: right;\n",
       "    }\n",
       "</style>\n",
       "<table border=\"1\" class=\"dataframe\">\n",
       "  <thead>\n",
       "    <tr style=\"text-align: right;\">\n",
       "      <th></th>\n",
       "      <th></th>\n",
       "      <th>target_1m</th>\n",
       "      <th>target_2m</th>\n",
       "      <th>target_3m</th>\n",
       "      <th>return_1m</th>\n",
       "      <th>return_2m</th>\n",
       "      <th>return_3m</th>\n",
       "      <th>return_1m_t-1</th>\n",
       "      <th>return_1m_t-2</th>\n",
       "      <th>return_1m_t-3</th>\n",
       "    </tr>\n",
       "    <tr>\n",
       "      <th>ticker</th>\n",
       "      <th>date</th>\n",
       "      <th></th>\n",
       "      <th></th>\n",
       "      <th></th>\n",
       "      <th></th>\n",
       "      <th></th>\n",
       "      <th></th>\n",
       "      <th></th>\n",
       "      <th></th>\n",
       "      <th></th>\n",
       "    </tr>\n",
       "  </thead>\n",
       "  <tbody>\n",
       "    <tr>\n",
       "      <th rowspan=\"10\" valign=\"top\">A</th>\n",
       "      <th>2001-04-30</th>\n",
       "      <td>-0.140220</td>\n",
       "      <td>-0.087246</td>\n",
       "      <td>-0.098192</td>\n",
       "      <td>0.269444</td>\n",
       "      <td>0.040966</td>\n",
       "      <td>-0.105747</td>\n",
       "      <td>-0.146389</td>\n",
       "      <td>-0.340055</td>\n",
       "      <td>-0.003653</td>\n",
       "    </tr>\n",
       "    <tr>\n",
       "      <th>2001-05-31</th>\n",
       "      <td>-0.031008</td>\n",
       "      <td>-0.076414</td>\n",
       "      <td>-0.075527</td>\n",
       "      <td>-0.140220</td>\n",
       "      <td>0.044721</td>\n",
       "      <td>-0.023317</td>\n",
       "      <td>0.269444</td>\n",
       "      <td>-0.146389</td>\n",
       "      <td>-0.340055</td>\n",
       "    </tr>\n",
       "    <tr>\n",
       "      <th>2001-06-30</th>\n",
       "      <td>-0.119692</td>\n",
       "      <td>-0.097014</td>\n",
       "      <td>-0.155847</td>\n",
       "      <td>-0.031008</td>\n",
       "      <td>-0.087246</td>\n",
       "      <td>0.018842</td>\n",
       "      <td>-0.140220</td>\n",
       "      <td>0.269444</td>\n",
       "      <td>-0.146389</td>\n",
       "    </tr>\n",
       "    <tr>\n",
       "      <th>2001-07-31</th>\n",
       "      <td>-0.073750</td>\n",
       "      <td>-0.173364</td>\n",
       "      <td>-0.080114</td>\n",
       "      <td>-0.119692</td>\n",
       "      <td>-0.076414</td>\n",
       "      <td>-0.098192</td>\n",
       "      <td>-0.031008</td>\n",
       "      <td>-0.140220</td>\n",
       "      <td>0.269444</td>\n",
       "    </tr>\n",
       "    <tr>\n",
       "      <th>2001-08-31</th>\n",
       "      <td>-0.262264</td>\n",
       "      <td>-0.083279</td>\n",
       "      <td>0.009593</td>\n",
       "      <td>-0.073750</td>\n",
       "      <td>-0.097014</td>\n",
       "      <td>-0.075527</td>\n",
       "      <td>-0.119692</td>\n",
       "      <td>-0.031008</td>\n",
       "      <td>-0.140220</td>\n",
       "    </tr>\n",
       "    <tr>\n",
       "      <th>2001-09-30</th>\n",
       "      <td>0.139130</td>\n",
       "      <td>0.181052</td>\n",
       "      <td>0.134010</td>\n",
       "      <td>-0.262264</td>\n",
       "      <td>-0.173364</td>\n",
       "      <td>-0.155847</td>\n",
       "      <td>-0.073750</td>\n",
       "      <td>-0.119692</td>\n",
       "      <td>-0.031008</td>\n",
       "    </tr>\n",
       "    <tr>\n",
       "      <th>2001-10-31</th>\n",
       "      <td>0.224517</td>\n",
       "      <td>0.131458</td>\n",
       "      <td>0.108697</td>\n",
       "      <td>0.139130</td>\n",
       "      <td>-0.083279</td>\n",
       "      <td>-0.080114</td>\n",
       "      <td>-0.262264</td>\n",
       "      <td>-0.073750</td>\n",
       "      <td>-0.119692</td>\n",
       "    </tr>\n",
       "    <tr>\n",
       "      <th>2001-11-30</th>\n",
       "      <td>0.045471</td>\n",
       "      <td>0.054962</td>\n",
       "      <td>0.045340</td>\n",
       "      <td>0.224517</td>\n",
       "      <td>0.181052</td>\n",
       "      <td>0.009593</td>\n",
       "      <td>0.139130</td>\n",
       "      <td>-0.262264</td>\n",
       "      <td>-0.073750</td>\n",
       "    </tr>\n",
       "    <tr>\n",
       "      <th>2001-12-31</th>\n",
       "      <td>0.064539</td>\n",
       "      <td>0.045275</td>\n",
       "      <td>0.070347</td>\n",
       "      <td>0.045471</td>\n",
       "      <td>0.131458</td>\n",
       "      <td>0.134010</td>\n",
       "      <td>0.224517</td>\n",
       "      <td>0.139130</td>\n",
       "      <td>-0.262264</td>\n",
       "    </tr>\n",
       "    <tr>\n",
       "      <th>2002-01-31</th>\n",
       "      <td>0.026359</td>\n",
       "      <td>0.073264</td>\n",
       "      <td>-0.003306</td>\n",
       "      <td>0.064539</td>\n",
       "      <td>0.054962</td>\n",
       "      <td>0.108697</td>\n",
       "      <td>0.045471</td>\n",
       "      <td>0.224517</td>\n",
       "      <td>0.139130</td>\n",
       "    </tr>\n",
       "  </tbody>\n",
       "</table>\n",
       "</div>"
      ],
      "text/plain": [
       "                   target_1m  target_2m  target_3m  return_1m  return_2m  \\\n",
       "ticker date                                                                \n",
       "A      2001-04-30  -0.140220  -0.087246  -0.098192   0.269444   0.040966   \n",
       "       2001-05-31  -0.031008  -0.076414  -0.075527  -0.140220   0.044721   \n",
       "       2001-06-30  -0.119692  -0.097014  -0.155847  -0.031008  -0.087246   \n",
       "       2001-07-31  -0.073750  -0.173364  -0.080114  -0.119692  -0.076414   \n",
       "       2001-08-31  -0.262264  -0.083279   0.009593  -0.073750  -0.097014   \n",
       "       2001-09-30   0.139130   0.181052   0.134010  -0.262264  -0.173364   \n",
       "       2001-10-31   0.224517   0.131458   0.108697   0.139130  -0.083279   \n",
       "       2001-11-30   0.045471   0.054962   0.045340   0.224517   0.181052   \n",
       "       2001-12-31   0.064539   0.045275   0.070347   0.045471   0.131458   \n",
       "       2002-01-31   0.026359   0.073264  -0.003306   0.064539   0.054962   \n",
       "\n",
       "                   return_3m  return_1m_t-1  return_1m_t-2  return_1m_t-3  \n",
       "ticker date                                                                \n",
       "A      2001-04-30  -0.105747      -0.146389      -0.340055      -0.003653  \n",
       "       2001-05-31  -0.023317       0.269444      -0.146389      -0.340055  \n",
       "       2001-06-30   0.018842      -0.140220       0.269444      -0.146389  \n",
       "       2001-07-31  -0.098192      -0.031008      -0.140220       0.269444  \n",
       "       2001-08-31  -0.075527      -0.119692      -0.031008      -0.140220  \n",
       "       2001-09-30  -0.155847      -0.073750      -0.119692      -0.031008  \n",
       "       2001-10-31  -0.080114      -0.262264      -0.073750      -0.119692  \n",
       "       2001-11-30   0.009593       0.139130      -0.262264      -0.073750  \n",
       "       2001-12-31   0.134010       0.224517       0.139130      -0.262264  \n",
       "       2002-01-31   0.108697       0.045471       0.224517       0.139130  "
      ]
     },
     "execution_count": 364,
     "metadata": {},
     "output_type": "execute_result"
    }
   ],
   "source": [
    "cols = ['target_1m',\n",
    "        'target_2m',\n",
    "        'target_3m', \n",
    "        'return_1m',\n",
    "        'return_2m',\n",
    "        'return_3m',\n",
    "        'return_1m_t-1',\n",
    "        'return_1m_t-2',\n",
    "        'return_1m_t-3']\n",
    "\n",
    "data[cols].dropna().sort_index().head(10)"
   ]
  },
  {
   "cell_type": "code",
   "execution_count": 365,
   "metadata": {},
   "outputs": [
    {
     "name": "stdout",
     "output_type": "stream",
     "text": [
      "<class 'pandas.core.frame.DataFrame'>\n",
      "MultiIndex: 465935 entries, ('A', Timestamp('2001-01-31 00:00:00')) to ('ZUMZ', Timestamp('2018-03-31 00:00:00'))\n",
      "Data columns (total 30 columns):\n",
      " #   Column         Non-Null Count   Dtype  \n",
      "---  ------         --------------   -----  \n",
      " 0   return_1m      465935 non-null  float64\n",
      " 1   return_2m      465935 non-null  float64\n",
      " 2   return_3m      465935 non-null  float64\n",
      " 3   return_6m      465935 non-null  float64\n",
      " 4   return_9m      465935 non-null  float64\n",
      " 5   return_12m     465935 non-null  float64\n",
      " 6   Mkt-RF         465935 non-null  float64\n",
      " 7   SMB            465935 non-null  float64\n",
      " 8   HML            465935 non-null  float64\n",
      " 9   RMW            465935 non-null  float64\n",
      " 10  CMA            465935 non-null  float64\n",
      " 11  momentum_2     465935 non-null  float64\n",
      " 12  momentum_3_12  465935 non-null  float64\n",
      " 13  momentum_3     465935 non-null  float64\n",
      " 14  momentum_6     465935 non-null  float64\n",
      " 15  momentum_9     465935 non-null  float64\n",
      " 16  momentum_12    465935 non-null  float64\n",
      " 17  year           465935 non-null  int32  \n",
      " 18  month          465935 non-null  int32  \n",
      " 19  return_1m_t-1  463550 non-null  float64\n",
      " 20  return_1m_t-2  461165 non-null  float64\n",
      " 21  return_1m_t-3  458780 non-null  float64\n",
      " 22  return_1m_t-4  456395 non-null  float64\n",
      " 23  return_1m_t-5  454010 non-null  float64\n",
      " 24  return_1m_t-6  451625 non-null  float64\n",
      " 25  target_1m      463550 non-null  float64\n",
      " 26  target_2m      461165 non-null  float64\n",
      " 27  target_3m      458780 non-null  float64\n",
      " 28  target_6m      451625 non-null  float64\n",
      " 29  target_12m     437315 non-null  float64\n",
      "dtypes: float64(28), int32(2)\n",
      "memory usage: 121.2+ MB\n"
     ]
    }
   ],
   "source": [
    "data.info()"
   ]
  },
  {
   "cell_type": "code",
   "execution_count": 366,
   "metadata": {},
   "outputs": [],
   "source": [
    "#Create age proxy\n",
    "#We use quintiles of IPO year as a proxy for company age."
   ]
  },
  {
   "cell_type": "code",
   "execution_count": 367,
   "metadata": {},
   "outputs": [],
   "source": [
    "data = (data\n",
    "        .join(pd.qcut(stocks['ipoyear'], q=5, labels=list(range(1, 6)))\n",
    "            .astype(float)\n",
    "            .fillna(0)\n",
    "            .astype(int)\n",
    "            .to_frame('age')))\n",
    "data.age = data.age.fillna(-1)"
   ]
  },
  {
   "cell_type": "code",
   "execution_count": 368,
   "metadata": {},
   "outputs": [],
   "source": [
    "#Create dynamic size proxy\n",
    "#We use the marketcap information from the NASDAQ ticker info to create a size proxy."
   ]
  },
  {
   "cell_type": "code",
   "execution_count": 369,
   "metadata": {},
   "outputs": [
    {
     "name": "stdout",
     "output_type": "stream",
     "text": [
      "<class 'pandas.core.frame.DataFrame'>\n",
      "Index: 843 entries, AAL to ZUMZ\n",
      "Data columns (total 3 columns):\n",
      " #   Column   Non-Null Count  Dtype  \n",
      "---  ------   --------------  -----  \n",
      " 0   mktcap   843 non-null    float64\n",
      " 1   ipoyear  447 non-null    float64\n",
      " 2   sector   836 non-null    object \n",
      "dtypes: float64(2), object(1)\n",
      "memory usage: 58.6+ KB\n"
     ]
    }
   ],
   "source": [
    "stocks.info()"
   ]
  },
  {
   "cell_type": "code",
   "execution_count": 370,
   "metadata": {},
   "outputs": [],
   "source": [
    "#Market cap information is tied to currrent prices. We create an adjustment factor \n",
    "#to have the values reflect lower historical prices for each individual stock:"
   ]
  },
  {
   "cell_type": "code",
   "execution_count": 371,
   "metadata": {},
   "outputs": [
    {
     "name": "stdout",
     "output_type": "stream",
     "text": [
      "<class 'pandas.core.frame.DataFrame'>\n",
      "DatetimeIndex: 207 entries, 2018-03-31 to 2001-01-31\n",
      "Columns: 2385 entries, A to ZUMZ\n",
      "dtypes: float64(2385)\n",
      "memory usage: 3.8 MB\n"
     ]
    }
   ],
   "source": [
    "size_factor = (monthly_prices\n",
    "            .loc[data.index.get_level_values('date').unique(),\n",
    "                data.index.get_level_values('ticker').unique()]\n",
    "            .sort_index(ascending=False)\n",
    "            .pct_change()\n",
    "            .fillna(0)\n",
    "            .add(1)\n",
    "            .cumprod())\n",
    "size_factor.info()"
   ]
  },
  {
   "cell_type": "code",
   "execution_count": 372,
   "metadata": {},
   "outputs": [
    {
     "name": "stdout",
     "output_type": "stream",
     "text": [
      "['A', 'AAL', 'AAN', 'AAON', 'AAP', 'AAPL', 'AAWW', 'ABAX', 'ABC', 'ABCB', 'ABCO', 'ABFS', 'ABG', 'ABM', 'ABMD', 'ABT', 'ACAD', 'ACAS', 'ACAT', 'ACC', 'ACCL', 'ACCO', 'ACE', 'ACET', 'ACFN', 'ACGL', 'ACHC', 'ACHN', 'ACI', 'ACIW', 'ACLS', 'ACN', 'ACO', 'ACOR', 'ACTG', 'ACXM', 'ADBE', 'ADC', 'ADI', 'ADM', 'ADP', 'ADS', 'ADSK', 'ADTN', 'ADVS', 'AE', 'AEC', 'AEE', 'AEGN', 'AEIS', 'AEL', 'AEO', 'AEP', 'AEPI', 'AES', 'AET', 'AF', 'AFAM', 'AFFX', 'AFG', 'AFL', 'AFOP', 'AFSI', 'AGCO', 'AGEN', 'AGII', 'AGM', 'AGN', 'AGO', 'AGX', 'AGYS', 'AHL', 'AHS', 'AHT', 'AI', 'AIG', 'AIMC', 'AIN', 'AINV', 'AIQ', 'AIR', 'AIRM', 'AIT', 'AIV', 'AIZ', 'AJG', 'AKAM', 'AKR', 'AKRX', 'AKS', 'ALB', 'ALCO', 'ALE', 'ALG', 'ALGN', 'ALGT', 'ALJ', 'ALK', 'ALKS', 'ALL', 'ALNY', 'ALOG', 'ALR', 'ALTR', 'ALX', 'ALXN', 'AMAG', 'AMAT', 'AMCC', 'AMD', 'AME', 'AMED', 'AMG', 'AMGN', 'AMKR', 'AMNB', 'AMP', 'AMRI', 'AMSC', 'AMSF', 'AMSG', 'AMSWA', 'AMT', 'AMTD', 'AMWD', 'AMZG', 'AMZN', 'AN', 'ANAD', 'ANAT', 'ANCX', 'ANDE', 'ANF', 'ANGO', 'ANH', 'ANIK', 'ANIP', 'ANN', 'ANR', 'ANSS', 'ANTM', 'AOI', 'AON', 'AOS', 'AP', 'APA', 'APAGF', 'APC', 'APD', 'APH', 'APL', 'APOG', 'APOL', 'APP', 'ARAY', 'ARC', 'ARCB', 'ARCC', 'ARCW', 'ARE', 'ARG', 'ARIA', 'ARII', 'ARNA', 'ARNC', 'ARO', 'AROW', 'ARQL', 'ARRS', 'ARRY', 'ARSD', 'ARTC', 'ARTNA', 'ARUN', 'ARW', 'ARWR', 'ASBC', 'ASEI', 'ASGN', 'ASH', 'ASNA', 'ASTE', 'ATEC', 'ATI', 'ATK', 'ATLO', 'ATMI', 'ATML', 'ATNI', 'ATNY', 'ATO', 'ATR', 'ATRC', 'ATRI', 'ATRO', 'ATRS', 'ATSG', 'ATU', 'ATVI', 'ATW', 'AUXL', 'AVA', 'AVAV', 'AVB', 'AVD', 'AVHI', 'AVNR', 'AVNW', 'AVP', 'AVT', 'AVX', 'AVY', 'AWH', 'AWI', 'AWR', 'AXAS', 'AXDX', 'AXE', 'AXL', 'AXLL', 'AXP', 'AXS', 'AYI', 'AYR', 'AZO', 'AZPN', 'AZZ', 'B', 'BA', 'BABY', 'BAC', 'BANC', 'BANF', 'BANR', 'BAS', 'BAX', 'BBBY', 'BBCN', 'BBG', 'BBGI', 'BBNK', 'BBOX', 'BBSI', 'BBT', 'BBW', 'BBX', 'BBY', 'BC', 'BCO', 'BCOR', 'BCPC', 'BCR', 'BCRX', 'BDC', 'BDE', 'BDGE', 'BDN', 'BDSI', 'BDX', 'BEAM', 'BEAV', 'BEBE', 'BECN', 'BEE', 'BELFB', 'BEN', 'BFIN', 'BFS', 'BF_B', 'BG', 'BGC', 'BGCP', 'BGFV', 'BGG', 'BH', 'BHB', 'BHE', 'BHI', 'BHLB', 'BID', 'BIDU', 'BIG', 'BIIB', 'BIO', 'BIOL', 'BIOS', 'BIRT', 'BJRI', 'BK', 'BKD', 'BKE', 'BKH', 'BKMU', 'BKS', 'BKYF', 'BLDR', 'BLK', 'BLKB', 'BLL', 'BLT', 'BLX', 'BMI', 'BMR', 'BMRC', 'BMRN', 'BMS', 'BMTC', 'BMY', 'BNCN', 'BOBE', 'BOFI', 'BOH', 'BOKF', 'BOLT', 'BONT', 'BOOM', 'BP', 'BPFH', 'BPOP', 'BPZ', 'BRC', 'BRCD', 'BRCM', 'BREW', 'BRKL', 'BRKR', 'BRKS', 'BRK_A', 'BRK_B', 'BRLI', 'BRO', 'BRS', 'BRT', 'BSET', 'BSRR', 'BSTC', 'BSX', 'BTH', 'BTU', 'BTX', 'BUSE', 'BWA', 'BWINB', 'BWLD', 'BWS', 'BXC', 'BXP', 'BXS', 'BYD', 'BYI', 'BZH', 'C', 'CA', 'CAB', 'CAC', 'CACB', 'CACC', 'CACI', 'CAG', 'CAH', 'CAKE', 'CALD', 'CALL', 'CALM', 'CAM', 'CAMP', 'CAR', 'CAS', 'CASH', 'CASS', 'CASY', 'CAT', 'CATO', 'CATY', 'CB', 'CBB', 'CBEY', 'CBG', 'CBI', 'CBK', 'CBL', 'CBM', 'CBR', 'CBRL', 'CBS', 'CBSH', 'CBST', 'CBT', 'CBU', 'CBZ', 'CCBG', 'CCC', 'CCE', 'CCF', 'CCI', 'CCK', 'CCL', 'CCMP', 'CCNE', 'CCO', 'CCOI', 'CCRN', 'CDE', 'CDI', 'CDNS', 'CDR', 'CE', 'CEB', 'CECE', 'CECO', 'CELG', 'CENTA', 'CENX', 'CERN', 'CERS', 'CETV', 'CEVA', 'CF', 'CFFI', 'CFFN', 'CFI', 'CFNB', 'CFNL', 'CFR', 'CGI', 'CGNX', 'CHCO', 'CHD', 'CHDN', 'CHDX', 'CHE', 'CHFC', 'CHFN', 'CHH', 'CHK', 'CHKP', 'CHMG', 'CHRW', 'CHS', 'CHTP', 'CI', 'CIA', 'CIDM', 'CIEN', 'CIFC', 'CINF', 'CIR', 'CIX', 'CKEC', 'CKH', 'CKP', 'CL', 'CLC', 'CLCT', 'CLDX', 'CLF', 'CLFD', 'CLGX', 'CLH', 'CLI', 'CLMS', 'CLUB', 'CLX', 'CMA', 'CMC', 'CMCO', 'CMCSA', 'CMCSK', 'CME', 'CMG', 'CMI', 'CMLS', 'CMN', 'CMO', 'CMP', 'CMS', 'CMTL', 'CNA', 'CNBC', 'CNBKA', 'CNC', 'CNL', 'CNMD', 'CNO', 'CNOB', 'CNP', 'CNQR', 'CNS', 'CNSL', 'CNVR', 'CNW', 'CNX', 'COB', 'COBZ', 'COCO', 'COF', 'COG', 'COH', 'COHR', 'COHU', 'COKE', 'COL', 'COLB', 'COLM', 'CONN', 'COO', 'COP', 'CORE', 'CORR', 'CORT', 'COST', 'COWN', 'CPA', 'CPB', 'CPE', 'CPF', 'CPHD', 'CPK', 'CPLA', 'CPRT', 'CPSI', 'CPSS', 'CPST', 'CPT', 'CPWR', 'CQB', 'CR', 'CRAI', 'CRAY', 'CRD_B', 'CREE', 'CRI', 'CRIS', 'CRK', 'CRL', 'CRM', 'CRMT', 'CROX', 'CRR', 'CRRC', 'CRRS', 'CRS', 'CRUS', 'CRVL', 'CRWN', 'CRY', 'CRZO', 'CSBK', 'CSC', 'CSCD', 'CSCO', 'CSE', 'CSFL', 'CSGP', 'CSGS', 'CSH', 'CSII', 'CSL', 'CSS', 'CSU', 'CSV', 'CSWC', 'CSX', 'CTAS', 'CTB', 'CTBI', 'CTG', 'CTIC', 'CTL', 'CTO', 'CTRN', 'CTRX', 'CTS', 'CTSH', 'CTWS', 'CTXS', 'CUB', 'CUBE', 'CUI', 'CUNB', 'CUR', 'CUTR', 'CUZ', 'CVA', 'CVBF', 'CVC', 'CVCO', 'CVD', 'CVG', 'CVGI', 'CVGW', 'CVLT', 'CVO', 'CVS', 'CVX', 'CW', 'CWCO', 'CWEI', 'CWST', 'CWT', 'CXW', 'CY', 'CYBX', 'CYH', 'CYN', 'CYNO', 'CYT', 'CYTK', 'CYTR', 'CYTX', 'CZNC', 'D', 'DAKT', 'DAR', 'DAVE', 'DBD', 'DCI', 'DCO', 'DCOM', 'DCT', 'DD', 'DDD', 'DDR', 'DDS', 'DE', 'DECK', 'DEI', 'DEL', 'DELL', 'DENN', 'DEPO', 'DEST', 'DF', 'DFZ', 'DGAS', 'DGICA', 'DGII', 'DGX', 'DHI', 'DHIL', 'DHR', 'DHT', 'DIN', 'DIOD', 'DIS', 'DISCA', 'DISH', 'DJCO', 'DK', 'DKS', 'DLB', 'DLLR', 'DLR', 'DLTR', 'DLX', 'DMND', 'DMRC', 'DNB', 'DNDN', 'DNR', 'DO', 'DORM', 'DOV', 'DOW', 'DOX', 'DPZ', 'DRC', 'DRE', 'DRH', 'DRI', 'DRIV', 'DRL', 'DRQ', 'DSCI', 'DSPG', 'DST', 'DSW', 'DTE', 'DTLK', 'DTSI', 'DTV', 'DUK', 'DV', 'DVA', 'DVAX', 'DVN', 'DVR', 'DW', 'DWA', 'DWSN', 'DX', 'DXCM', 'DXLG', 'DXPE', 'DXYN', 'DY', 'DYAX', 'EA', 'EAT', 'EBAY', 'EBF', 'EBIX', 'EBS', 'EBTC', 'ECL', 'ECOL', 'ECPG', 'ED', 'EDE', 'EDIG', 'EDR', 'EE', 'EEFT', 'EFII', 'EFSC', 'EFX', 'EGAN', 'EGBN', 'EGHT', 'EGN', 'EGOV', 'EGP', 'EGY', 'EHTH', 'EIG', 'EIX', 'EL', 'ELGX', 'ELNK', 'ELRC', 'ELS', 'ELX', 'ELY', 'EMC', 'EMCI', 'EME', 'EMN', 'EMR', 'END', 'ENDP', 'ENH', 'ENR', 'ENS', 'ENTG', 'ENVE', 'ENZ', 'ENZN', 'EOG', 'EOX', 'EPAY', 'EPIQ', 'EPM', 'EPR', 'EQIX', 'EQR', 'EQT', 'EQU', 'EQY', 'ERIE', 'ES', 'ESBF', 'ESC', 'ESCA', 'ESE', 'ESGR', 'ESI', 'ESIO', 'ESL', 'ESRX', 'ESS', 'ESV', 'ETFC', 'ETH', 'ETM', 'ETN', 'ETR', 'EV', 'EVC', 'EVR', 'EW', 'EWBC', 'EXAC', 'EXAR', 'EXAS', 'EXC', 'EXEL', 'EXLS', 'EXP', 'EXPD', 'EXPE', 'EXPO', 'EXR', 'EXTR', 'EZPW', 'F', 'FARM', 'FARO', 'FAST', 'FBC', 'FBIZ', 'FBNC', 'FBP', 'FC', 'FCBC', 'FCEL', 'FCE_A', 'FCF', 'FCFS', 'FCH', 'FCN', 'FCNCA', 'FCS', 'FCX', 'FDEF', 'FDO', 'FDP', 'FDS', 'FDX', 'FE', 'FEIC', 'FELE', 'FFBC', 'FFBH', 'FFG', 'FFIC', 'FFIN', 'FFIV', 'FFKT', 'FHCO', 'FHN', 'FICO', 'FII', 'FINL', 'FIS', 'FISI', 'FISV', 'FITB', 'FIX', 'FIZZ', 'FL', 'FLIC', 'FLIR', 'FLO', 'FLR', 'FLS', 'FLWS', 'FLXS', 'FMBI', 'FMC', 'FMD', 'FMER', 'FNB', 'FNF', 'FNFG', 'FNHC', 'FNLC', 'FNSR', 'FOE', 'FORM', 'FORR', 'FOSL', 'FOX', 'FOXA', 'FPO', 'FR', 'FRBK', 'FRED', 'FRM', 'FRME', 'FRO', 'FRT', 'FRX', 'FSGI', 'FSLR', 'FSP', 'FSS', 'FST', 'FSTR', 'FSYS', 'FTI', 'FTK', 'FTR', 'FUL', 'FULT', 'FUR', 'FVE', 'FWRD', 'FXCB', 'FXEN', 'GABC', 'GAIA', 'GAIN', 'GALT', 'GAS', 'GB', 'GBCI', 'GBL', 'GBLI', 'GBNK', 'GBX', 'GCA', 'GCI', 'GCO', 'GD', 'GDP', 'GE', 'GEF', 'GEO', 'GEOS', 'GERN', 'GES', 'GFF', 'GFIG', 'GFN', 'GGG', 'GGP', 'GHC', 'GHDX', 'GHL', 'GHM', 'GIFI', 'GIII', 'GILD', 'GIS', 'GK', 'GLAD', 'GLDD', 'GLF', 'GLNG', 'GLT', 'GLUU', 'GLW', 'GMCR', 'GME', 'GMO', 'GMT', 'GNCMA', 'GNTX', 'GNW', 'GOLD', 'GOOD', 'GOOGL', 'GORO', 'GPC', 'GPI', 'GPK', 'GPN', 'GPOR', 'GPRE', 'GPS', 'GPT', 'GPX', 'GRA', 'GRC', 'GRIF', 'GRMN', 'GRT', 'GS', 'GSBC', 'GSIG', 'GSIT', 'GSOL', 'GST', 'GT', 'GTI', 'GTIV', 'GTLS', 'GTN', 'GTT', 'GTXI', 'GTY', 'GUID', 'GVA', 'GWR', 'GWW', 'GXP', 'GY', 'HA', 'HAE', 'HAFC', 'HAIN', 'HAL', 'HALL', 'HALO', 'HAR', 'HAS', 'HAYN', 'HBAN', 'HBHC', 'HBI', 'HBIO', 'HBNC', 'HCBK', 'HCC', 'HCKT', 'HCN', 'HCP', 'HCSG', 'HD', 'HDNG', 'HE', 'HEES', 'HEI', 'HELE', 'HEOP', 'HERO', 'HES', 'HF', 'HFC', 'HFWA', 'HGR', 'HHS', 'HIBB', 'HIFS', 'HIG', 'HIL', 'HILL', 'HITK', 'HITT', 'HIW', 'HK', 'HL', 'HLF', 'HLIT', 'HLS', 'HLX', 'HME', 'HMN', 'HMPR', 'HMSY', 'HNH', 'HNI', 'HNR', 'HNRG', 'HNT', 'HOFT', 'HOG', 'HOLX', 'HOMB', 'HON', 'HOS', 'HOT', 'HOV', 'HP', 'HPQ', 'HPT', 'HPY', 'HR', 'HRB', 'HRC', 'HRG', 'HRL', 'HRS', 'HRTX', 'HSC', 'HSH', 'HSIC', 'HSII', 'HSP', 'HST', 'HSTM', 'HSY', 'HT', 'HTBK', 'HTCH', 'HTCO', 'HTGC', 'HTH', 'HTLD', 'HTLF', 'HTZ', 'HUBG', 'HUB_B', 'HUM', 'HUN', 'HURC', 'HURN', 'HVB', 'HVT', 'HW', 'HWAY', 'HWCC', 'HWKN', 'HXL', 'HZO', 'IACI', 'IART', 'IBCA', 'IBKC', 'IBM', 'IBOC', 'ICE', 'ICFI', 'ICGE', 'ICON', 'ICUI', 'IDA', 'IDCC', 'IDIX', 'IDRA', 'IDT', 'IDTI', 'IDXX', 'IEX', 'IFF', 'IG', 'IGT', 'IGTE', 'IHC', 'IHS', 'III', 'IIIN', 'IIVI', 'ILMN', 'IM', 'IMGN', 'IMKTA', 'IMMR', 'IMMU', 'IMN', 'INAP', 'INCY', 'INDB', 'INFA', 'INFI', 'INGR', 'ININ', 'INO', 'INSM', 'INSY', 'INT', 'INTC', 'INTL', 'INTU', 'INTX', 'INWK', 'IO', 'IOSP', 'IP', 'IPAR', 'IPCC', 'IPG', 'IPGP', 'IPHS', 'IPXL', 'IR', 'IRBT', 'IRC', 'IRET', 'IRF', 'IRM', 'ISBC', 'ISCA', 'ISH', 'ISIL', 'ISIS', 'ISLE', 'ISRG', 'ISRL', 'ISSC', 'ISSI', 'IT', 'ITC', 'ITG', 'ITIC', 'ITMN', 'ITRI', 'ITT', 'ITW', 'IVAC', 'IVC', 'IVZ', 'IXYS', 'JACK', 'JAH', 'JAKK', 'JBHT', 'JBL', 'JBLU', 'JBSS', 'JCI', 'JCOM', 'JCP', 'JDSU', 'JEC', 'JJSF', 'JKHY', 'JLL', 'JMBA', 'JNJ', 'JNPR', 'JNS', 'JNY', 'JOE', 'JOUT', 'JOY', 'JPM', 'JRN', 'JWN', 'JW_A', 'K', 'KAI', 'KALU', 'KAMN', 'KBALB', 'KBH', 'KBR', 'KCLI', 'KEG', 'KELYA', 'KEM', 'KERX', 'KEX', 'KEY', 'KFRC', 'KFY', 'KIM', 'KIRK', 'KKD', 'KLAC', 'KMB', 'KMG', 'KMPR', 'KMT', 'KMX', 'KND', 'KNL', 'KNX', 'KO', 'KOG', 'KOP', 'KOPN', 'KR', 'KRC', 'KRG', 'KRNY', 'KRO', 'KS', 'KSS', 'KSU', 'KTOS', 'KVHI', 'KWK', 'KWR', 'L', 'LABL', 'LAD', 'LAMR', 'LANC', 'LAYN', 'LAZ', 'LB', 'LBAI', 'LBTYA', 'LBY', 'LCI', 'LCNB', 'LCUT', 'LDL', 'LDOS', 'LDR', 'LECO', 'LEE', 'LEG', 'LEN', 'LF', 'LFUS', 'LFVN', 'LG', 'LGF', 'LGND', 'LH', 'LHCG', 'LHO', 'LII', 'LINC', 'LINTA', 'LION', 'LIOX', 'LKFN', 'LKQ', 'LLL', 'LLTC', 'LLY', 'LM', 'LMIA', 'LMNR', 'LMNX', 'LMT', 'LNC', 'LNCE', 'LNDC', 'LNG', 'LNN', 'LNT', 'LORL', 'LOV', 'LOW', 'LPNT', 'LPSN', 'LPX', 'LQDT', 'LRCX', 'LSCC', 'LSI', 'LSTR', 'LTC', 'LTM', 'LTS', 'LTXC', 'LUB', 'LUK', 'LUV', 'LVLT', 'LVS', 'LWAY', 'LXK', 'LXP', 'LXRX', 'LXU', 'LYTS', 'LYV', 'LZB', 'M', 'MA', 'MAA', 'MAC', 'MAN', 'MANH', 'MANT', 'MAR', 'MAS', 'MAT', 'MATW', 'MATX', 'MBFI', 'MBI', 'MBRG', 'MBVT', 'MBWM', 'MCBC', 'MCD', 'MCF', 'MCGC', 'MCHP', 'MCHX', 'MCK', 'MCO', 'MCRI', 'MCRL', 'MCRS', 'MCS', 'MCY', 'MD', 'MDC', 'MDCA', 'MDCI', 'MDCO', 'MDLZ', 'MDP', 'MDR', 'MDRX', 'MDT', 'MDU', 'MDVN', 'MEAS', 'MED', 'MEG', 'MEI', 'MEIP', 'MENT', 'MET', 'METR', 'MFA', 'MFLX', 'MGAM', 'MGEE', 'MGI', 'MGLN', 'MGM', 'MGRC', 'MHFI', 'MHGC', 'MHK', 'MHO', 'MHR', 'MIDD', 'MIG', 'MIL', 'MILL', 'MIND', 'MINI', 'MITK', 'MKC', 'MKL', 'MKSI', 'MKTX', 'MLAB', 'MLHR', 'MLI', 'MLM', 'MLNK', 'MLR', 'MMC', 'MMM', 'MMS', 'MMSI', 'MNI', 'MNKD', 'MNR', 'MNRO', 'MNST', 'MNTA', 'MNTX', 'MO', 'MOD', 'MOG_A', 'MOH', 'MON', 'MORN', 'MOS', 'MOSY', 'MOV', 'MOVE', 'MPAA', 'MPW', 'MPWR', 'MPX', 'MRCY', 'MRGE', 'MRH', 'MRK', 'MRLN', 'MRO', 'MRTN', 'MRVL', 'MS', 'MSA', 'MSCC', 'MSEX', 'MSFG', 'MSFT', 'MSI', 'MSL', 'MSM', 'MSO', 'MSTR', 'MTB', 'MTD', 'MTG', 'MTH', 'MTN', 'MTOR', 'MTRN', 'MTRX', 'MTSC', 'MTW', 'MTX', 'MTZ', 'MU', 'MUR', 'MVC', 'MW', 'MWA', 'MWIV', 'MWV', 'MWW', 'MXIM', 'MXWL', 'MYE', 'MYGN', 'MYL', 'NANO', 'NASB', 'NAT', 'NATH', 'NATI', 'NATL', 'NAV', 'NAVB', 'NAVG', 'NBBC', 'NBIX', 'NBL', 'NBR', 'NBS', 'NBTB', 'NC', 'NCI', 'NCMI', 'NCR', 'NCS', 'NDAQ', 'NDSN', 'NE', 'NEE', 'NEM', 'NEO', 'NEOG', 'NEON', 'NEU', 'NEWP', 'NEWS', 'NFG', 'NFLX', 'NFX', 'NGPC', 'NGS', 'NHC', 'NHI', 'NI', 'NICK', 'NILE', 'NJR', 'NKE', 'NKSH', 'NKTR', 'NL', 'NLS', 'NLY', 'NM', 'NMRX', 'NNBR', 'NNI', 'NNVC', 'NOC', 'NOV', 'NP', 'NPBC', 'NPK', 'NPO', 'NPSP', 'NR', 'NRG', 'NRIM', 'NSC', 'NSIT', 'NSP', 'NSR', 'NTAP', 'NTCT', 'NTGR', 'NTLS', 'NTRI', 'NTRS', 'NU', 'NUAN', 'NUE', 'NUS', 'NUTR', 'NUVA', 'NVAX', 'NVDA', 'NVEC', 'NVR', 'NWBI', 'NWBO', 'NWL', 'NWLI', 'NWN', 'NWPX', 'NWY', 'NX', 'NXST', 'NXTM', 'NYCB', 'NYMT', 'NYNY', 'NYT', 'O', 'OB', 'OC', 'OCFC', 'OCLR', 'OCN', 'OCR', 'ODC', 'ODFL', 'ODP', 'OEH', 'OFC', 'OFG', 'OFIX', 'OFLX', 'OGE', 'OGXI', 'OHI', 'OI', 'OII', 'OIS', 'OKE', 'OKSB', 'OLBK', 'OLED', 'OLN', 'OLP', 'OMC', 'OMCL', 'OME', 'OMEX', 'OMG', 'OMI', 'OMN', 'ONB', 'ONNN', 'ONTY', 'OPK', 'OPLK', 'OPY', 'ORA', 'ORB', 'ORBC', 'ORCL', 'ORI', 'ORIT', 'ORLY', 'OSIR', 'OSIS', 'OSK', 'OSTK', 'OSUR', 'OTTR', 'OUTR', 'OVTI', 'OXM', 'OXY', 'OZRK', 'PACR', 'PACW', 'PAG', 'PATK', 'PATR', 'PAY', 'PAYX', 'PB', 'PBCT', 'PBH', 'PBI', 'PBY', 'PCAR', 'PCBK', 'PCCC', 'PCG', 'PCH', 'PCL', 'PCLN', 'PCO', 'PCP', 'PCTI', 'PCYC', 'PCYG', 'PCYO', 'PDCE', 'PDCO', 'PDFS', 'PDLI', 'PEBO', 'PEG', 'PEGA', 'PEI', 'PEIX', 'PENN', 'PENX', 'PEP', 'PERI', 'PERY', 'PES', 'PETM', 'PETS', 'PFBC', 'PFE', 'PFG', 'PFIS', 'PFS', 'PG', 'PGC', 'PGI', 'PGNX', 'PGR', 'PGTI', 'PH', 'PHH', 'PHIIK', 'PHM', 'PHMD', 'PHX', 'PICO', 'PII', 'PIKE', 'PIR', 'PJC', 'PKD', 'PKE', 'PKG', 'PKI', 'PKOH', 'PKT', 'PKY', 'PL', 'PLAB', 'PLCE', 'PLCM', 'PLD', 'PLKI', 'PLL', 'PLPC', 'PLT', 'PLUG', 'PLUS', 'PLXS', 'PLXT', 'PMCS', 'PMFG', 'PNC', 'PNFP', 'PNK', 'PNM', 'PNR', 'PNRA', 'PNW', 'PNX', 'PNY', 'POL', 'POM', 'POOL', 'POR', 'POWI', 'POWL', 'POWR', 'POZN', 'PPBI', 'PPC', 'PPG', 'PPHM', 'PPL', 'PPS', 'PQ', 'PRA', 'PRAA', 'PRE', 'PRFT', 'PRGO', 'PRGS', 'PRGX', 'PRK', 'PRKR', 'PROV', 'PRSC', 'PRU', 'PRXL', 'PSA', 'PSB', 'PSEC', 'PSEM', 'PSMT', 'PSTB', 'PSUN', 'PTEN', 'PTIE', 'PTP', 'PTRY', 'PTSI', 'PTX', 'PVA', 'PVH', 'PVTB', 'PWOD', 'PWR', 'PX', 'PXD', 'PZG', 'PZZA', 'QCOM', 'QCOR', 'QDEL', 'QGEN', 'QLGC', 'QLTY', 'QSII', 'QTM', 'QUIK', 'R', 'RAD', 'RAI', 'RAIL', 'RAS', 'RAVN', 'RBC', 'RBCAA', 'RCII', 'RCKB', 'RCL', 'RDC', 'RDEN', 'RDI', 'RDN', 'RDNT', 'RE', 'RECN', 'REG', 'REGN', 'REIS', 'RELL', 'RENT', 'RES', 'REV', 'REX', 'REXI', 'RF', 'RFMD', 'RGC', 'RGEN', 'RGLD', 'RGR', 'RGS', 'RHI', 'RHP', 'RHT', 'RIG', 'RIGL', 'RJET', 'RJF', 'RKT', 'RL', 'RLI', 'RMBS', 'RMD', 'RMTI', 'RNR', 'RNST', 'RNWK', 'ROC', 'ROCK', 'ROG', 'ROIAK', 'ROK', 'ROL', 'ROLL', 'ROP', 'ROSE', 'ROST', 'ROVI', 'RPM', 'RPRX', 'RPT', 'RPTP', 'RRC', 'RRD', 'RRGB', 'RS', 'RSG', 'RSH', 'RSO', 'RSTI', 'RSYS', 'RT', 'RTEC', 'RTI', 'RTIX', 'RTK', 'RTN', 'RUSHA', 'RUTH', 'RVBD', 'RVLT', 'RWT', 'RYL', 'RYN', 'S', 'SAAS', 'SAFM', 'SAFT', 'SAH', 'SAIA', 'SALM', 'SAM', 'SANM', 'SAPE', 'SASR', 'SBAC', 'SBCF', 'SBGI', 'SBH', 'SBNY', 'SBRA', 'SBSI', 'SBUX', 'SCBT', 'SCCO', 'SCG', 'SCHL', 'SCHN', 'SCHW', 'SCI', 'SCL', 'SCLN', 'SCS', 'SCSC', 'SCSS', 'SCVL', 'SDRL', 'SE', 'SEAC', 'SEB', 'SEE', 'SEIC', 'SENEA', 'SF', 'SFE', 'SFG', 'SFL', 'SFLY', 'SFNC', 'SFY', 'SGA', 'SGEN', 'SGI', 'SGK', 'SGMO', 'SGMS', 'SGY', 'SHEN', 'SHLD', 'SHLM', 'SHLO', 'SHO', 'SHOO', 'SHW', 'SIAL', 'SIF', 'SIG', 'SIGA', 'SIGI', 'SIGM', 'SIMG', 'SIRI', 'SIRO', 'SIVB', 'SJI', 'SJM', 'SJW', 'SKT', 'SKX', 'SKYW', 'SLAB', 'SLB', 'SLG', 'SLGN', 'SLM', 'SLXP', 'SM', 'SMA', 'SMCI', 'SMG', 'SMP', 'SMRT', 'SMTC', 'SNA', 'SNAK', 'SNBC', 'SNCR', 'SNDK', 'SNH', 'SNHY', 'SNMX', 'SNPS', 'SNSS', 'SNTA', 'SNV', 'SNX', 'SO', 'SON', 'SONC', 'SONS', 'SP', 'SPA', 'SPAR', 'SPDC', 'SPF', 'SPG', 'SPLS', 'SPN', 'SPNC', 'SPNS', 'SPPI', 'SPR', 'SPRT', 'SPTN', 'SPW', 'SPWR', 'SQBG', 'SQNM', 'SRCE', 'SRCL', 'SRDX', 'SRE', 'SRI', 'SRPT', 'SSD', 'SSI', 'SSP', 'SSS', 'SSYS', 'STAA', 'STAR', 'STBA', 'STC', 'STE', 'STFC', 'STI', 'STJ', 'STL', 'STLD', 'STMP', 'STNR', 'STR', 'STRA', 'STRL', 'STRT', 'STRZA', 'STSA', 'STSI', 'STT', 'STX', 'STZ', 'SUBK', 'SUI', 'SUNE', 'SUP', 'SUPX', 'SUSQ', 'SUSS', 'SVU', 'SWC', 'SWHC', 'SWK', 'SWKS', 'SWM', 'SWN', 'SWS', 'SWX', 'SWY', 'SXI', 'SXT', 'SYBT', 'SYK', 'SYKE', 'SYMC', 'SYNA', 'SYNT', 'SYUT', 'SYX', 'SYY', 'T', 'TAM', 'TAP', 'TASR', 'TAST', 'TAXI', 'TAYC', 'TBBK', 'TBI', 'TCAP', 'TCB', 'TCBI', 'TCBK', 'TCO', 'TDG', 'TDS', 'TDW', 'TDY', 'TE', 'TEAR', 'TECD', 'TECH', 'TECUA', 'TEG', 'TEN', 'TER', 'TESO', 'TESS', 'TEX', 'TFX', 'TG', 'TGE', 'TGI', 'TGNA', 'TGT', 'THC', 'THFF', 'THG', 'THLD', 'THO', 'THOR', 'THRM', 'THRX', 'THS', 'TIBX', 'TICC', 'TIF', 'TILE', 'TIS', 'TISI', 'TIVO', 'TJX', 'TK', 'TKR', 'TMK', 'TMO', 'TMP', 'TNC', 'TOL', 'TOWN', 'TPC', 'TPLM', 'TPX', 'TQNT', 'TR', 'TRAK', 'TRC', 'TREC', 'TREX', 'TRGT', 'TRI', 'TRK', 'TRMB', 'TRMK', 'TRN', 'TROW', 'TRR', 'TRST', 'TRUE', 'TRV', 'TRW', 'TRXC', 'TSCO', 'TSN', 'TSO', 'TSRA', 'TSS', 'TSYS', 'TTC', 'TTEC', 'TTEK', 'TTI', 'TTMI', 'TTWO', 'TUES', 'TUP', 'TW', 'TWC', 'TWER', 'TWGP', 'TWI', 'TWIN', 'TWMC', 'TWTC', 'TWX', 'TXI', 'TXN', 'TXRH', 'TXT', 'TYC', 'TYL', 'TZOO', 'UAA', 'UACL', 'UAL', 'UAM', 'UBA', 'UBNK', 'UBSH', 'UBSI', 'UCBI', 'UCFC', 'UCTT', 'UDR', 'UEIC', 'UFCS', 'UFI', 'UFPI', 'UFPT', 'UFS', 'UGI', 'UHAL', 'UHS', 'UHT', 'UIL', 'UIS', 'ULTI', 'ULTR', 'UMBF', 'UMH', 'UMPQ', 'UNF', 'UNFI', 'UNH', 'UNM', 'UNP', 'UNS', 'UNT', 'UNTD', 'UNXL', 'UPIP', 'UPL', 'UPS', 'URBN', 'URI', 'URS', 'USAK', 'USAP', 'USB', 'USG', 'USLM', 'USM', 'USMO', 'USNA', 'USPH', 'USTR', 'UTEK', 'UTHR', 'UTI', 'UTIW', 'UTL', 'UTMD', 'UTX', 'UVE', 'UVSP', 'UVV', 'VAL', 'VAR', 'VASC', 'VDSI', 'VECO', 'VFC', 'VG', 'VGR', 'VHC', 'VIAB', 'VIAS', 'VICL', 'VICR', 'VIVO', 'VLCCF', 'VLGEA', 'VLO', 'VLY', 'VMC', 'VMI', 'VNDA', 'VNO', 'VOCS', 'VOD', 'VOLC', 'VOXX', 'VPFG', 'VPRT', 'VRNT', 'VRSN', 'VRTX', 'VRX', 'VSAT', 'VSEC', 'VSH', 'VTNR', 'VTR', 'VTSS', 'VVC', 'VVI', 'VVTV', 'VVUS', 'VZ', 'WAB', 'WABC', 'WAC', 'WAFD', 'WAG', 'WAL', 'WASH', 'WAT', 'WBA', 'WBCO', 'WBMD', 'WBS', 'WCC', 'WCG', 'WCN', 'WDC', 'WDFC', 'WDR', 'WEC', 'WEN', 'WERN', 'WETF', 'WEX', 'WEYS', 'WFC', 'WFD', 'WFM', 'WG', 'WGL', 'WGO', 'WHG', 'WHR', 'WIBC', 'WIN', 'WINA', 'WIRE', 'WLB', 'WLK', 'WLL', 'WLT', 'WM', 'WMAR', 'WMB', 'WMGI', 'WMK', 'WMT', 'WNC', 'WNR', 'WOOF', 'WOR', 'WPP', 'WR', 'WRB', 'WRE', 'WRES', 'WRI', 'WRLD', 'WSBC', 'WSBF', 'WSFS', 'WSM', 'WSO', 'WST', 'WSTL', 'WTBA', 'WTFC', 'WTI', 'WTM', 'WTR', 'WTS', 'WTSL', 'WTW', 'WU', 'WWD', 'WWE', 'WWW', 'WWWW', 'WY', 'WYN', 'WYNN', 'X', 'XCO', 'XCRA', 'XEC', 'XEL', 'XL', 'XLNX', 'XNPT', 'XOM', 'XOMA', 'XOXO', 'XPO', 'XRAY', 'XRM', 'XRX', 'XXIA', 'Y', 'YHOO', 'YORW', 'YRCW', 'YUM', 'ZAZA', 'ZBH', 'ZBRA', 'ZEUS', 'ZIGO', 'ZION', 'ZIOP', 'ZIXI', 'ZLC', 'ZMH', 'ZQK', 'ZUMZ']\n"
     ]
    }
   ],
   "source": [
    "cols_list=size_factor.columns.to_list()\n",
    "print(cols_list)"
   ]
  },
  {
   "cell_type": "code",
   "execution_count": 373,
   "metadata": {},
   "outputs": [
    {
     "name": "stdout",
     "output_type": "stream",
     "text": [
      "              mktcap  ipoyear                  sector\n",
      "ticker                                               \n",
      "AAL     9.218958e+09      NaN  Consumer Discretionary\n",
      "AAOI    3.755862e+08   2013.0              Technology\n",
      "AAON    5.282579e+09      NaN             Industrials\n",
      "AAPL    2.812442e+12   1980.0              Technology\n",
      "ABCB    2.691592e+09   1994.0                 Finance\n",
      "...              ...      ...                     ...\n",
      "Z       1.195562e+10      NaN  Consumer Discretionary\n",
      "ZBRA    1.313107e+10   1991.0             Industrials\n",
      "ZEUS    5.535100e+08   1994.0             Industrials\n",
      "ZION    5.156191e+09      NaN                 Finance\n",
      "ZUMZ    3.473393e+08   2005.0  Consumer Discretionary\n",
      "\n",
      "[843 rows x 3 columns]\n"
     ]
    }
   ],
   "source": [
    "print(stocks)"
   ]
  },
  {
   "cell_type": "code",
   "execution_count": 374,
   "metadata": {},
   "outputs": [],
   "source": [
    "stocks=stocks.reset_index()"
   ]
  },
  {
   "cell_type": "code",
   "execution_count": 375,
   "metadata": {},
   "outputs": [
    {
     "name": "stdout",
     "output_type": "stream",
     "text": [
      "<class 'pandas.core.frame.DataFrame'>\n",
      "RangeIndex: 843 entries, 0 to 842\n",
      "Data columns (total 4 columns):\n",
      " #   Column   Non-Null Count  Dtype  \n",
      "---  ------   --------------  -----  \n",
      " 0   ticker   843 non-null    object \n",
      " 1   mktcap   843 non-null    float64\n",
      " 2   ipoyear  447 non-null    float64\n",
      " 3   sector   836 non-null    object \n",
      "dtypes: float64(2), object(2)\n",
      "memory usage: 26.5+ KB\n"
     ]
    }
   ],
   "source": [
    "stocks.info()"
   ]
  },
  {
   "cell_type": "code",
   "execution_count": 376,
   "metadata": {},
   "outputs": [],
   "source": [
    "new_stocks = stocks.loc[~stocks['ticker'].isin(cols_list)]"
   ]
  },
  {
   "cell_type": "code",
   "execution_count": 377,
   "metadata": {},
   "outputs": [],
   "source": [
    "msize = (size_factor.mul(new_stocks).dropna(axis=1, how='all'))"
   ]
  },
  {
   "cell_type": "code",
   "execution_count": 378,
   "metadata": {},
   "outputs": [],
   "source": [
    "#Create Size indicator as deciles per period\n",
    "#Compute size deciles per month:"
   ]
  },
  {
   "cell_type": "code",
   "execution_count": 379,
   "metadata": {},
   "outputs": [
    {
     "name": "stdout",
     "output_type": "stream",
     "text": [
      "<class 'pandas.core.frame.DataFrame'>\n",
      "MultiIndex: 465935 entries, ('A', Timestamp('2001-01-31 00:00:00')) to ('ZUMZ', Timestamp('2018-03-31 00:00:00'))\n",
      "Data columns (total 32 columns):\n",
      " #   Column         Non-Null Count   Dtype  \n",
      "---  ------         --------------   -----  \n",
      " 0   return_1m      465935 non-null  float64\n",
      " 1   return_2m      465935 non-null  float64\n",
      " 2   return_3m      465935 non-null  float64\n",
      " 3   return_6m      465935 non-null  float64\n",
      " 4   return_9m      465935 non-null  float64\n",
      " 5   return_12m     465935 non-null  float64\n",
      " 6   Mkt-RF         465935 non-null  float64\n",
      " 7   SMB            465935 non-null  float64\n",
      " 8   HML            465935 non-null  float64\n",
      " 9   RMW            465935 non-null  float64\n",
      " 10  CMA            465935 non-null  float64\n",
      " 11  momentum_2     465935 non-null  float64\n",
      " 12  momentum_3_12  465935 non-null  float64\n",
      " 13  momentum_3     465935 non-null  float64\n",
      " 14  momentum_6     465935 non-null  float64\n",
      " 15  momentum_9     465935 non-null  float64\n",
      " 16  momentum_12    465935 non-null  float64\n",
      " 17  year           465935 non-null  int32  \n",
      " 18  month          465935 non-null  int32  \n",
      " 19  return_1m_t-1  463550 non-null  float64\n",
      " 20  return_1m_t-2  461165 non-null  float64\n",
      " 21  return_1m_t-3  458780 non-null  float64\n",
      " 22  return_1m_t-4  456395 non-null  float64\n",
      " 23  return_1m_t-5  454010 non-null  float64\n",
      " 24  return_1m_t-6  451625 non-null  float64\n",
      " 25  target_1m      463550 non-null  float64\n",
      " 26  target_2m      461165 non-null  float64\n",
      " 27  target_3m      458780 non-null  float64\n",
      " 28  target_6m      451625 non-null  float64\n",
      " 29  target_12m     437315 non-null  float64\n",
      " 30  age            465935 non-null  float64\n",
      " 31  msize          465935 non-null  float64\n",
      "dtypes: float64(30), int32(2)\n",
      "memory usage: 128.3+ MB\n"
     ]
    }
   ],
   "source": [
    "data['msize'] = (msize\n",
    "                .apply(lambda x: pd.qcut(x, q=10, labels=list(range(1, 11)))\n",
    "                        .astype(int), axis=1)\n",
    "                .stack()\n",
    "                .swaplevel())\n",
    "data.msize = data.msize.fillna(-1)\n",
    "data.info()"
   ]
  },
  {
   "cell_type": "code",
   "execution_count": 380,
   "metadata": {},
   "outputs": [],
   "source": [
    "new_stocks=new_stocks.set_index('ticker')"
   ]
  },
  {
   "cell_type": "code",
   "execution_count": 381,
   "metadata": {},
   "outputs": [],
   "source": [
    "#Combine data"
   ]
  },
  {
   "cell_type": "code",
   "execution_count": 382,
   "metadata": {},
   "outputs": [
    {
     "name": "stdout",
     "output_type": "stream",
     "text": [
      "<class 'pandas.core.frame.DataFrame'>\n",
      "MultiIndex: 465935 entries, ('A', Timestamp('2001-01-31 00:00:00')) to ('ZUMZ', Timestamp('2018-03-31 00:00:00'))\n",
      "Data columns (total 33 columns):\n",
      " #   Column         Non-Null Count   Dtype  \n",
      "---  ------         --------------   -----  \n",
      " 0   return_1m      465935 non-null  float64\n",
      " 1   return_2m      465935 non-null  float64\n",
      " 2   return_3m      465935 non-null  float64\n",
      " 3   return_6m      465935 non-null  float64\n",
      " 4   return_9m      465935 non-null  float64\n",
      " 5   return_12m     465935 non-null  float64\n",
      " 6   Mkt-RF         465935 non-null  float64\n",
      " 7   SMB            465935 non-null  float64\n",
      " 8   HML            465935 non-null  float64\n",
      " 9   RMW            465935 non-null  float64\n",
      " 10  CMA            465935 non-null  float64\n",
      " 11  momentum_2     465935 non-null  float64\n",
      " 12  momentum_3_12  465935 non-null  float64\n",
      " 13  momentum_3     465935 non-null  float64\n",
      " 14  momentum_6     465935 non-null  float64\n",
      " 15  momentum_9     465935 non-null  float64\n",
      " 16  momentum_12    465935 non-null  float64\n",
      " 17  year           465935 non-null  int32  \n",
      " 18  month          465935 non-null  int32  \n",
      " 19  return_1m_t-1  463550 non-null  float64\n",
      " 20  return_1m_t-2  461165 non-null  float64\n",
      " 21  return_1m_t-3  458780 non-null  float64\n",
      " 22  return_1m_t-4  456395 non-null  float64\n",
      " 23  return_1m_t-5  454010 non-null  float64\n",
      " 24  return_1m_t-6  451625 non-null  float64\n",
      " 25  target_1m      463550 non-null  float64\n",
      " 26  target_2m      461165 non-null  float64\n",
      " 27  target_3m      458780 non-null  float64\n",
      " 28  target_6m      451625 non-null  float64\n",
      " 29  target_12m     437315 non-null  float64\n",
      " 30  age            465935 non-null  float64\n",
      " 31  msize          465935 non-null  float64\n",
      " 32  sector         465935 non-null  object \n",
      "dtypes: float64(30), int32(2), object(1)\n",
      "memory usage: 131.8+ MB\n"
     ]
    }
   ],
   "source": [
    "data = data.join(new_stocks[['sector']])\n",
    "data.sector = data.sector.fillna('Unknown')\n",
    "data.info()"
   ]
  },
  {
   "cell_type": "code",
   "execution_count": 383,
   "metadata": {},
   "outputs": [
    {
     "name": "stdout",
     "output_type": "stream",
     "text": [
      "<class 'pandas.io.pytables.HDFStore'>\n",
      "File path: /Users/Massimiliano/assets.h5\n",
      "/engineered_features            frame        (shape->[463550,33])  \n",
      "/quandl/wiki/prices             frame        (shape->[15389314,12])\n",
      "/sp500/fred                     frame        (shape->[2610,1])     \n",
      "/sp500/stocks                   frame        (shape->[503,8])      \n",
      "/us_equities/stocks             frame        (shape->[4314,10])    \n"
     ]
    }
   ],
   "source": [
    "with pd.HDFStore(DATA_STORE) as store:\n",
    "    store.put('engineered_features', data.sort_index().loc[idx[:, :datetime(2018, 3, 1)], :])\n",
    "    print(store.info())"
   ]
  },
  {
   "cell_type": "code",
   "execution_count": 384,
   "metadata": {},
   "outputs": [
    {
     "name": "stdout",
     "output_type": "stream",
     "text": [
      "<class 'pandas.core.frame.DataFrame'>\n",
      "MultiIndex: 465935 entries, ('A', Timestamp('2001-01-31 00:00:00')) to ('ZUMZ', Timestamp('2018-03-31 00:00:00'))\n",
      "Data columns (total 67 columns):\n",
      " #   Column         Non-Null Count   Dtype  \n",
      "---  ------         --------------   -----  \n",
      " 0   return_1m      465935 non-null  float64\n",
      " 1   return_2m      465935 non-null  float64\n",
      " 2   return_3m      465935 non-null  float64\n",
      " 3   return_6m      465935 non-null  float64\n",
      " 4   return_9m      465935 non-null  float64\n",
      " 5   return_12m     465935 non-null  float64\n",
      " 6   Mkt-RF         465935 non-null  float64\n",
      " 7   SMB            465935 non-null  float64\n",
      " 8   HML            465935 non-null  float64\n",
      " 9   RMW            465935 non-null  float64\n",
      " 10  CMA            465935 non-null  float64\n",
      " 11  momentum_2     465935 non-null  float64\n",
      " 12  momentum_3_12  465935 non-null  float64\n",
      " 13  momentum_3     465935 non-null  float64\n",
      " 14  momentum_6     465935 non-null  float64\n",
      " 15  momentum_9     465935 non-null  float64\n",
      " 16  momentum_12    465935 non-null  float64\n",
      " 17  return_1m_t-1  463550 non-null  float64\n",
      " 18  return_1m_t-2  461165 non-null  float64\n",
      " 19  return_1m_t-3  458780 non-null  float64\n",
      " 20  return_1m_t-4  456395 non-null  float64\n",
      " 21  return_1m_t-5  454010 non-null  float64\n",
      " 22  return_1m_t-6  451625 non-null  float64\n",
      " 23  target_1m      463550 non-null  float64\n",
      " 24  target_2m      461165 non-null  float64\n",
      " 25  target_3m      458780 non-null  float64\n",
      " 26  target_6m      451625 non-null  float64\n",
      " 27  target_12m     437315 non-null  float64\n",
      " 28  year_2001      465935 non-null  bool   \n",
      " 29  year_2002      465935 non-null  bool   \n",
      " 30  year_2003      465935 non-null  bool   \n",
      " 31  year_2004      465935 non-null  bool   \n",
      " 32  year_2005      465935 non-null  bool   \n",
      " 33  year_2006      465935 non-null  bool   \n",
      " 34  year_2007      465935 non-null  bool   \n",
      " 35  year_2008      465935 non-null  bool   \n",
      " 36  year_2009      465935 non-null  bool   \n",
      " 37  year_2010      465935 non-null  bool   \n",
      " 38  year_2011      465935 non-null  bool   \n",
      " 39  year_2012      465935 non-null  bool   \n",
      " 40  year_2013      465935 non-null  bool   \n",
      " 41  year_2014      465935 non-null  bool   \n",
      " 42  year_2015      465935 non-null  bool   \n",
      " 43  year_2016      465935 non-null  bool   \n",
      " 44  year_2017      465935 non-null  bool   \n",
      " 45  year_2018      465935 non-null  bool   \n",
      " 46  month_1        465935 non-null  bool   \n",
      " 47  month_2        465935 non-null  bool   \n",
      " 48  month_3        465935 non-null  bool   \n",
      " 49  month_4        465935 non-null  bool   \n",
      " 50  month_5        465935 non-null  bool   \n",
      " 51  month_6        465935 non-null  bool   \n",
      " 52  month_7        465935 non-null  bool   \n",
      " 53  month_8        465935 non-null  bool   \n",
      " 54  month_9        465935 non-null  bool   \n",
      " 55  month_10       465935 non-null  bool   \n",
      " 56  month_11       465935 non-null  bool   \n",
      " 57  month_12       465935 non-null  bool   \n",
      " 58  msize_-1       465935 non-null  bool   \n",
      " 59  age_-1         465935 non-null  bool   \n",
      " 60  age_0          465935 non-null  bool   \n",
      " 61  age_1          465935 non-null  bool   \n",
      " 62  age_2          465935 non-null  bool   \n",
      " 63  age_3          465935 non-null  bool   \n",
      " 64  age_4          465935 non-null  bool   \n",
      " 65  age_5          465935 non-null  bool   \n",
      " 66  Unknown        465935 non-null  bool   \n",
      "dtypes: bool(39), float64(28)\n",
      "memory usage: 134.9+ MB\n"
     ]
    }
   ],
   "source": [
    "#create dummy variables\n",
    "dummy_data = pd.get_dummies(data,\n",
    "                            columns=['year','month', 'msize', 'age',  'sector'],\n",
    "                            prefix=['year','month', 'msize', 'age', ''],\n",
    "                            prefix_sep=['_', '_', '_', '_', ''])\n",
    "dummy_data = dummy_data.rename(columns={c:c.replace('.0', '') for c in dummy_data.columns})\n",
    "dummy_data.info()"
   ]
  },
  {
   "cell_type": "code",
   "execution_count": null,
   "metadata": {},
   "outputs": [],
   "source": []
  },
  {
   "cell_type": "code",
   "execution_count": null,
   "metadata": {},
   "outputs": [],
   "source": []
  }
 ],
 "metadata": {
  "kernelspec": {
   "display_name": "Python 3",
   "language": "python",
   "name": "python3"
  },
  "language_info": {
   "codemirror_mode": {
    "name": "ipython",
    "version": 3
   },
   "file_extension": ".py",
   "mimetype": "text/x-python",
   "name": "python",
   "nbconvert_exporter": "python",
   "pygments_lexer": "ipython3",
   "version": "3.9.17"
  },
  "orig_nbformat": 4
 },
 "nbformat": 4,
 "nbformat_minor": 2
}
