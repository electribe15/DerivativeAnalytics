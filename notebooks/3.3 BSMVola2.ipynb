{
 "cells": [
  {
   "cell_type": "code",
   "execution_count": 2,
   "metadata": {},
   "outputs": [],
   "source": [
    "import math\n",
    "import numpy as np\n",
    "import pandas as pd\n",
    "import scipy.stats as scs\n",
    "import matplotlib.pyplot as plt\n",
    "import matplotlib as mpl"
   ]
  },
  {
   "cell_type": "code",
   "execution_count": 3,
   "metadata": {},
   "outputs": [],
   "source": [
    "from cmath import exp\n",
    "\n",
    "\n",
    "def simulate_gbm():\n",
    "    S0=100\n",
    "    T=10\n",
    "    I=1\n",
    "    r=0.02\n",
    "    vol=0.20\n",
    "    np.random.seed(20000)\n",
    "    gbm_dates=pd.date_range(start='30-09-2004',end='30-09-2014',freq='B')\n",
    "    M=len(gbm_dates)\n",
    "    dt=1/252\n",
    "    df=np.exp(-r*dt)\n",
    "    rand=np.random.standard_normal((M,I))\n",
    "    S=np.zeros_like(rand)\n",
    "    S[0]=S0\n",
    "    for t in range(1,M):\n",
    "       S[t]=S[t-1]*np.exp((r-vol**2/2)*dt+vol*rand[t]*math.sqrt(dt))\n",
    "    gbm = pd.DataFrame(S[:,0], index=gbm_dates, columns=['index'])\n",
    "    gbm['returns'] = np.log(gbm['index'] / gbm['index'].shift(1))\n",
    "   # Realized Volatility (eg. as defined for variance swaps)\n",
    "    gbm['rea_var'] = 252 * np.cumsum(gbm['returns'] ** 2) / np.arange(len(gbm))\n",
    "    gbm['rea_vol'] = np.sqrt(gbm['rea_var'])\n",
    "    gbm = gbm.dropna()\n",
    "    return gbm"
   ]
  },
  {
   "cell_type": "code",
   "execution_count": 4,
   "metadata": {},
   "outputs": [
    {
     "name": "stderr",
     "output_type": "stream",
     "text": [
      "/tmp/ipykernel_3909/520863277.py:11: UserWarning: Parsing dates in DD/MM/YYYY format when dayfirst=False (the default) was specified. This may lead to inconsistently parsed dates! Specify a format to ensure consistent parsing.\n",
      "  gbm_dates=pd.date_range(start='30-09-2004',end='30-09-2014',freq='B')\n"
     ]
    },
    {
     "data": {
      "text/html": [
       "<div>\n",
       "<style scoped>\n",
       "    .dataframe tbody tr th:only-of-type {\n",
       "        vertical-align: middle;\n",
       "    }\n",
       "\n",
       "    .dataframe tbody tr th {\n",
       "        vertical-align: top;\n",
       "    }\n",
       "\n",
       "    .dataframe thead th {\n",
       "        text-align: right;\n",
       "    }\n",
       "</style>\n",
       "<table border=\"1\" class=\"dataframe\">\n",
       "  <thead>\n",
       "    <tr style=\"text-align: right;\">\n",
       "      <th></th>\n",
       "      <th>index</th>\n",
       "      <th>returns</th>\n",
       "      <th>rea_var</th>\n",
       "      <th>rea_vol</th>\n",
       "    </tr>\n",
       "  </thead>\n",
       "  <tbody>\n",
       "    <tr>\n",
       "      <th>2004-10-01</th>\n",
       "      <td>99.620338</td>\n",
       "      <td>-0.003804</td>\n",
       "      <td>0.003646</td>\n",
       "      <td>0.060384</td>\n",
       "    </tr>\n",
       "    <tr>\n",
       "      <th>2004-10-04</th>\n",
       "      <td>98.599472</td>\n",
       "      <td>-0.010300</td>\n",
       "      <td>0.015192</td>\n",
       "      <td>0.123254</td>\n",
       "    </tr>\n",
       "    <tr>\n",
       "      <th>2004-10-05</th>\n",
       "      <td>97.889090</td>\n",
       "      <td>-0.007231</td>\n",
       "      <td>0.014520</td>\n",
       "      <td>0.120497</td>\n",
       "    </tr>\n",
       "    <tr>\n",
       "      <th>2004-10-06</th>\n",
       "      <td>96.641549</td>\n",
       "      <td>-0.012826</td>\n",
       "      <td>0.021254</td>\n",
       "      <td>0.145788</td>\n",
       "    </tr>\n",
       "    <tr>\n",
       "      <th>2004-10-07</th>\n",
       "      <td>94.356633</td>\n",
       "      <td>-0.023927</td>\n",
       "      <td>0.045858</td>\n",
       "      <td>0.214145</td>\n",
       "    </tr>\n",
       "    <tr>\n",
       "      <th>...</th>\n",
       "      <td>...</td>\n",
       "      <td>...</td>\n",
       "      <td>...</td>\n",
       "      <td>...</td>\n",
       "    </tr>\n",
       "    <tr>\n",
       "      <th>2014-09-24</th>\n",
       "      <td>70.798218</td>\n",
       "      <td>-0.005110</td>\n",
       "      <td>0.040225</td>\n",
       "      <td>0.200562</td>\n",
       "    </tr>\n",
       "    <tr>\n",
       "      <th>2014-09-25</th>\n",
       "      <td>70.861515</td>\n",
       "      <td>0.000894</td>\n",
       "      <td>0.040210</td>\n",
       "      <td>0.200523</td>\n",
       "    </tr>\n",
       "    <tr>\n",
       "      <th>2014-09-26</th>\n",
       "      <td>71.922306</td>\n",
       "      <td>0.014859</td>\n",
       "      <td>0.040216</td>\n",
       "      <td>0.200538</td>\n",
       "    </tr>\n",
       "    <tr>\n",
       "      <th>2014-09-29</th>\n",
       "      <td>71.111182</td>\n",
       "      <td>-0.011342</td>\n",
       "      <td>0.040213</td>\n",
       "      <td>0.200531</td>\n",
       "    </tr>\n",
       "    <tr>\n",
       "      <th>2014-09-30</th>\n",
       "      <td>70.585062</td>\n",
       "      <td>-0.007426</td>\n",
       "      <td>0.040202</td>\n",
       "      <td>0.200505</td>\n",
       "    </tr>\n",
       "  </tbody>\n",
       "</table>\n",
       "<p>2608 rows × 4 columns</p>\n",
       "</div>"
      ],
      "text/plain": [
       "                index   returns   rea_var   rea_vol\n",
       "2004-10-01  99.620338 -0.003804  0.003646  0.060384\n",
       "2004-10-04  98.599472 -0.010300  0.015192  0.123254\n",
       "2004-10-05  97.889090 -0.007231  0.014520  0.120497\n",
       "2004-10-06  96.641549 -0.012826  0.021254  0.145788\n",
       "2004-10-07  94.356633 -0.023927  0.045858  0.214145\n",
       "...               ...       ...       ...       ...\n",
       "2014-09-24  70.798218 -0.005110  0.040225  0.200562\n",
       "2014-09-25  70.861515  0.000894  0.040210  0.200523\n",
       "2014-09-26  71.922306  0.014859  0.040216  0.200538\n",
       "2014-09-29  71.111182 -0.011342  0.040213  0.200531\n",
       "2014-09-30  70.585062 -0.007426  0.040202  0.200505\n",
       "\n",
       "[2608 rows x 4 columns]"
      ]
     },
     "execution_count": 4,
     "metadata": {},
     "output_type": "execute_result"
    }
   ],
   "source": [
    "simulate_gbm()"
   ]
  },
  {
   "cell_type": "code",
   "execution_count": 5,
   "metadata": {},
   "outputs": [],
   "source": [
    "def print_statistics(data):\n",
    "    print (\"RETURN SAMPLE STATISTICS\")\n",
    "    print (\"---------------------------------------------\")\n",
    "    print (\"Mean of Daily Log Returns %9.6f\" % (np.mean(data['returns'])))\n",
    "    print (\"Std of Daily Log Returns %9.6f\" % np.std(data['returns']))\n",
    "    print (\"Mean of Annua. Log Returns %9.6f\" % (np.mean(data['returns']) * 252))\n",
    "    print (\"Std of Annua. Log Returns %9.6f\" % (np.std(data['returns']) * math.sqrt(252)))\n",
    "    print (\"---------------------------------------------\")\n",
    "    print (\"Skew of Sample Log Returns %9.6f\" % scs.skew(data['returns']))\n",
    "    print (\"Skew Normal Test p-value %9.6f\" % scs.skewtest(data['returns'])[1])\n",
    "    print (\"---------------------------------------------\")\n",
    "    print (\"Kurt of Sample Log Returns %9.6f\" % scs.kurtosis(data['returns']))\n",
    "    print (\"Kurt Normal Test p-value %9.6f\" % \\\n",
    "    scs.kurtosistest(data['returns'])[1])\n",
    "    print (\"---------------------------------------------\")\n",
    "    print (\"Normal Test p-value %9.6f\" % \\\n",
    "    scs.normaltest(data['returns'])[1])\n",
    "    print (\"---------------------------------------------\")\n",
    "    print (\"Realized Volatility %9.6f\" % data['rea_vol'].iloc[-1])\n",
    "    print (\"Realized Variance %9.6f\" % data['rea_var'].iloc[-1])  "
   ]
  },
  {
   "cell_type": "code",
   "execution_count": 6,
   "metadata": {},
   "outputs": [
    {
     "name": "stdout",
     "output_type": "stream",
     "text": [
      "RETURN SAMPLE STATISTICS\n",
      "---------------------------------------------\n",
      "Mean of Daily Log Returns -0.000134\n",
      "Std of Daily Log Returns  0.012630\n",
      "Mean of Annua. Log Returns -0.033660\n",
      "Std of Annua. Log Returns  0.200494\n",
      "---------------------------------------------\n",
      "Skew of Sample Log Returns -0.042229\n",
      "Skew Normal Test p-value  0.377481\n",
      "---------------------------------------------\n",
      "Kurt of Sample Log Returns -0.074954\n",
      "Kurt Normal Test p-value  0.457202\n",
      "---------------------------------------------\n",
      "Normal Test p-value  0.513856\n",
      "---------------------------------------------\n",
      "Realized Volatility  0.200505\n",
      "Realized Variance  0.040202\n"
     ]
    },
    {
     "name": "stderr",
     "output_type": "stream",
     "text": [
      "/tmp/ipykernel_3909/520863277.py:11: UserWarning: Parsing dates in DD/MM/YYYY format when dayfirst=False (the default) was specified. This may lead to inconsistently parsed dates! Specify a format to ensure consistent parsing.\n",
      "  gbm_dates=pd.date_range(start='30-09-2004',end='30-09-2014',freq='B')\n"
     ]
    }
   ],
   "source": [
    "print_statistics(simulate_gbm())"
   ]
  },
  {
   "cell_type": "code",
   "execution_count": null,
   "metadata": {},
   "outputs": [],
   "source": []
  }
 ],
 "metadata": {
  "kernelspec": {
   "display_name": "Python 3",
   "language": "python",
   "name": "python3"
  },
  "language_info": {
   "codemirror_mode": {
    "name": "ipython",
    "version": 3
   },
   "file_extension": ".py",
   "mimetype": "text/x-python",
   "name": "python",
   "nbconvert_exporter": "python",
   "pygments_lexer": "ipython3",
   "version": "3.10.4 (main, Jan 18 2023, 00:26:41) [GCC 9.4.0]"
  },
  "orig_nbformat": 4,
  "vscode": {
   "interpreter": {
    "hash": "3ad933181bd8a04b432d3370b9dc3b0662ad032c4dfaa4e4f1596c548f763858"
   }
  }
 },
 "nbformat": 4,
 "nbformat_minor": 2
}
