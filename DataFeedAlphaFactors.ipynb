{
 "cells": [
  {
   "cell_type": "code",
   "execution_count": 2,
   "metadata": {},
   "outputs": [],
   "source": [
    "%matplotlib inline\n",
    "\n",
    "from datetime import datetime\n",
    "import pandas as pd\n",
    "import pandas_datareader.data as web\n",
    "\n",
    "# replaces pyfinance.ols.PandasRollingOLS (no longer maintained)\n",
    "from statsmodels.regression.rolling import RollingOLS\n",
    "import statsmodels.api as sm\n",
    "\n",
    "import matplotlib.pyplot as plt\n",
    "import seaborn as sns"
   ]
  },
  {
   "cell_type": "code",
   "execution_count": 3,
   "metadata": {},
   "outputs": [],
   "source": [
    "import warnings\n",
    "warnings.filterwarnings('ignore')"
   ]
  },
  {
   "cell_type": "code",
   "execution_count": 4,
   "metadata": {},
   "outputs": [],
   "source": [
    "sns.set_style('whitegrid')\n",
    "idx = pd.IndexSlice"
   ]
  },
  {
   "cell_type": "code",
   "execution_count": 5,
   "metadata": {},
   "outputs": [],
   "source": [
    "DATA_STORE = '/Users/Massimiliano/assets.h5'"
   ]
  },
  {
   "cell_type": "code",
   "execution_count": 6,
   "metadata": {},
   "outputs": [],
   "source": [
    "START = 2000\n",
    "END = 2018"
   ]
  },
  {
   "cell_type": "code",
   "execution_count": 7,
   "metadata": {},
   "outputs": [],
   "source": [
    "with pd.HDFStore(DATA_STORE) as store:\n",
    "    prices = (store['quandl/wiki/prices']\n",
    "              .loc[idx[str(START):str(END), :], 'adj_close']\n",
    "              .unstack('ticker'))\n",
    "    stocks = store['us_equities/stocks'].loc[:, ['Market Cap', 'IPO Year', 'Sector']]"
   ]
  },
  {
   "cell_type": "code",
   "execution_count": 8,
   "metadata": {},
   "outputs": [
    {
     "name": "stdout",
     "output_type": "stream",
     "text": [
      "<class 'pandas.core.frame.DataFrame'>\n",
      "DatetimeIndex: 4706 entries, 2000-01-03 to 2018-03-27\n",
      "Columns: 3199 entries, A to ZUMZ\n",
      "dtypes: float64(3199)\n",
      "memory usage: 114.9 MB\n"
     ]
    }
   ],
   "source": [
    "prices.info()"
   ]
  },
  {
   "cell_type": "code",
   "execution_count": 9,
   "metadata": {},
   "outputs": [
    {
     "name": "stdout",
     "output_type": "stream",
     "text": [
      "<class 'pandas.core.frame.DataFrame'>\n",
      "Index: 4314 entries, AACG to ZYXI\n",
      "Data columns (total 3 columns):\n",
      " #   Column      Non-Null Count  Dtype  \n",
      "---  ------      --------------  -----  \n",
      " 0   Market Cap  4302 non-null   float64\n",
      " 1   IPO Year    2622 non-null   float64\n",
      " 2   Sector      4184 non-null   object \n",
      "dtypes: float64(2), object(1)\n",
      "memory usage: 134.8+ KB\n"
     ]
    }
   ],
   "source": [
    "stocks.info()"
   ]
  },
  {
   "cell_type": "code",
   "execution_count": 10,
   "metadata": {},
   "outputs": [
    {
     "name": "stdout",
     "output_type": "stream",
     "text": [
      "<class 'pandas.core.frame.DataFrame'>\n",
      "Index: 843 entries, AAL to ZUMZ\n",
      "Data columns (total 3 columns):\n",
      " #   Column      Non-Null Count  Dtype  \n",
      "---  ------      --------------  -----  \n",
      " 0   Market Cap  843 non-null    float64\n",
      " 1   IPO Year    447 non-null    float64\n",
      " 2   Sector      836 non-null    object \n",
      "dtypes: float64(2), object(1)\n",
      "memory usage: 26.3+ KB\n"
     ]
    }
   ],
   "source": [
    "#Remove stocks duplicates and align index names for later joining.\n",
    "stocks = stocks[~stocks.index.duplicated()]\n",
    "stocks.index.name = 'ticker'\n",
    "\n",
    "#Get tickers with both price information and metadata\n",
    "shared = prices.columns.intersection(stocks.index)\n",
    "stocks = stocks.loc[shared, :]\n",
    "stocks.info()"
   ]
  },
  {
   "cell_type": "code",
   "execution_count": 11,
   "metadata": {},
   "outputs": [],
   "source": [
    "#resamplemonthlyreturns\n",
    "monthly_prices = prices.resample('M').last()"
   ]
  },
  {
   "cell_type": "code",
   "execution_count": 12,
   "metadata": {},
   "outputs": [
    {
     "name": "stdout",
     "output_type": "stream",
     "text": [
      "<class 'pandas.core.frame.DataFrame'>\n",
      "DatetimeIndex: 219 entries, 2000-01-31 to 2018-03-31\n",
      "Freq: M\n",
      "Columns: 3199 entries, A to ZUMZ\n",
      "dtypes: float64(3199)\n",
      "memory usage: 5.3 MB\n"
     ]
    }
   ],
   "source": [
    "monthly_prices.info()"
   ]
  },
  {
   "cell_type": "code",
   "execution_count": 13,
   "metadata": {},
   "outputs": [],
   "source": [
    "#To capture time series dynamics that reflect, for example, momentum patterns, \n",
    "#we compute historical returns using the method .pct_change(n_periods), \n",
    "#that is, returns over various monthly periods as identified by lags.\n",
    "\n",
    "#We then convert the wide result back to long format with the .stack() method, \n",
    "#use .pipe() to apply the .clip() method to the resulting DataFrame, and \n",
    "#Finally, we normalize returns using the geometric average. \n",
    "#winsorize returns at the [1%, 99%] levels; that is, we cap outliers at these percentiles.\n",
    "#After using .swaplevel() to change the order of the MultiIndex levels, \n",
    "#we obtain compounded monthly returns for six periods ranging from 1 to 12 months:"
   ]
  },
  {
   "cell_type": "code",
   "execution_count": 14,
   "metadata": {},
   "outputs": [
    {
     "name": "stdout",
     "output_type": "stream",
     "text": [
      "<class 'pandas.core.frame.DataFrame'>\n",
      "MultiIndex: 521806 entries, ('A', Timestamp('2001-01-31 00:00:00', freq='M')) to ('ZUMZ', Timestamp('2018-03-31 00:00:00', freq='M'))\n",
      "Data columns (total 6 columns):\n",
      " #   Column      Non-Null Count   Dtype  \n",
      "---  ------      --------------   -----  \n",
      " 0   return_1m   521806 non-null  float64\n",
      " 1   return_2m   521806 non-null  float64\n",
      " 2   return_3m   521806 non-null  float64\n",
      " 3   return_6m   521806 non-null  float64\n",
      " 4   return_9m   521806 non-null  float64\n",
      " 5   return_12m  521806 non-null  float64\n",
      "dtypes: float64(6)\n",
      "memory usage: 26.0+ MB\n"
     ]
    }
   ],
   "source": [
    "outlier_cutoff = 0.01\n",
    "data = pd.DataFrame()\n",
    "lags = [1, 2, 3, 6, 9, 12]\n",
    "for lag in lags:\n",
    "    data[f'return_{lag}m'] = (monthly_prices\n",
    "                           .pct_change(lag)\n",
    "                           .stack()\n",
    "                           .pipe(lambda x: x.clip(lower=x.quantile(outlier_cutoff),\n",
    "                                                  upper=x.quantile(1-outlier_cutoff)))\n",
    "                           .add(1)\n",
    "                           .pow(1/lag)\n",
    "                           .sub(1)\n",
    "                           )\n",
    "data = data.swaplevel().dropna()\n",
    "data.info()"
   ]
  },
  {
   "cell_type": "code",
   "execution_count": 15,
   "metadata": {},
   "outputs": [],
   "source": [
    "#Drop stocks with less than 10 yrs of returns"
   ]
  },
  {
   "cell_type": "code",
   "execution_count": 16,
   "metadata": {},
   "outputs": [
    {
     "name": "stdout",
     "output_type": "stream",
     "text": [
      "<class 'pandas.core.frame.DataFrame'>\n",
      "MultiIndex: 465935 entries, ('A', Timestamp('2001-01-31 00:00:00', freq='M')) to ('ZUMZ', Timestamp('2018-03-31 00:00:00', freq='M'))\n",
      "Data columns (total 6 columns):\n",
      " #   Column      Non-Null Count   Dtype  \n",
      "---  ------      --------------   -----  \n",
      " 0   return_1m   465935 non-null  float64\n",
      " 1   return_2m   465935 non-null  float64\n",
      " 2   return_3m   465935 non-null  float64\n",
      " 3   return_6m   465935 non-null  float64\n",
      " 4   return_9m   465935 non-null  float64\n",
      " 5   return_12m  465935 non-null  float64\n",
      "dtypes: float64(6)\n",
      "memory usage: 23.3+ MB\n"
     ]
    }
   ],
   "source": [
    "min_obs = 120\n",
    "nobs = data.groupby(level='ticker').size()\n",
    "keep = nobs[nobs>min_obs].index\n",
    "\n",
    "data = data.loc[idx[keep,:], :]\n",
    "data.info()"
   ]
  },
  {
   "cell_type": "code",
   "execution_count": 17,
   "metadata": {},
   "outputs": [
    {
     "data": {
      "text/html": [
       "<div>\n",
       "<style scoped>\n",
       "    .dataframe tbody tr th:only-of-type {\n",
       "        vertical-align: middle;\n",
       "    }\n",
       "\n",
       "    .dataframe tbody tr th {\n",
       "        vertical-align: top;\n",
       "    }\n",
       "\n",
       "    .dataframe thead th {\n",
       "        text-align: right;\n",
       "    }\n",
       "</style>\n",
       "<table border=\"1\" class=\"dataframe\">\n",
       "  <thead>\n",
       "    <tr style=\"text-align: right;\">\n",
       "      <th></th>\n",
       "      <th>return_1m</th>\n",
       "      <th>return_2m</th>\n",
       "      <th>return_3m</th>\n",
       "      <th>return_6m</th>\n",
       "      <th>return_9m</th>\n",
       "      <th>return_12m</th>\n",
       "    </tr>\n",
       "  </thead>\n",
       "  <tbody>\n",
       "    <tr>\n",
       "      <th>count</th>\n",
       "      <td>465935.000000</td>\n",
       "      <td>465935.000000</td>\n",
       "      <td>465935.000000</td>\n",
       "      <td>465935.000000</td>\n",
       "      <td>465935.000000</td>\n",
       "      <td>465935.000000</td>\n",
       "    </tr>\n",
       "    <tr>\n",
       "      <th>mean</th>\n",
       "      <td>0.011694</td>\n",
       "      <td>0.008454</td>\n",
       "      <td>0.007306</td>\n",
       "      <td>0.006036</td>\n",
       "      <td>0.005542</td>\n",
       "      <td>0.005285</td>\n",
       "    </tr>\n",
       "    <tr>\n",
       "      <th>std</th>\n",
       "      <td>0.117872</td>\n",
       "      <td>0.084059</td>\n",
       "      <td>0.069195</td>\n",
       "      <td>0.050674</td>\n",
       "      <td>0.041919</td>\n",
       "      <td>0.036635</td>\n",
       "    </tr>\n",
       "    <tr>\n",
       "      <th>min</th>\n",
       "      <td>-0.343442</td>\n",
       "      <td>-0.269341</td>\n",
       "      <td>-0.229978</td>\n",
       "      <td>-0.175426</td>\n",
       "      <td>-0.145071</td>\n",
       "      <td>-0.125787</td>\n",
       "    </tr>\n",
       "    <tr>\n",
       "      <th>25%</th>\n",
       "      <td>-0.046679</td>\n",
       "      <td>-0.031096</td>\n",
       "      <td>-0.024413</td>\n",
       "      <td>-0.015632</td>\n",
       "      <td>-0.012035</td>\n",
       "      <td>-0.009962</td>\n",
       "    </tr>\n",
       "    <tr>\n",
       "      <th>50%</th>\n",
       "      <td>0.006369</td>\n",
       "      <td>0.007476</td>\n",
       "      <td>0.007810</td>\n",
       "      <td>0.008024</td>\n",
       "      <td>0.007924</td>\n",
       "      <td>0.007852</td>\n",
       "    </tr>\n",
       "    <tr>\n",
       "      <th>75%</th>\n",
       "      <td>0.065314</td>\n",
       "      <td>0.048890</td>\n",
       "      <td>0.041722</td>\n",
       "      <td>0.031742</td>\n",
       "      <td>0.027062</td>\n",
       "      <td>0.024439</td>\n",
       "    </tr>\n",
       "    <tr>\n",
       "      <th>max</th>\n",
       "      <td>0.449446</td>\n",
       "      <td>0.294075</td>\n",
       "      <td>0.230064</td>\n",
       "      <td>0.159207</td>\n",
       "      <td>0.128147</td>\n",
       "      <td>0.108809</td>\n",
       "    </tr>\n",
       "  </tbody>\n",
       "</table>\n",
       "</div>"
      ],
      "text/plain": [
       "           return_1m      return_2m      return_3m      return_6m  \\\n",
       "count  465935.000000  465935.000000  465935.000000  465935.000000   \n",
       "mean        0.011694       0.008454       0.007306       0.006036   \n",
       "std         0.117872       0.084059       0.069195       0.050674   \n",
       "min        -0.343442      -0.269341      -0.229978      -0.175426   \n",
       "25%        -0.046679      -0.031096      -0.024413      -0.015632   \n",
       "50%         0.006369       0.007476       0.007810       0.008024   \n",
       "75%         0.065314       0.048890       0.041722       0.031742   \n",
       "max         0.449446       0.294075       0.230064       0.159207   \n",
       "\n",
       "           return_9m     return_12m  \n",
       "count  465935.000000  465935.000000  \n",
       "mean        0.005542       0.005285  \n",
       "std         0.041919       0.036635  \n",
       "min        -0.145071      -0.125787  \n",
       "25%        -0.012035      -0.009962  \n",
       "50%         0.007924       0.007852  \n",
       "75%         0.027062       0.024439  \n",
       "max         0.128147       0.108809  "
      ]
     },
     "execution_count": 17,
     "metadata": {},
     "output_type": "execute_result"
    }
   ],
   "source": [
    "data.describe()"
   ]
  },
  {
   "cell_type": "code",
   "execution_count": 18,
   "metadata": {},
   "outputs": [
    {
     "data": {
      "image/png": "[encoded data removed]",
      "text/plain": [
       "<Figure size 1000x1000 with 4 Axes>"
      ]
     },
     "metadata": {},
     "output_type": "display_data"
    }
   ],
   "source": [
    "# cmap = sns.diverging_palette(10, 220, as_cmap=True)\n",
    "sns.clustermap(data.corr('spearman'), annot=True, center=0, cmap='Blues');"
   ]
  },
  {
   "cell_type": "code",
   "execution_count": 19,
   "metadata": {},
   "outputs": [
    {
     "data": {
      "text/plain": [
       "2385"
      ]
     },
     "execution_count": 19,
     "metadata": {},
     "output_type": "execute_result"
    }
   ],
   "source": [
    "#n of tickers left\n",
    "data.index.get_level_values('ticker').nunique()"
   ]
  },
  {
   "cell_type": "code",
   "execution_count": 20,
   "metadata": {},
   "outputs": [],
   "source": [
    "#the five Fama—French factors, namely market risk, size, value, operating profitability,\n",
    "# and investment have been shown empirically to explain asset returns and are commonly used \n",
    "# to assess the risk/return profile of portfolios. Hence, it is natural to include past \n",
    "# factor exposures as financial features in models that aim to predict future returns.We can access \n",
    "# the historical factor returns using the pandas-datareader and estimate historical exposures \n",
    "# using the RollingOLS rolling linear regression functionality in the statsmodels library as follows:\n",
    "# Use Fama-French research factors to estimate the factor exposures of the stock in the dataset to \n",
    "# the 5 factors market risk, size, value, operating profitability and investment."
   ]
  },
  {
   "cell_type": "code",
   "execution_count": 21,
   "metadata": {},
   "outputs": [
    {
     "name": "stdout",
     "output_type": "stream",
     "text": [
      "<class 'pandas.core.frame.DataFrame'>\n",
      "DatetimeIndex: 283 entries, 2000-01-31 to 2023-07-31\n",
      "Freq: M\n",
      "Data columns (total 5 columns):\n",
      " #   Column  Non-Null Count  Dtype  \n",
      "---  ------  --------------  -----  \n",
      " 0   Mkt-RF  283 non-null    float64\n",
      " 1   SMB     283 non-null    float64\n",
      " 2   HML     283 non-null    float64\n",
      " 3   RMW     283 non-null    float64\n",
      " 4   CMA     283 non-null    float64\n",
      "dtypes: float64(5)\n",
      "memory usage: 13.3 KB\n"
     ]
    }
   ],
   "source": [
    "factors = ['Mkt-RF', 'SMB', 'HML', 'RMW', 'CMA']\n",
    "factor_data = web.DataReader('F-F_Research_Data_5_Factors_2x3', 'famafrench', start='2000')[0].drop('RF', axis=1)\n",
    "factor_data.index = factor_data.index.to_timestamp()\n",
    "factor_data = factor_data.resample('M').last().div(100)\n",
    "factor_data.index.name = 'date'\n",
    "factor_data.info()"
   ]
  },
  {
   "cell_type": "code",
   "execution_count": 22,
   "metadata": {},
   "outputs": [
    {
     "name": "stdout",
     "output_type": "stream",
     "text": [
      "<class 'pandas.core.frame.DataFrame'>\n",
      "MultiIndex: 465935 entries, ('A', Timestamp('2001-01-31 00:00:00', freq='M')) to ('ZUMZ', Timestamp('2018-03-31 00:00:00', freq='M'))\n",
      "Data columns (total 6 columns):\n",
      " #   Column     Non-Null Count   Dtype  \n",
      "---  ------     --------------   -----  \n",
      " 0   Mkt-RF     465935 non-null  float64\n",
      " 1   SMB        465935 non-null  float64\n",
      " 2   HML        465935 non-null  float64\n",
      " 3   RMW        465935 non-null  float64\n",
      " 4   CMA        465935 non-null  float64\n",
      " 5   return_1m  465935 non-null  float64\n",
      "dtypes: float64(6)\n",
      "memory usage: 23.3+ MB\n"
     ]
    }
   ],
   "source": [
    "factor_data = factor_data.join(data['return_1m']).sort_index()\n",
    "factor_data.info()"
   ]
  },
  {
   "cell_type": "code",
   "execution_count": null,
   "metadata": {},
   "outputs": [],
   "source": []
  }
 ],
 "metadata": {
  "kernelspec": {
   "display_name": "Python 3",
   "language": "python",
   "name": "python3"
  },
  "language_info": {
   "codemirror_mode": {
    "name": "ipython",
    "version": 3
   },
   "file_extension": ".py",
   "mimetype": "text/x-python",
   "name": "python",
   "nbconvert_exporter": "python",
   "pygments_lexer": "ipython3",
   "version": "3.9.17"
  },
  "orig_nbformat": 4
 },
 "nbformat": 4,
 "nbformat_minor": 2
}
