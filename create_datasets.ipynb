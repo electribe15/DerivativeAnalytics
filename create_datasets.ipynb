{
 "cells": [
  {
   "cell_type": "code",
   "execution_count": 1,
   "metadata": {
    "ExecuteTime": {
     "end_time": "2020-06-18T14:32:07.092623Z",
     "start_time": "2020-06-18T14:32:07.090885Z"
    }
   },
   "outputs": [],
   "source": [
    "import warnings\n",
    "warnings.filterwarnings('ignore')"
   ]
  },
  {
   "cell_type": "code",
   "execution_count": 13,
   "metadata": {
    "ExecuteTime": {
     "end_time": "2020-06-18T14:32:07.263130Z",
     "start_time": "2020-06-18T14:32:07.259861Z"
    }
   },
   "outputs": [],
   "source": [
    "from pathlib import Path\n",
    "import requests\n",
    "from io import BytesIO\n",
    "from zipfile import ZipFile, BadZipFile\n",
    "\n",
    "import numpy as np\n",
    "import pandas as pd\n",
    "import pandas_datareader.data as web\n",
    "from sklearn.datasets import fetch_openml\n",
    "from openbb_terminal.sdk import openbb\n",
    "import os\n",
    "path='/Users/Massimiliano'\n",
    "os.chdir(path)\n",
    "\n",
    "pd.set_option('display.expand_frame_repr', False)"
   ]
  },
  {
   "cell_type": "code",
   "execution_count": 8,
   "metadata": {
    "ExecuteTime": {
     "end_time": "2020-06-19T02:27:54.832609Z",
     "start_time": "2020-06-19T02:27:54.824778Z"
    }
   },
   "outputs": [],
   "source": [
    "DATA_STORE = 'assets.h5'"
   ]
  },
  {
   "cell_type": "code",
   "execution_count": 14,
   "metadata": {
    "ExecuteTime": {
     "end_time": "2020-06-16T21:38:46.759327Z",
     "start_time": "2020-06-16T21:37:48.398856Z"
    }
   },
   "outputs": [
    {
     "name": "stdout",
     "output_type": "stream",
     "text": [
      "<class 'pandas.core.frame.DataFrame'>\n",
      "MultiIndex: 15389314 entries, (Timestamp('1962-01-02 00:00:00'), 'ARNC') to (Timestamp('2018-03-27 00:00:00'), 'ZUMZ')\n",
      "Data columns (total 12 columns):\n",
      " #   Column       Non-Null Count     Dtype  \n",
      "---  ------       --------------     -----  \n",
      " 0   open         15388776 non-null  float64\n",
      " 1   high         15389259 non-null  float64\n",
      " 2   low          15389259 non-null  float64\n",
      " 3   close        15389313 non-null  float64\n",
      " 4   volume       15389314 non-null  float64\n",
      " 5   ex-dividend  15389314 non-null  float64\n",
      " 6   split_ratio  15389313 non-null  float64\n",
      " 7   adj_open     15388776 non-null  float64\n",
      " 8   adj_high     15389259 non-null  float64\n",
      " 9   adj_low      15389259 non-null  float64\n",
      " 10  adj_close    15389313 non-null  float64\n",
      " 11  adj_volume   15389314 non-null  float64\n",
      "dtypes: float64(12)\n",
      "memory usage: 1.4+ GB\n",
      "None\n"
     ]
    }
   ],
   "source": [
    "df = (pd.read_csv('/Users/Massimiliano/wiki_prices.csv',\n",
    "        parse_dates=['date'],\n",
    "        index_col=['date', 'ticker'],\n",
    "        infer_datetime_format=True).sort_index())\n",
    "\n",
    "print(df.info(show_counts=True))\n",
    "with pd.HDFStore(DATA_STORE) as store:\n",
    "        store.put('quandl/wiki/prices', df)"
   ]
  },
  {
   "cell_type": "code",
   "execution_count": 15,
   "metadata": {},
   "outputs": [
    {
     "name": "stdout",
     "output_type": "stream",
     "text": [
      "<class 'pandas.core.frame.DataFrame'>\n",
      "DatetimeIndex: 2610 entries, 2013-09-30 to 2023-09-29\n",
      "Data columns (total 1 columns):\n",
      " #   Column  Non-Null Count  Dtype  \n",
      "---  ------  --------------  -----  \n",
      " 0   close   2518 non-null   float64\n",
      "dtypes: float64(1)\n",
      "memory usage: 40.8 KB\n",
      "None\n"
     ]
    }
   ],
   "source": [
    "df = web.DataReader(name='SP500', data_source='fred', start=2009).squeeze().to_frame('close')\n",
    "print(df.info())\n",
    "with pd.HDFStore(DATA_STORE) as store:\n",
    "    store.put('sp500/fred', df)"
   ]
  },
  {
   "cell_type": "code",
   "execution_count": 16,
   "metadata": {
    "ExecuteTime": {
     "end_time": "2020-06-17T10:50:19.998830Z",
     "start_time": "2020-06-17T10:50:18.784120Z"
    }
   },
   "outputs": [],
   "source": [
    "url = 'https://en.wikipedia.org/wiki/List_of_S%26P_500_companies'\n",
    "df = pd.read_html(url, header=0)[0]"
   ]
  },
  {
   "cell_type": "code",
   "execution_count": 17,
   "metadata": {
    "ExecuteTime": {
     "end_time": "2020-06-17T10:50:21.745331Z",
     "start_time": "2020-06-17T10:50:21.724637Z"
    }
   },
   "outputs": [
    {
     "data": {
      "text/html": [
       "<div>\n",
       "<style scoped>\n",
       "    .dataframe tbody tr th:only-of-type {\n",
       "        vertical-align: middle;\n",
       "    }\n",
       "\n",
       "    .dataframe tbody tr th {\n",
       "        vertical-align: top;\n",
       "    }\n",
       "\n",
       "    .dataframe thead th {\n",
       "        text-align: right;\n",
       "    }\n",
       "</style>\n",
       "<table border=\"1\" class=\"dataframe\">\n",
       "  <thead>\n",
       "    <tr style=\"text-align: right;\">\n",
       "      <th></th>\n",
       "      <th>Symbol</th>\n",
       "      <th>Security</th>\n",
       "      <th>GICS Sector</th>\n",
       "      <th>GICS Sub-Industry</th>\n",
       "      <th>Headquarters Location</th>\n",
       "      <th>Date added</th>\n",
       "      <th>CIK</th>\n",
       "      <th>Founded</th>\n",
       "    </tr>\n",
       "  </thead>\n",
       "  <tbody>\n",
       "    <tr>\n",
       "      <th>0</th>\n",
       "      <td>MMM</td>\n",
       "      <td>3M</td>\n",
       "      <td>Industrials</td>\n",
       "      <td>Industrial Conglomerates</td>\n",
       "      <td>Saint Paul, Minnesota</td>\n",
       "      <td>1957-03-04</td>\n",
       "      <td>66740</td>\n",
       "      <td>1902</td>\n",
       "    </tr>\n",
       "    <tr>\n",
       "      <th>1</th>\n",
       "      <td>AOS</td>\n",
       "      <td>A. O. Smith</td>\n",
       "      <td>Industrials</td>\n",
       "      <td>Building Products</td>\n",
       "      <td>Milwaukee, Wisconsin</td>\n",
       "      <td>2017-07-26</td>\n",
       "      <td>91142</td>\n",
       "      <td>1916</td>\n",
       "    </tr>\n",
       "    <tr>\n",
       "      <th>2</th>\n",
       "      <td>ABT</td>\n",
       "      <td>Abbott</td>\n",
       "      <td>Health Care</td>\n",
       "      <td>Health Care Equipment</td>\n",
       "      <td>North Chicago, Illinois</td>\n",
       "      <td>1957-03-04</td>\n",
       "      <td>1800</td>\n",
       "      <td>1888</td>\n",
       "    </tr>\n",
       "    <tr>\n",
       "      <th>3</th>\n",
       "      <td>ABBV</td>\n",
       "      <td>AbbVie</td>\n",
       "      <td>Health Care</td>\n",
       "      <td>Pharmaceuticals</td>\n",
       "      <td>North Chicago, Illinois</td>\n",
       "      <td>2012-12-31</td>\n",
       "      <td>1551152</td>\n",
       "      <td>2013 (1888)</td>\n",
       "    </tr>\n",
       "    <tr>\n",
       "      <th>4</th>\n",
       "      <td>ACN</td>\n",
       "      <td>Accenture</td>\n",
       "      <td>Information Technology</td>\n",
       "      <td>IT Consulting &amp; Other Services</td>\n",
       "      <td>Dublin, Ireland</td>\n",
       "      <td>2011-07-06</td>\n",
       "      <td>1467373</td>\n",
       "      <td>1989</td>\n",
       "    </tr>\n",
       "  </tbody>\n",
       "</table>\n",
       "</div>"
      ],
      "text/plain": [
       "  Symbol     Security             GICS Sector               GICS Sub-Industry    Headquarters Location  Date added      CIK      Founded\n",
       "0    MMM           3M             Industrials        Industrial Conglomerates    Saint Paul, Minnesota  1957-03-04    66740         1902\n",
       "1    AOS  A. O. Smith             Industrials               Building Products     Milwaukee, Wisconsin  2017-07-26    91142         1916\n",
       "2    ABT       Abbott             Health Care           Health Care Equipment  North Chicago, Illinois  1957-03-04     1800         1888\n",
       "3   ABBV       AbbVie             Health Care                 Pharmaceuticals  North Chicago, Illinois  2012-12-31  1551152  2013 (1888)\n",
       "4    ACN    Accenture  Information Technology  IT Consulting & Other Services          Dublin, Ireland  2011-07-06  1467373         1989"
      ]
     },
     "execution_count": 17,
     "metadata": {},
     "output_type": "execute_result"
    }
   ],
   "source": [
    "df.head()"
   ]
  },
  {
   "cell_type": "code",
   "execution_count": 18,
   "metadata": {
    "ExecuteTime": {
     "end_time": "2020-06-17T10:51:06.628859Z",
     "start_time": "2020-06-17T10:51:06.621125Z"
    }
   },
   "outputs": [],
   "source": [
    "df.columns = ['ticker', 'name', 'gics_sector', 'gics_sub_industry',\n",
    "                'location', 'first_added', 'cik', 'founded']"
   ]
  },
  {
   "cell_type": "code",
   "execution_count": 19,
   "metadata": {
    "ExecuteTime": {
     "end_time": "2020-06-17T10:51:14.523579Z",
     "start_time": "2020-06-17T10:51:14.515004Z"
    }
   },
   "outputs": [
    {
     "name": "stdout",
     "output_type": "stream",
     "text": [
      "<class 'pandas.core.frame.DataFrame'>\n",
      "RangeIndex: 503 entries, 0 to 502\n",
      "Data columns (total 8 columns):\n",
      " #   Column             Non-Null Count  Dtype \n",
      "---  ------             --------------  ----- \n",
      " 0   ticker             503 non-null    object\n",
      " 1   name               503 non-null    object\n",
      " 2   gics_sector        503 non-null    object\n",
      " 3   gics_sub_industry  503 non-null    object\n",
      " 4   location           503 non-null    object\n",
      " 5   first_added        493 non-null    object\n",
      " 6   cik                503 non-null    int64 \n",
      " 7   founded            503 non-null    object\n",
      "dtypes: int64(1), object(7)\n",
      "memory usage: 31.6+ KB\n",
      "None\n"
     ]
    }
   ],
   "source": [
    "print(df.info())"
   ]
  },
  {
   "cell_type": "code",
   "execution_count": 20,
   "metadata": {
    "ExecuteTime": {
     "end_time": "2020-06-17T10:51:17.814771Z",
     "start_time": "2020-06-17T10:51:17.788608Z"
    }
   },
   "outputs": [],
   "source": [
    "with pd.HDFStore(DATA_STORE) as store:\n",
    "    store.put('sp500/stocks', df)"
   ]
  },
  {
   "cell_type": "code",
   "execution_count": 21,
   "metadata": {},
   "outputs": [
    {
     "name": "stdout",
     "output_type": "stream",
     "text": [
      "<class 'pandas.core.frame.DataFrame'>\n",
      "Index: 4314 entries, 0 to 4313\n",
      "Data columns (total 11 columns):\n",
      " #   Column      Non-Null Count  Dtype  \n",
      "---  ------      --------------  -----  \n",
      " 0   ticker      4313 non-null   object \n",
      " 1   Name        4314 non-null   object \n",
      " 2   Last Sale   4314 non-null   object \n",
      " 3   Net Change  4314 non-null   float64\n",
      " 4   % Change    4313 non-null   object \n",
      " 5   Market Cap  4302 non-null   float64\n",
      " 6   Country     4313 non-null   object \n",
      " 7   IPO Year    2622 non-null   float64\n",
      " 8   Volume      4314 non-null   int64  \n",
      " 9   Sector      4184 non-null   object \n",
      " 10  Industry    4184 non-null   object \n",
      "dtypes: float64(3), int64(1), object(7)\n",
      "memory usage: 404.4+ KB\n",
      "None\n"
     ]
    }
   ],
   "source": [
    "\n",
    "exchanges = ['NASDAQ.csv', 'AMEX.csv', 'NYSE.csv']\n",
    "df = pd.concat([pd.read_csv(format(ex)) for ex in exchanges]).dropna(how='all', axis=1)\n",
    "\n",
    "df = df[~df.index.duplicated()]\n",
    "df=df.rename(columns={\"Symbol\":\"ticker\"})\n",
    "print(df.info()) "
   ]
  },
  {
   "cell_type": "markdown",
   "metadata": {},
   "source": []
  },
  {
   "cell_type": "code",
   "execution_count": 26,
   "metadata": {},
   "outputs": [
    {
     "name": "stdout",
     "output_type": "stream",
     "text": [
      "<class 'pandas.core.frame.DataFrame'>\n",
      "Index: 4314 entries, 0 to 4313\n",
      "Data columns (total 11 columns):\n",
      " #   Column      Non-Null Count  Dtype  \n",
      "---  ------      --------------  -----  \n",
      " 0   ticker      4313 non-null   object \n",
      " 1   Name        4314 non-null   object \n",
      " 2   Last Sale   4314 non-null   object \n",
      " 3   Net Change  4314 non-null   float64\n",
      " 4   % Change    4313 non-null   object \n",
      " 5   mktcap      4302 non-null   float64\n",
      " 6   Country     4313 non-null   object \n",
      " 7   IPO Year    2622 non-null   float64\n",
      " 8   Volume      4314 non-null   int64  \n",
      " 9   Sector      4184 non-null   object \n",
      " 10  Industry    4184 non-null   object \n",
      "dtypes: float64(3), int64(1), object(7)\n",
      "memory usage: 404.4+ KB\n"
     ]
    }
   ],
   "source": [
    "mcap=df.rename(columns = {'Market Cap':'mktcap'}, inplace = True)\n",
    "\n",
    "with pd.HDFStore(DATA_STORE) as store:\n",
    "    store.put('us_equities/stocks', df.set_index('ticker'))\n",
    "\n",
    "df.info()\n"
   ]
  },
  {
   "cell_type": "code",
   "execution_count": 29,
   "metadata": {
    "ExecuteTime": {
     "end_time": "2020-06-16T21:35:00.910722Z",
     "start_time": "2020-06-16T21:35:00.862761Z"
    }
   },
   "outputs": [
    {
     "name": "stderr",
     "output_type": "stream",
     "text": [
      "INFO:openbb_terminal.stocks.screener.finviz_model:START\n",
      "INFO:openbb_terminal.stocks.screener.finviz_model:{\"INPUT\": {\"preset_loaded\": \"sp500_filter.ini\", \"data_type\": \"overview\", \"limit\": \"-1\", \"ascend\": \"False\", \"chart\": \"False\"}, \"VIRTUAL_PATH\": \"stocks.screener.screener_data\", \"CHART\": false}\n",
      "INFO:openbb_terminal.stocks.screener.finviz_model:START\n"
     ]
    },
    {
     "data": {
      "text/html": [
       "<pre style=\"white-space:pre;overflow-x:auto;line-height:normal;font-family:Menlo,'DejaVu Sans Mono',consolas,'Courier New',monospace\"><span style=\"color: #800000; text-decoration-color: #800000\">Error: 'sp500_filter.ini'</span>\n",
       "\n",
       "</pre>\n"
      ],
      "text/plain": [
       "\u001b[31mError: 'sp500_filter.ini'\u001b[0m\n",
       "\n"
      ]
     },
     "metadata": {},
     "output_type": "display_data"
    },
    {
     "name": "stderr",
     "output_type": "stream",
     "text": [
      "ERROR:openbb_terminal.stocks.screener.finviz_model:Exception: 'sp500_filter.ini'\n",
      "Traceback (most recent call last):\n",
      "  File \"/Users/Massimiliano/anaconda3/envs/python39/lib/python3.9/site-packages/openbb_terminal/decorators.py\", line 71, in wrapper\n",
      "    value = func(*args, **kwargs)\n",
      "  File \"/Users/Massimiliano/anaconda3/envs/python39/lib/python3.9/site-packages/openbb_terminal/stocks/screener/finviz_model.py\", line 144, in get_screener_data\n",
      "    preset_filter.read(preset_choices[preset_loaded])\n",
      "KeyError: 'sp500_filter.ini'\n",
      "INFO:openbb_terminal.stocks.screener.finviz_model:END\n",
      "INFO:openbb_terminal.stocks.screener.finviz_model:START\n",
      "INFO:openbb_terminal.stocks.screener.finviz_model:{\"INPUT\": {\"preset_loaded\": \"sp500_filter\", \"data_type\": \"ownership\", \"limit\": \"-1\", \"ascend\": \"False\", \"chart\": \"False\"}, \"VIRTUAL_PATH\": \"stocks.screener.screener_data\", \"CHART\": false}\n",
      "INFO:openbb_terminal.stocks.screener.finviz_model:START\n"
     ]
    },
    {
     "name": "stdout",
     "output_type": "stream",
     "text": [
      "[Info] loading page [#-----------------------------] 1/26 \r"
     ]
    },
    {
     "data": {
      "text/html": [
       "<pre style=\"white-space:pre;overflow-x:auto;line-height:normal;font-family:Menlo,'DejaVu Sans Mono',consolas,'Courier New',monospace\"><span style=\"color: #800000; text-decoration-color: #800000\">Error: 'NoneType' object has no attribute 'findAll'</span>\n",
       "\n",
       "</pre>\n"
      ],
      "text/plain": [
       "\u001b[31mError: 'NoneType' object has no attribute 'findAll'\u001b[0m\n",
       "\n"
      ]
     },
     "metadata": {},
     "output_type": "display_data"
    },
    {
     "name": "stderr",
     "output_type": "stream",
     "text": [
      "ERROR:openbb_terminal.stocks.screener.finviz_model:Exception: 'NoneType' object has no attribute 'findAll'\n",
      "Traceback (most recent call last):\n",
      "  File \"/Users/Massimiliano/anaconda3/envs/python39/lib/python3.9/site-packages/openbb_terminal/decorators.py\", line 71, in wrapper\n",
      "    value = func(*args, **kwargs)\n",
      "  File \"/Users/Massimiliano/anaconda3/envs/python39/lib/python3.9/site-packages/openbb_terminal/stocks/screener/finviz_model.py\", line 180, in get_screener_data\n",
      "    df_screen = screen.screener_view(\n",
      "  File \"/Users/Massimiliano/anaconda3/envs/python39/lib/python3.9/site-packages/finvizfinance/screener/overview.py\", line 278, in screener_view\n",
      "    rows = table.findAll(\"tr\")\n",
      "AttributeError: 'NoneType' object has no attribute 'findAll'\n",
      "INFO:openbb_terminal.stocks.screener.finviz_model:END\n",
      "INFO:openbb_terminal.stocks.screener.finviz_model:START\n",
      "INFO:openbb_terminal.stocks.screener.finviz_model:{\"INPUT\": {\"preset_loaded\": \"sp500_filter\", \"data_type\": \"performance\", \"limit\": \"-1\", \"ascend\": \"False\", \"chart\": \"False\"}, \"VIRTUAL_PATH\": \"stocks.screener.screener_data\", \"CHART\": false}\n",
      "INFO:openbb_terminal.stocks.screener.finviz_model:START\n"
     ]
    },
    {
     "name": "stdout",
     "output_type": "stream",
     "text": [
      "[Info] loading page [#-----------------------------] 1/26 \r"
     ]
    },
    {
     "data": {
      "text/html": [
       "<pre style=\"white-space:pre;overflow-x:auto;line-height:normal;font-family:Menlo,'DejaVu Sans Mono',consolas,'Courier New',monospace\"><span style=\"color: #800000; text-decoration-color: #800000\">Error: 'NoneType' object has no attribute 'findAll'</span>\n",
       "\n",
       "</pre>\n"
      ],
      "text/plain": [
       "\u001b[31mError: 'NoneType' object has no attribute 'findAll'\u001b[0m\n",
       "\n"
      ]
     },
     "metadata": {},
     "output_type": "display_data"
    },
    {
     "name": "stderr",
     "output_type": "stream",
     "text": [
      "ERROR:openbb_terminal.stocks.screener.finviz_model:Exception: 'NoneType' object has no attribute 'findAll'\n",
      "Traceback (most recent call last):\n",
      "  File \"/Users/Massimiliano/anaconda3/envs/python39/lib/python3.9/site-packages/openbb_terminal/decorators.py\", line 71, in wrapper\n",
      "    value = func(*args, **kwargs)\n",
      "  File \"/Users/Massimiliano/anaconda3/envs/python39/lib/python3.9/site-packages/openbb_terminal/stocks/screener/finviz_model.py\", line 180, in get_screener_data\n",
      "    df_screen = screen.screener_view(\n",
      "  File \"/Users/Massimiliano/anaconda3/envs/python39/lib/python3.9/site-packages/finvizfinance/screener/overview.py\", line 278, in screener_view\n",
      "    rows = table.findAll(\"tr\")\n",
      "AttributeError: 'NoneType' object has no attribute 'findAll'\n",
      "INFO:openbb_terminal.stocks.screener.finviz_model:END\n",
      "INFO:openbb_terminal.stocks.screener.finviz_model:START\n",
      "INFO:openbb_terminal.stocks.screener.finviz_model:{\"INPUT\": {\"preset_loaded\": \"sp500_filter\", \"data_type\": \"technical\", \"limit\": \"-1\", \"ascend\": \"False\", \"chart\": \"False\"}, \"VIRTUAL_PATH\": \"stocks.screener.screener_data\", \"CHART\": false}\n",
      "INFO:openbb_terminal.stocks.screener.finviz_model:START\n"
     ]
    },
    {
     "name": "stdout",
     "output_type": "stream",
     "text": [
      "[Info] loading page [#-----------------------------] 1/26 \r"
     ]
    },
    {
     "data": {
      "text/html": [
       "<pre style=\"white-space:pre;overflow-x:auto;line-height:normal;font-family:Menlo,'DejaVu Sans Mono',consolas,'Courier New',monospace\"><span style=\"color: #800000; text-decoration-color: #800000\">Error: 'NoneType' object has no attribute 'findAll'</span>\n",
       "\n",
       "</pre>\n"
      ],
      "text/plain": [
       "\u001b[31mError: 'NoneType' object has no attribute 'findAll'\u001b[0m\n",
       "\n"
      ]
     },
     "metadata": {},
     "output_type": "display_data"
    },
    {
     "name": "stderr",
     "output_type": "stream",
     "text": [
      "ERROR:openbb_terminal.stocks.screener.finviz_model:Exception: 'NoneType' object has no attribute 'findAll'\n",
      "Traceback (most recent call last):\n",
      "  File \"/Users/Massimiliano/anaconda3/envs/python39/lib/python3.9/site-packages/openbb_terminal/decorators.py\", line 71, in wrapper\n",
      "    value = func(*args, **kwargs)\n",
      "  File \"/Users/Massimiliano/anaconda3/envs/python39/lib/python3.9/site-packages/openbb_terminal/stocks/screener/finviz_model.py\", line 180, in get_screener_data\n",
      "    df_screen = screen.screener_view(\n",
      "  File \"/Users/Massimiliano/anaconda3/envs/python39/lib/python3.9/site-packages/finvizfinance/screener/overview.py\", line 278, in screener_view\n",
      "    rows = table.findAll(\"tr\")\n",
      "AttributeError: 'NoneType' object has no attribute 'findAll'\n",
      "INFO:openbb_terminal.stocks.screener.finviz_model:END\n",
      "INFO:openbb_terminal.stocks.screener.finviz_model:START\n",
      "INFO:openbb_terminal.stocks.screener.finviz_model:{\"INPUT\": {\"preset_loaded\": \"sp500_filter\", \"data_type\": \"valuation\", \"limit\": \"-1\", \"ascend\": \"False\", \"chart\": \"False\"}, \"VIRTUAL_PATH\": \"stocks.screener.screener_data\", \"CHART\": false}\n",
      "INFO:openbb_terminal.stocks.screener.finviz_model:START\n"
     ]
    },
    {
     "name": "stdout",
     "output_type": "stream",
     "text": [
      "[Info] loading page [#-----------------------------] 1/26 \r"
     ]
    },
    {
     "data": {
      "text/html": [
       "<pre style=\"white-space:pre;overflow-x:auto;line-height:normal;font-family:Menlo,'DejaVu Sans Mono',consolas,'Courier New',monospace\"><span style=\"color: #800000; text-decoration-color: #800000\">Error: 'NoneType' object has no attribute 'findAll'</span>\n",
       "\n",
       "</pre>\n"
      ],
      "text/plain": [
       "\u001b[31mError: 'NoneType' object has no attribute 'findAll'\u001b[0m\n",
       "\n"
      ]
     },
     "metadata": {},
     "output_type": "display_data"
    },
    {
     "name": "stderr",
     "output_type": "stream",
     "text": [
      "ERROR:openbb_terminal.stocks.screener.finviz_model:Exception: 'NoneType' object has no attribute 'findAll'\n",
      "Traceback (most recent call last):\n",
      "  File \"/Users/Massimiliano/anaconda3/envs/python39/lib/python3.9/site-packages/openbb_terminal/decorators.py\", line 71, in wrapper\n",
      "    value = func(*args, **kwargs)\n",
      "  File \"/Users/Massimiliano/anaconda3/envs/python39/lib/python3.9/site-packages/openbb_terminal/stocks/screener/finviz_model.py\", line 180, in get_screener_data\n",
      "    df_screen = screen.screener_view(\n",
      "  File \"/Users/Massimiliano/anaconda3/envs/python39/lib/python3.9/site-packages/finvizfinance/screener/overview.py\", line 278, in screener_view\n",
      "    rows = table.findAll(\"tr\")\n",
      "AttributeError: 'NoneType' object has no attribute 'findAll'\n",
      "INFO:openbb_terminal.stocks.screener.finviz_model:END\n"
     ]
    },
    {
     "ename": "AttributeError",
     "evalue": "'list' object has no attribute 'convert_dtypes'",
     "output_type": "error",
     "traceback": [
      "\u001b[0;31m---------------------------------------------------------------------------\u001b[0m",
      "\u001b[0;31mAttributeError\u001b[0m                            Traceback (most recent call last)",
      "\u001b[1;32m/Users/Massimiliano/Documents/GitHub/DerivativeAnalytics/create_datasets.ipynb Cell 14\u001b[0m line \u001b[0;36m7\n\u001b[1;32m      <a href='vscode-notebook-cell:/Users/Massimiliano/Documents/GitHub/DerivativeAnalytics/create_datasets.ipynb#X16sZmlsZQ%3D%3D?line=3'>4</a>\u001b[0m sp500_technical \u001b[39m=\u001b[39m openbb\u001b[39m.\u001b[39mstocks\u001b[39m.\u001b[39mscreener\u001b[39m.\u001b[39mscreener_data(preset_loaded\u001b[39m=\u001b[39m\u001b[39m'\u001b[39m\u001b[39msp500_filter\u001b[39m\u001b[39m'\u001b[39m, data_type \u001b[39m=\u001b[39m \u001b[39m'\u001b[39m\u001b[39mtechnical\u001b[39m\u001b[39m'\u001b[39m)\n\u001b[1;32m      <a href='vscode-notebook-cell:/Users/Massimiliano/Documents/GitHub/DerivativeAnalytics/create_datasets.ipynb#X16sZmlsZQ%3D%3D?line=4'>5</a>\u001b[0m sp500_valuation \u001b[39m=\u001b[39m openbb\u001b[39m.\u001b[39mstocks\u001b[39m.\u001b[39mscreener\u001b[39m.\u001b[39mscreener_data(preset_loaded\u001b[39m=\u001b[39m\u001b[39m'\u001b[39m\u001b[39msp500_filter\u001b[39m\u001b[39m'\u001b[39m, data_type \u001b[39m=\u001b[39m \u001b[39m'\u001b[39m\u001b[39mvaluation\u001b[39m\u001b[39m'\u001b[39m)\n\u001b[0;32m----> <a href='vscode-notebook-cell:/Users/Massimiliano/Documents/GitHub/DerivativeAnalytics/create_datasets.ipynb#X16sZmlsZQ%3D%3D?line=6'>7</a>\u001b[0m sp500_overview \u001b[39m=\u001b[39m sp500_overview\u001b[39m.\u001b[39;49mconvert_dtypes()\n\u001b[1;32m      <a href='vscode-notebook-cell:/Users/Massimiliano/Documents/GitHub/DerivativeAnalytics/create_datasets.ipynb#X16sZmlsZQ%3D%3D?line=7'>8</a>\u001b[0m sp500_ownership \u001b[39m=\u001b[39m sp500_ownership\u001b[39m.\u001b[39mconvert_dtypes()\n\u001b[1;32m      <a href='vscode-notebook-cell:/Users/Massimiliano/Documents/GitHub/DerivativeAnalytics/create_datasets.ipynb#X16sZmlsZQ%3D%3D?line=8'>9</a>\u001b[0m sp500_performance \u001b[39m=\u001b[39m sp500_performance\u001b[39m.\u001b[39mconvert_dtypes()\n",
      "\u001b[0;31mAttributeError\u001b[0m: 'list' object has no attribute 'convert_dtypes'"
     ]
    }
   ],
   "source": [
    "sp500_overview = openbb.stocks.screener.screener_data(preset_loaded='sp500_filter.ini', data_type = 'overview')\n",
    "sp500_ownership = openbb.stocks.screener.screener_data(preset_loaded='sp500_filter', data_type = 'ownership')\n",
    "sp500_performance = openbb.stocks.screener.screener_data(preset_loaded='sp500_filter', data_type = 'performance')\n",
    "sp500_technical = openbb.stocks.screener.screener_data(preset_loaded='sp500_filter', data_type = 'technical')\n",
    "sp500_valuation = openbb.stocks.screener.screener_data(preset_loaded='sp500_filter', data_type = 'valuation')\n",
    "\n",
    "sp500_overview = sp500_overview.convert_dtypes()\n",
    "sp500_ownership = sp500_ownership.convert_dtypes()\n",
    "sp500_performance = sp500_performance.convert_dtypes()\n",
    "sp500_technical = sp500_technical.convert_dtypes()\n",
    "sp500_valuation = sp500_valuation.convert_dtypes()\n",
    "\n",
    "sp500_overview.drop(columns = ['P/E'], inplace = True)\n",
    "sp500_overview.set_index(keys = ['Ticker', 'Price', 'Change', 'Volume'], inplace = True)\n",
    "sp500_performance.drop(columns = ['Avg Volume', 'Price', 'Change', 'Volume'], inplace = True)\n",
    "sp500_performance.set_index(keys = ['Ticker'], inplace = True)\n",
    "sp500_ownership.drop(columns = ['Price', 'Change', 'Volume', 'Market Cap'], inplace = True)\n",
    "sp500_ownership.set_index(keys = ['Ticker'], inplace = True)\n",
    "sp500_technical.drop(columns = ['Price', 'Change', 'Volume'], inplace = True)\n",
    "sp500_technical.set_index(keys = ['Ticker'], inplace = True)\n",
    "sp500_valuation.drop(columns = ['Price', 'Change', 'Volume', 'Market Cap'], inplace = True)\n",
    "sp500_valuation.set_index(keys = ['Ticker'], inplace = True)\n",
    "\n",
    "\n",
    "sp500_df = sp500_overview.join(sp500_valuation)\n",
    "sp500_df = sp500_df.join(sp500_ownership)\n",
    "sp500_df = sp500_df.join(sp500_performance)\n",
    "sp500_df = sp500_df.join(sp500_technical)\n",
    "\n"
   ]
  },
  {
   "cell_type": "code",
   "execution_count": 49,
   "metadata": {
    "ExecuteTime": {
     "end_time": "2020-06-16T21:35:22.388412Z",
     "start_time": "2020-06-16T21:35:22.356828Z"
    }
   },
   "outputs": [
    {
     "name": "stdout",
     "output_type": "stream",
     "text": [
      "<class 'pandas.core.frame.DataFrame'>\n",
      "RangeIndex: 503 entries, 0 to 502\n",
      "Data columns (total 50 columns):\n",
      " #   Column         Non-Null Count  Dtype  \n",
      "---  ------         --------------  -----  \n",
      " 0   Ticker         503 non-null    object \n",
      " 1   Price          503 non-null    float64\n",
      " 2   Change         503 non-null    float64\n",
      " 3   Volume         503 non-null    int64  \n",
      " 4   Company        503 non-null    object \n",
      " 5   Sector         503 non-null    object \n",
      " 6   Industry       503 non-null    object \n",
      " 7   Country        503 non-null    object \n",
      " 8   Market Cap     503 non-null    float64\n",
      " 9   P/E            463 non-null    float64\n",
      " 10  Fwd P/E        499 non-null    float64\n",
      " 11  PEG            382 non-null    float64\n",
      " 12  P/S            503 non-null    float64\n",
      " 13  P/B            468 non-null    float64\n",
      " 14  P/C            499 non-null    float64\n",
      " 15  P/FCF          433 non-null    float64\n",
      " 16  EPS this Y     501 non-null    float64\n",
      " 17  EPS next Y     501 non-null    float64\n",
      " 18  EPS past 5Y    498 non-null    float64\n",
      " 19  EPS next 5Y    473 non-null    float64\n",
      " 20  Sales past 5Y  496 non-null    float64\n",
      " 21  Outstanding    503 non-null    float64\n",
      " 22  Float          503 non-null    float64\n",
      " 23  Insider Own    502 non-null    float64\n",
      " 24  Insider Trans  500 non-null    float64\n",
      " 25  Inst Own       503 non-null    float64\n",
      " 26  Inst Trans     495 non-null    float64\n",
      " 27  Float Short    503 non-null    float64\n",
      " 28  Short Ratio    503 non-null    float64\n",
      " 29  Avg Volume     503 non-null    float64\n",
      " 30  1W             503 non-null    float64\n",
      " 31  1M             503 non-null    float64\n",
      " 32  3M             503 non-null    float64\n",
      " 33  6M             502 non-null    float64\n",
      " 34  1Y             501 non-null    float64\n",
      " 35  YTD            503 non-null    float64\n",
      " 36  1W Volatility  503 non-null    float64\n",
      " 37  1M Volatility  503 non-null    float64\n",
      " 38  Recom          499 non-null    float64\n",
      " 39  Rel Volume     503 non-null    float64\n",
      " 40  Beta           501 non-null    float64\n",
      " 41  ATR            503 non-null    float64\n",
      " 42  SMA20          503 non-null    float64\n",
      " 43  SMA50          503 non-null    float64\n",
      " 44  SMA200         503 non-null    float64\n",
      " 45  52W High       503 non-null    float64\n",
      " 46  52W Low        503 non-null    float64\n",
      " 47  RSI            503 non-null    float64\n",
      " 48  from Open      503 non-null    float64\n",
      " 49  Gap            503 non-null    float64\n",
      "dtypes: float64(44), int64(1), object(5)\n",
      "memory usage: 196.6+ KB\n",
      "None\n"
     ]
    }
   ],
   "source": [
    "sp500_df.to_csv('SP500_df.csv')\n",
    "\n",
    "sp500_df = (pd.read_csv('SP500_df.csv'))\n",
    "print(sp500_df.info(null_counts=True))\n",
    "with pd.HDFStore(DATA_STORE) as store:\n",
    "        store.put('SP500_df', sp500_df)"
   ]
  },
  {
   "cell_type": "markdown",
   "metadata": {},
   "source": [
    "## MNIST Data"
   ]
  },
  {
   "cell_type": "code",
   "execution_count": 50,
   "metadata": {
    "ExecuteTime": {
     "end_time": "2020-06-18T17:19:11.720146Z",
     "start_time": "2020-06-18T17:18:53.948739Z"
    }
   },
   "outputs": [],
   "source": [
    "mnist = fetch_openml('mnist_784', version=1)"
   ]
  },
  {
   "cell_type": "code",
   "execution_count": 51,
   "metadata": {
    "ExecuteTime": {
     "end_time": "2020-06-18T17:19:11.723222Z",
     "start_time": "2020-06-18T17:19:11.721079Z"
    }
   },
   "outputs": [
    {
     "name": "stdout",
     "output_type": "stream",
     "text": [
      "**Author**: Yann LeCun, Corinna Cortes, Christopher J.C. Burges  \n",
      "**Source**: [MNIST Website](http://yann.lecun.com/exdb/mnist/) - Date unknown  \n",
      "**Please cite**:  \n",
      "\n",
      "The MNIST database of handwritten digits with 784 features, raw data available at: http://yann.lecun.com/exdb/mnist/. It can be split in a training set of the first 60,000 examples, and a test set of 10,000 examples  \n",
      "\n",
      "It is a subset of a larger set available from NIST. The digits have been size-normalized and centered in a fixed-size image. It is a good database for people who want to try learning techniques and pattern recognition methods on real-world data while spending minimal efforts on preprocessing and formatting. The original black and white (bilevel) images from NIST were size normalized to fit in a 20x20 pixel box while preserving their aspect ratio. The resulting images contain grey levels as a result of the anti-aliasing technique used by the normalization algorithm. the images were centered in a 28x28 image by computing the center of mass of the pixels, and translating the image so as to position this point at the center of the 28x28 field.  \n",
      "\n",
      "With some classification methods (particularly template-based methods, such as SVM and K-nearest neighbors), the error rate improves when the digits are centered by bounding box rather than center of mass. If you do this kind of pre-processing, you should report it in your publications. The MNIST database was constructed from NIST's NIST originally designated SD-3 as their training set and SD-1 as their test set. However, SD-3 is much cleaner and easier to recognize than SD-1. The reason for this can be found on the fact that SD-3 was collected among Census Bureau employees, while SD-1 was collected among high-school students. Drawing sensible conclusions from learning experiments requires that the result be independent of the choice of training set and test among the complete set of samples. Therefore it was necessary to build a new database by mixing NIST's datasets.  \n",
      "\n",
      "The MNIST training set is composed of 30,000 patterns from SD-3 and 30,000 patterns from SD-1. Our test set was composed of 5,000 patterns from SD-3 and 5,000 patterns from SD-1. The 60,000 pattern training set contained examples from approximately 250 writers. We made sure that the sets of writers of the training set and test set were disjoint. SD-1 contains 58,527 digit images written by 500 different writers. In contrast to SD-3, where blocks of data from each writer appeared in sequence, the data in SD-1 is scrambled. Writer identities for SD-1 is available and we used this information to unscramble the writers. We then split SD-1 in two: characters written by the first 250 writers went into our new training set. The remaining 250 writers were placed in our test set. Thus we had two sets with nearly 30,000 examples each. The new training set was completed with enough examples from SD-3, starting at pattern # 0, to make a full set of 60,000 training patterns. Similarly, the new test set was completed with SD-3 examples starting at pattern # 35,000 to make a full set with 60,000 test patterns. Only a subset of 10,000 test images (5,000 from SD-1 and 5,000 from SD-3) is available on this site. The full 60,000 sample training set is available.\n",
      "\n",
      "Downloaded from openml.org.\n"
     ]
    }
   ],
   "source": [
    "print(mnist.DESCR)"
   ]
  },
  {
   "cell_type": "code",
   "execution_count": 52,
   "metadata": {
    "ExecuteTime": {
     "end_time": "2020-06-18T17:19:21.823457Z",
     "start_time": "2020-06-18T17:19:21.815369Z"
    }
   },
   "outputs": [
    {
     "data": {
      "text/plain": [
       "dict_keys(['data', 'target', 'frame', 'categories', 'feature_names', 'target_names', 'DESCR', 'details', 'url'])"
      ]
     },
     "execution_count": 52,
     "metadata": {},
     "output_type": "execute_result"
    }
   ],
   "source": [
    "mnist.keys()"
   ]
  },
  {
   "cell_type": "code",
   "execution_count": 53,
   "metadata": {
    "ExecuteTime": {
     "end_time": "2020-06-18T17:19:59.989715Z",
     "start_time": "2020-06-18T17:19:59.983320Z"
    }
   },
   "outputs": [],
   "source": [
    "mnist_path = Path('mnist')\n",
    "if not mnist_path.exists():\n",
    "    mnist_path.mkdir()"
   ]
  },
  {
   "cell_type": "code",
   "execution_count": 54,
   "metadata": {
    "ExecuteTime": {
     "end_time": "2020-06-18T17:20:25.489271Z",
     "start_time": "2020-06-18T17:20:25.418621Z"
    }
   },
   "outputs": [],
   "source": [
    "np.save(mnist_path / 'data', mnist.data.astype(np.uint8))\n",
    "np.save(mnist_path / 'labels', mnist.target.astype(np.uint8))"
   ]
  }
 ],
 "metadata": {
  "kernelspec": {
   "display_name": "Python 3 (ipykernel)",
   "language": "python",
   "name": "python3"
  },
  "language_info": {
   "codemirror_mode": {
    "name": "ipython",
    "version": 3
   },
   "file_extension": ".py",
   "mimetype": "text/x-python",
   "name": "python",
   "nbconvert_exporter": "python",
   "pygments_lexer": "ipython3",
   "version": "3.9.17"
  },
  "toc": {
   "base_numbering": 1,
   "nav_menu": {},
   "number_sections": true,
   "sideBar": true,
   "skip_h1_title": true,
   "title_cell": "Table of Contents",
   "title_sidebar": "Contents",
   "toc_cell": false,
   "toc_position": {},
   "toc_section_display": true,
   "toc_window_display": true
  }
 },
 "nbformat": 4,
 "nbformat_minor": 4
}
