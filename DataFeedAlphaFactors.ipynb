{
 "cells": [
  {
   "cell_type": "code",
   "execution_count": 28,
   "metadata": {},
   "outputs": [],
   "source": [
    "%matplotlib inline\n",
    "\n",
    "from datetime import datetime\n",
    "import pandas as pd\n",
    "import pandas_datareader.data as web\n",
    "\n",
    "# replaces pyfinance.ols.PandasRollingOLS (no longer maintained)\n",
    "from statsmodels.regression.rolling import RollingOLS\n",
    "import statsmodels.api as sm\n",
    "\n",
    "import matplotlib.pyplot as plt\n",
    "import seaborn as sns"
   ]
  },
  {
   "cell_type": "code",
   "execution_count": 29,
   "metadata": {},
   "outputs": [],
   "source": [
    "import warnings\n",
    "warnings.filterwarnings('ignore')"
   ]
  },
  {
   "cell_type": "code",
   "execution_count": 30,
   "metadata": {},
   "outputs": [],
   "source": [
    "sns.set_style('whitegrid')\n",
    "idx = pd.IndexSlice"
   ]
  },
  {
   "cell_type": "code",
   "execution_count": 31,
   "metadata": {},
   "outputs": [],
   "source": [
    "DATA_STORE = '/Users/Massimiliano/assets.h5'"
   ]
  },
  {
   "cell_type": "code",
   "execution_count": 32,
   "metadata": {},
   "outputs": [],
   "source": [
    "START = 2000\n",
    "END = 2018"
   ]
  },
  {
   "cell_type": "code",
   "execution_count": 70,
   "metadata": {},
   "outputs": [
    {
     "ename": "SyntaxError",
     "evalue": "invalid syntax (3118949611.py, line 5)",
     "output_type": "error",
     "traceback": [
      "\u001b[0;36m  Cell \u001b[0;32mIn[70], line 5\u001b[0;36m\u001b[0m\n\u001b[0;31m    stocks = store['us_equities/stocks'].loc[:, ['Market Cap', 'IPO Year': 'ipoyear', 'Sector']]\u001b[0m\n\u001b[0m                                                                         ^\u001b[0m\n\u001b[0;31mSyntaxError\u001b[0m\u001b[0;31m:\u001b[0m invalid syntax\n"
     ]
    }
   ],
   "source": [
    "with pd.HDFStore(DATA_STORE) as store:\n",
    "    prices = (store['quandl/wiki/prices']\n",
    "              .loc[idx[str(START):str(END), :], 'adj_close']\n",
    "              .unstack('ticker'))\n",
    "    stocks = store['us_equities/stocks'].loc[:, ['Market Cap', 'IPO Year' , 'Sector']]"
   ]
  },
  {
   "cell_type": "code",
   "execution_count": 34,
   "metadata": {},
   "outputs": [
    {
     "name": "stdout",
     "output_type": "stream",
     "text": [
      "<class 'pandas.core.frame.DataFrame'>\n",
      "DatetimeIndex: 4706 entries, 2000-01-03 to 2018-03-27\n",
      "Columns: 3199 entries, A to ZUMZ\n",
      "dtypes: float64(3199)\n",
      "memory usage: 114.9 MB\n"
     ]
    }
   ],
   "source": [
    "prices.info()"
   ]
  },
  {
   "cell_type": "code",
   "execution_count": 35,
   "metadata": {},
   "outputs": [
    {
     "name": "stdout",
     "output_type": "stream",
     "text": [
      "<class 'pandas.core.frame.DataFrame'>\n",
      "Index: 4314 entries, AACG to ZYXI\n",
      "Data columns (total 3 columns):\n",
      " #   Column      Non-Null Count  Dtype  \n",
      "---  ------      --------------  -----  \n",
      " 0   Market Cap  4302 non-null   float64\n",
      " 1   IPO Year    2622 non-null   float64\n",
      " 2   Sector      4184 non-null   object \n",
      "dtypes: float64(2), object(1)\n",
      "memory usage: 134.8+ KB\n"
     ]
    }
   ],
   "source": [
    "stocks.info()"
   ]
  },
  {
   "cell_type": "code",
   "execution_count": 36,
   "metadata": {},
   "outputs": [
    {
     "name": "stdout",
     "output_type": "stream",
     "text": [
      "<class 'pandas.core.frame.DataFrame'>\n",
      "Index: 843 entries, AAL to ZUMZ\n",
      "Data columns (total 3 columns):\n",
      " #   Column      Non-Null Count  Dtype  \n",
      "---  ------      --------------  -----  \n",
      " 0   Market Cap  843 non-null    float64\n",
      " 1   IPO Year    447 non-null    float64\n",
      " 2   Sector      836 non-null    object \n",
      "dtypes: float64(2), object(1)\n",
      "memory usage: 26.3+ KB\n"
     ]
    }
   ],
   "source": [
    "#Remove stocks duplicates and align index names for later joining.\n",
    "stocks = stocks[~stocks.index.duplicated()]\n",
    "stocks.index.name = 'ticker'\n",
    "\n",
    "#Get tickers with both price information and metadata\n",
    "shared = prices.columns.intersection(stocks.index)\n",
    "stocks = stocks.loc[shared, :]\n",
    "stocks.info()"
   ]
  },
  {
   "cell_type": "code",
   "execution_count": 37,
   "metadata": {},
   "outputs": [],
   "source": [
    "#resamplemonthlyreturns\n",
    "monthly_prices = prices.resample('M').last()"
   ]
  },
  {
   "cell_type": "code",
   "execution_count": 38,
   "metadata": {},
   "outputs": [
    {
     "name": "stdout",
     "output_type": "stream",
     "text": [
      "<class 'pandas.core.frame.DataFrame'>\n",
      "DatetimeIndex: 219 entries, 2000-01-31 to 2018-03-31\n",
      "Freq: M\n",
      "Columns: 3199 entries, A to ZUMZ\n",
      "dtypes: float64(3199)\n",
      "memory usage: 5.3 MB\n"
     ]
    }
   ],
   "source": [
    "monthly_prices.info()"
   ]
  },
  {
   "cell_type": "code",
   "execution_count": 39,
   "metadata": {},
   "outputs": [],
   "source": [
    "#To capture time series dynamics that reflect, for example, momentum patterns, \n",
    "#we compute historical returns using the method .pct_change(n_periods), \n",
    "#that is, returns over various monthly periods as identified by lags.\n",
    "\n",
    "#We then convert the wide result back to long format with the .stack() method, \n",
    "#use .pipe() to apply the .clip() method to the resulting DataFrame, and \n",
    "#Finally, we normalize returns using the geometric average. \n",
    "#winsorize returns at the [1%, 99%] levels; that is, we cap outliers at these percentiles.\n",
    "#After using .swaplevel() to change the order of the MultiIndex levels, \n",
    "#we obtain compounded monthly returns for six periods ranging from 1 to 12 months:"
   ]
  },
  {
   "cell_type": "code",
   "execution_count": 40,
   "metadata": {},
   "outputs": [
    {
     "name": "stdout",
     "output_type": "stream",
     "text": [
      "<class 'pandas.core.frame.DataFrame'>\n",
      "MultiIndex: 521806 entries, ('A', Timestamp('2001-01-31 00:00:00')) to ('ZUMZ', Timestamp('2018-03-31 00:00:00'))\n",
      "Data columns (total 6 columns):\n",
      " #   Column      Non-Null Count   Dtype  \n",
      "---  ------      --------------   -----  \n",
      " 0   return_1m   521806 non-null  float64\n",
      " 1   return_2m   521806 non-null  float64\n",
      " 2   return_3m   521806 non-null  float64\n",
      " 3   return_6m   521806 non-null  float64\n",
      " 4   return_9m   521806 non-null  float64\n",
      " 5   return_12m  521806 non-null  float64\n",
      "dtypes: float64(6)\n",
      "memory usage: 26.0+ MB\n"
     ]
    }
   ],
   "source": [
    "outlier_cutoff = 0.01\n",
    "data = pd.DataFrame()\n",
    "lags = [1, 2, 3, 6, 9, 12]\n",
    "for lag in lags:\n",
    "    data[f'return_{lag}m'] = (monthly_prices\n",
    "                           .pct_change(lag)\n",
    "                           .stack()\n",
    "                           .pipe(lambda x: x.clip(lower=x.quantile(outlier_cutoff),\n",
    "                                                  upper=x.quantile(1-outlier_cutoff)))\n",
    "                           .add(1)\n",
    "                           .pow(1/lag)\n",
    "                           .sub(1)\n",
    "                           )\n",
    "data = data.swaplevel().dropna()\n",
    "data.info()"
   ]
  },
  {
   "cell_type": "code",
   "execution_count": 41,
   "metadata": {},
   "outputs": [],
   "source": [
    "#Drop stocks with less than 10 yrs of returns"
   ]
  },
  {
   "cell_type": "code",
   "execution_count": 42,
   "metadata": {},
   "outputs": [
    {
     "name": "stdout",
     "output_type": "stream",
     "text": [
      "<class 'pandas.core.frame.DataFrame'>\n",
      "MultiIndex: 465935 entries, ('A', Timestamp('2001-01-31 00:00:00')) to ('ZUMZ', Timestamp('2018-03-31 00:00:00'))\n",
      "Data columns (total 6 columns):\n",
      " #   Column      Non-Null Count   Dtype  \n",
      "---  ------      --------------   -----  \n",
      " 0   return_1m   465935 non-null  float64\n",
      " 1   return_2m   465935 non-null  float64\n",
      " 2   return_3m   465935 non-null  float64\n",
      " 3   return_6m   465935 non-null  float64\n",
      " 4   return_9m   465935 non-null  float64\n",
      " 5   return_12m  465935 non-null  float64\n",
      "dtypes: float64(6)\n",
      "memory usage: 23.3+ MB\n"
     ]
    }
   ],
   "source": [
    "min_obs = 120\n",
    "nobs = data.groupby(level='ticker').size()\n",
    "keep = nobs[nobs>min_obs].index\n",
    "\n",
    "data = data.loc[idx[keep,:], :]\n",
    "data.info()"
   ]
  },
  {
   "cell_type": "code",
   "execution_count": 43,
   "metadata": {},
   "outputs": [
    {
     "data": {
      "text/html": [
       "<div>\n",
       "<style scoped>\n",
       "    .dataframe tbody tr th:only-of-type {\n",
       "        vertical-align: middle;\n",
       "    }\n",
       "\n",
       "    .dataframe tbody tr th {\n",
       "        vertical-align: top;\n",
       "    }\n",
       "\n",
       "    .dataframe thead th {\n",
       "        text-align: right;\n",
       "    }\n",
       "</style>\n",
       "<table border=\"1\" class=\"dataframe\">\n",
       "  <thead>\n",
       "    <tr style=\"text-align: right;\">\n",
       "      <th></th>\n",
       "      <th>return_1m</th>\n",
       "      <th>return_2m</th>\n",
       "      <th>return_3m</th>\n",
       "      <th>return_6m</th>\n",
       "      <th>return_9m</th>\n",
       "      <th>return_12m</th>\n",
       "    </tr>\n",
       "  </thead>\n",
       "  <tbody>\n",
       "    <tr>\n",
       "      <th>count</th>\n",
       "      <td>465935.000000</td>\n",
       "      <td>465935.000000</td>\n",
       "      <td>465935.000000</td>\n",
       "      <td>465935.000000</td>\n",
       "      <td>465935.000000</td>\n",
       "      <td>465935.000000</td>\n",
       "    </tr>\n",
       "    <tr>\n",
       "      <th>mean</th>\n",
       "      <td>0.011694</td>\n",
       "      <td>0.008454</td>\n",
       "      <td>0.007306</td>\n",
       "      <td>0.006036</td>\n",
       "      <td>0.005542</td>\n",
       "      <td>0.005285</td>\n",
       "    </tr>\n",
       "    <tr>\n",
       "      <th>std</th>\n",
       "      <td>0.117872</td>\n",
       "      <td>0.084059</td>\n",
       "      <td>0.069195</td>\n",
       "      <td>0.050674</td>\n",
       "      <td>0.041919</td>\n",
       "      <td>0.036635</td>\n",
       "    </tr>\n",
       "    <tr>\n",
       "      <th>min</th>\n",
       "      <td>-0.343442</td>\n",
       "      <td>-0.269341</td>\n",
       "      <td>-0.229978</td>\n",
       "      <td>-0.175426</td>\n",
       "      <td>-0.145071</td>\n",
       "      <td>-0.125787</td>\n",
       "    </tr>\n",
       "    <tr>\n",
       "      <th>25%</th>\n",
       "      <td>-0.046679</td>\n",
       "      <td>-0.031096</td>\n",
       "      <td>-0.024413</td>\n",
       "      <td>-0.015632</td>\n",
       "      <td>-0.012035</td>\n",
       "      <td>-0.009962</td>\n",
       "    </tr>\n",
       "    <tr>\n",
       "      <th>50%</th>\n",
       "      <td>0.006369</td>\n",
       "      <td>0.007476</td>\n",
       "      <td>0.007810</td>\n",
       "      <td>0.008024</td>\n",
       "      <td>0.007924</td>\n",
       "      <td>0.007852</td>\n",
       "    </tr>\n",
       "    <tr>\n",
       "      <th>75%</th>\n",
       "      <td>0.065314</td>\n",
       "      <td>0.048890</td>\n",
       "      <td>0.041722</td>\n",
       "      <td>0.031742</td>\n",
       "      <td>0.027062</td>\n",
       "      <td>0.024439</td>\n",
       "    </tr>\n",
       "    <tr>\n",
       "      <th>max</th>\n",
       "      <td>0.449446</td>\n",
       "      <td>0.294075</td>\n",
       "      <td>0.230064</td>\n",
       "      <td>0.159207</td>\n",
       "      <td>0.128147</td>\n",
       "      <td>0.108809</td>\n",
       "    </tr>\n",
       "  </tbody>\n",
       "</table>\n",
       "</div>"
      ],
      "text/plain": [
       "           return_1m      return_2m      return_3m      return_6m  \\\n",
       "count  465935.000000  465935.000000  465935.000000  465935.000000   \n",
       "mean        0.011694       0.008454       0.007306       0.006036   \n",
       "std         0.117872       0.084059       0.069195       0.050674   \n",
       "min        -0.343442      -0.269341      -0.229978      -0.175426   \n",
       "25%        -0.046679      -0.031096      -0.024413      -0.015632   \n",
       "50%         0.006369       0.007476       0.007810       0.008024   \n",
       "75%         0.065314       0.048890       0.041722       0.031742   \n",
       "max         0.449446       0.294075       0.230064       0.159207   \n",
       "\n",
       "           return_9m     return_12m  \n",
       "count  465935.000000  465935.000000  \n",
       "mean        0.005542       0.005285  \n",
       "std         0.041919       0.036635  \n",
       "min        -0.145071      -0.125787  \n",
       "25%        -0.012035      -0.009962  \n",
       "50%         0.007924       0.007852  \n",
       "75%         0.027062       0.024439  \n",
       "max         0.128147       0.108809  "
      ]
     },
     "execution_count": 43,
     "metadata": {},
     "output_type": "execute_result"
    }
   ],
   "source": [
    "data.describe()"
   ]
  },
  {
   "cell_type": "code",
   "execution_count": 44,
   "metadata": {},
   "outputs": [
    {
     "data": {
      "image/png": "[encoded data removed]",
      "text/plain": [
       "<Figure size 1000x1000 with 4 Axes>"
      ]
     },
     "metadata": {},
     "output_type": "display_data"
    }
   ],
   "source": [
    "# cmap = sns.diverging_palette(10, 220, as_cmap=True)\n",
    "sns.clustermap(data.corr('spearman'), annot=True, center=0, cmap='Blues');"
   ]
  },
  {
   "cell_type": "code",
   "execution_count": 45,
   "metadata": {},
   "outputs": [
    {
     "data": {
      "text/plain": [
       "2385"
      ]
     },
     "execution_count": 45,
     "metadata": {},
     "output_type": "execute_result"
    }
   ],
   "source": [
    "#n of tickers left\n",
    "data.index.get_level_values('ticker').nunique()"
   ]
  },
  {
   "cell_type": "code",
   "execution_count": 46,
   "metadata": {},
   "outputs": [],
   "source": [
    "#the five Fama—French factors, namely market risk, size, value, operating profitability,\n",
    "# and investment have been shown empirically to explain asset returns and are commonly used \n",
    "# to assess the risk/return profile of portfolios. Hence, it is natural to include past \n",
    "# factor exposures as financial features in models that aim to predict future returns.We can access \n",
    "# the historical factor returns using the pandas-datareader and estimate historical exposures \n",
    "# using the RollingOLS rolling linear regression functionality in the statsmodels library as follows:\n",
    "# Use Fama-French research factors to estimate the factor exposures of the stock in the dataset to \n",
    "# the 5 factors market risk, size, value, operating profitability and investment."
   ]
  },
  {
   "cell_type": "code",
   "execution_count": 47,
   "metadata": {},
   "outputs": [
    {
     "name": "stdout",
     "output_type": "stream",
     "text": [
      "<class 'pandas.core.frame.DataFrame'>\n",
      "DatetimeIndex: 283 entries, 2000-01-31 to 2023-07-31\n",
      "Freq: M\n",
      "Data columns (total 5 columns):\n",
      " #   Column  Non-Null Count  Dtype  \n",
      "---  ------  --------------  -----  \n",
      " 0   Mkt-RF  283 non-null    float64\n",
      " 1   SMB     283 non-null    float64\n",
      " 2   HML     283 non-null    float64\n",
      " 3   RMW     283 non-null    float64\n",
      " 4   CMA     283 non-null    float64\n",
      "dtypes: float64(5)\n",
      "memory usage: 13.3 KB\n"
     ]
    }
   ],
   "source": [
    "factors = ['Mkt-RF', 'SMB', 'HML', 'RMW', 'CMA']\n",
    "factor_data = web.DataReader('F-F_Research_Data_5_Factors_2x3', 'famafrench', start='2000')[0].drop('RF', axis=1)\n",
    "factor_data.index = factor_data.index.to_timestamp()\n",
    "factor_data = factor_data.resample('M').last().div(100)\n",
    "factor_data.index.name = 'date'\n",
    "factor_data.info()"
   ]
  },
  {
   "cell_type": "code",
   "execution_count": 48,
   "metadata": {},
   "outputs": [
    {
     "name": "stdout",
     "output_type": "stream",
     "text": [
      "<class 'pandas.core.frame.DataFrame'>\n",
      "MultiIndex: 465935 entries, ('A', Timestamp('2001-01-31 00:00:00')) to ('ZUMZ', Timestamp('2018-03-31 00:00:00'))\n",
      "Data columns (total 6 columns):\n",
      " #   Column     Non-Null Count   Dtype  \n",
      "---  ------     --------------   -----  \n",
      " 0   Mkt-RF     465935 non-null  float64\n",
      " 1   SMB        465935 non-null  float64\n",
      " 2   HML        465935 non-null  float64\n",
      " 3   RMW        465935 non-null  float64\n",
      " 4   CMA        465935 non-null  float64\n",
      " 5   return_1m  465935 non-null  float64\n",
      "dtypes: float64(6)\n",
      "memory usage: 23.3+ MB\n"
     ]
    }
   ],
   "source": [
    "factor_data = factor_data.join(data['return_1m']).sort_index()\n",
    "factor_data.info()"
   ]
  },
  {
   "cell_type": "code",
   "execution_count": 49,
   "metadata": {},
   "outputs": [],
   "source": [
    "T = 24\n",
    "betas = (factor_data.groupby(level='ticker',\n",
    "                             group_keys=False)\n",
    "         .apply(lambda x: RollingOLS(endog=x.return_1m,\n",
    "                                     exog=sm.add_constant(x.drop('return_1m', axis=1)),\n",
    "                                     window=min(T, x.shape[0]-1))\n",
    "                .fit(params_only=True)\n",
    "                .params\n",
    "                .drop('const', axis=1)))"
   ]
  },
  {
   "cell_type": "code",
   "execution_count": 50,
   "metadata": {},
   "outputs": [
    {
     "data": {
      "text/html": [
       "<div>\n",
       "<style scoped>\n",
       "    .dataframe tbody tr th:only-of-type {\n",
       "        vertical-align: middle;\n",
       "    }\n",
       "\n",
       "    .dataframe tbody tr th {\n",
       "        vertical-align: top;\n",
       "    }\n",
       "\n",
       "    .dataframe thead th {\n",
       "        text-align: right;\n",
       "    }\n",
       "</style>\n",
       "<table border=\"1\" class=\"dataframe\">\n",
       "  <thead>\n",
       "    <tr style=\"text-align: right;\">\n",
       "      <th></th>\n",
       "      <th>Mkt-RF</th>\n",
       "      <th>SMB</th>\n",
       "      <th>HML</th>\n",
       "      <th>RMW</th>\n",
       "      <th>CMA</th>\n",
       "      <th>total</th>\n",
       "    </tr>\n",
       "  </thead>\n",
       "  <tbody>\n",
       "    <tr>\n",
       "      <th>count</th>\n",
       "      <td>411080.000000</td>\n",
       "      <td>411080.000000</td>\n",
       "      <td>411080.000000</td>\n",
       "      <td>4.110800e+05</td>\n",
       "      <td>411080.000000</td>\n",
       "      <td>465935.000000</td>\n",
       "    </tr>\n",
       "    <tr>\n",
       "      <th>mean</th>\n",
       "      <td>0.973492</td>\n",
       "      <td>0.636987</td>\n",
       "      <td>0.114794</td>\n",
       "      <td>-9.588593e-02</td>\n",
       "      <td>0.011020</td>\n",
       "      <td>1.447280</td>\n",
       "    </tr>\n",
       "    <tr>\n",
       "      <th>std</th>\n",
       "      <td>0.950564</td>\n",
       "      <td>1.299703</td>\n",
       "      <td>1.665761</td>\n",
       "      <td>1.970651e+00</td>\n",
       "      <td>2.250540</td>\n",
       "      <td>3.417199</td>\n",
       "    </tr>\n",
       "    <tr>\n",
       "      <th>min</th>\n",
       "      <td>-9.839232</td>\n",
       "      <td>-10.501530</td>\n",
       "      <td>-15.440012</td>\n",
       "      <td>-2.388501e+01</td>\n",
       "      <td>-20.177240</td>\n",
       "      <td>-34.475140</td>\n",
       "    </tr>\n",
       "    <tr>\n",
       "      <th>25%</th>\n",
       "      <td>0.429052</td>\n",
       "      <td>-0.118705</td>\n",
       "      <td>-0.727252</td>\n",
       "      <td>-1.038744e+00</td>\n",
       "      <td>-1.110432</td>\n",
       "      <td>0.000000</td>\n",
       "    </tr>\n",
       "    <tr>\n",
       "      <th>50%</th>\n",
       "      <td>0.918570</td>\n",
       "      <td>0.541603</td>\n",
       "      <td>0.073721</td>\n",
       "      <td>2.814603e-15</td>\n",
       "      <td>0.017130</td>\n",
       "      <td>1.123828</td>\n",
       "    </tr>\n",
       "    <tr>\n",
       "      <th>75%</th>\n",
       "      <td>1.458601</td>\n",
       "      <td>1.331325</td>\n",
       "      <td>0.948263</td>\n",
       "      <td>9.435047e-01</td>\n",
       "      <td>1.153548</td>\n",
       "      <td>3.149559</td>\n",
       "    </tr>\n",
       "    <tr>\n",
       "      <th>max</th>\n",
       "      <td>10.965766</td>\n",
       "      <td>10.437477</td>\n",
       "      <td>16.273464</td>\n",
       "      <td>1.894054e+01</td>\n",
       "      <td>21.483337</td>\n",
       "      <td>39.249219</td>\n",
       "    </tr>\n",
       "  </tbody>\n",
       "</table>\n",
       "</div>"
      ],
      "text/plain": [
       "              Mkt-RF            SMB            HML           RMW  \\\n",
       "count  411080.000000  411080.000000  411080.000000  4.110800e+05   \n",
       "mean        0.973492       0.636987       0.114794 -9.588593e-02   \n",
       "std         0.950564       1.299703       1.665761  1.970651e+00   \n",
       "min        -9.839232     -10.501530     -15.440012 -2.388501e+01   \n",
       "25%         0.429052      -0.118705      -0.727252 -1.038744e+00   \n",
       "50%         0.918570       0.541603       0.073721  2.814603e-15   \n",
       "75%         1.458601       1.331325       0.948263  9.435047e-01   \n",
       "max        10.965766      10.437477      16.273464  1.894054e+01   \n",
       "\n",
       "                 CMA          total  \n",
       "count  411080.000000  465935.000000  \n",
       "mean        0.011020       1.447280  \n",
       "std         2.250540       3.417199  \n",
       "min       -20.177240     -34.475140  \n",
       "25%        -1.110432       0.000000  \n",
       "50%         0.017130       1.123828  \n",
       "75%         1.153548       3.149559  \n",
       "max        21.483337      39.249219  "
      ]
     },
     "execution_count": 50,
     "metadata": {},
     "output_type": "execute_result"
    }
   ],
   "source": [
    "betas.describe().join(betas.sum(1).describe().to_frame('total'))"
   ]
  },
  {
   "cell_type": "code",
   "execution_count": 51,
   "metadata": {},
   "outputs": [
    {
     "data": {
      "text/plain": [
       "<seaborn.matrix.ClusterGrid at 0x7f8fac9ae7c0>"
      ]
     },
     "execution_count": 51,
     "metadata": {},
     "output_type": "execute_result"
    },
    {
     "data": {
      "image/png": "[encoded data removed]",
      "text/plain": [
       "<Figure size 1000x1000 with 4 Axes>"
      ]
     },
     "metadata": {},
     "output_type": "display_data"
    }
   ],
   "source": [
    "cmap = sns.diverging_palette(10, 220, as_cmap=True)\n",
    "sns.clustermap(betas.corr(), annot=True, cmap=cmap, center=0)"
   ]
  },
  {
   "cell_type": "code",
   "execution_count": 52,
   "metadata": {},
   "outputs": [
    {
     "name": "stdout",
     "output_type": "stream",
     "text": [
      "<class 'pandas.core.frame.DataFrame'>\n",
      "MultiIndex: 465935 entries, ('A', Timestamp('2001-01-31 00:00:00')) to ('ZUMZ', Timestamp('2018-03-31 00:00:00'))\n",
      "Data columns (total 11 columns):\n",
      " #   Column      Non-Null Count   Dtype  \n",
      "---  ------      --------------   -----  \n",
      " 0   return_1m   465935 non-null  float64\n",
      " 1   return_2m   465935 non-null  float64\n",
      " 2   return_3m   465935 non-null  float64\n",
      " 3   return_6m   465935 non-null  float64\n",
      " 4   return_9m   465935 non-null  float64\n",
      " 5   return_12m  465935 non-null  float64\n",
      " 6   Mkt-RF      408695 non-null  float64\n",
      " 7   SMB         408695 non-null  float64\n",
      " 8   HML         408695 non-null  float64\n",
      " 9   RMW         408695 non-null  float64\n",
      " 10  CMA         408695 non-null  float64\n",
      "dtypes: float64(11)\n",
      "memory usage: 57.2+ MB\n"
     ]
    }
   ],
   "source": [
    "data = (data\n",
    "        .join(betas\n",
    "              .groupby(level='ticker')\n",
    "              .shift()))\n",
    "data.info()"
   ]
  },
  {
   "cell_type": "code",
   "execution_count": 55,
   "metadata": {},
   "outputs": [
    {
     "name": "stdout",
     "output_type": "stream",
     "text": [
      "<class 'pandas.core.frame.DataFrame'>\n",
      "MultiIndex: 465935 entries, ('A', Timestamp('2001-01-31 00:00:00')) to ('ZUMZ', Timestamp('2018-03-31 00:00:00'))\n",
      "Data columns (total 11 columns):\n",
      " #   Column      Non-Null Count   Dtype  \n",
      "---  ------      --------------   -----  \n",
      " 0   return_1m   465935 non-null  float64\n",
      " 1   return_2m   465935 non-null  float64\n",
      " 2   return_3m   465935 non-null  float64\n",
      " 3   return_6m   465935 non-null  float64\n",
      " 4   return_9m   465935 non-null  float64\n",
      " 5   return_12m  465935 non-null  float64\n",
      " 6   Mkt-RF      465935 non-null  float64\n",
      " 7   SMB         465935 non-null  float64\n",
      " 8   HML         465935 non-null  float64\n",
      " 9   RMW         465935 non-null  float64\n",
      " 10  CMA         465935 non-null  float64\n",
      "dtypes: float64(11)\n",
      "memory usage: 57.2+ MB\n"
     ]
    }
   ],
   "source": [
    "data.loc[:, factors] = data.groupby('ticker')[factors].transform(lambda x: x.fillna(x.mean()))\n",
    "data.info()"
   ]
  },
  {
   "cell_type": "code",
   "execution_count": 56,
   "metadata": {},
   "outputs": [],
   "source": [
    "#We can use these results to compute momentum factors based on the difference between \n",
    "# returns over longer periods and the most recent monthly return, as well as for \n",
    "# the difference between 3 and 12 month returns as follows:"
   ]
  },
  {
   "cell_type": "code",
   "execution_count": 58,
   "metadata": {},
   "outputs": [],
   "source": [
    "for lag in [2,3,6,9,12]:\n",
    "        data[f'momentum_{lag}'] = data[f'return_{lag}m'].sub(data.return_1m)\n",
    "        data[f'momentum_3_12'] = data[f'return_12m'].sub(data.return_3m)"
   ]
  },
  {
   "cell_type": "code",
   "execution_count": 59,
   "metadata": {},
   "outputs": [],
   "source": [
    "dates = data.index.get_level_values('date')\n",
    "data['year'] = dates.year\n",
    "data['month'] = dates.month"
   ]
  },
  {
   "cell_type": "code",
   "execution_count": 60,
   "metadata": {},
   "outputs": [],
   "source": [
    "#Lagged returns\n",
    "#To use lagged values as input variables or features associated with the current observations, \n",
    "#we use the .shift() method to move historical returns up to the current period:"
   ]
  },
  {
   "cell_type": "code",
   "execution_count": 61,
   "metadata": {},
   "outputs": [
    {
     "name": "stdout",
     "output_type": "stream",
     "text": [
      "<class 'pandas.core.frame.DataFrame'>\n",
      "MultiIndex: 465935 entries, ('A', Timestamp('2001-01-31 00:00:00')) to ('ZUMZ', Timestamp('2018-03-31 00:00:00'))\n",
      "Data columns (total 25 columns):\n",
      " #   Column         Non-Null Count   Dtype  \n",
      "---  ------         --------------   -----  \n",
      " 0   return_1m      465935 non-null  float64\n",
      " 1   return_2m      465935 non-null  float64\n",
      " 2   return_3m      465935 non-null  float64\n",
      " 3   return_6m      465935 non-null  float64\n",
      " 4   return_9m      465935 non-null  float64\n",
      " 5   return_12m     465935 non-null  float64\n",
      " 6   Mkt-RF         465935 non-null  float64\n",
      " 7   SMB            465935 non-null  float64\n",
      " 8   HML            465935 non-null  float64\n",
      " 9   RMW            465935 non-null  float64\n",
      " 10  CMA            465935 non-null  float64\n",
      " 11  momentum_2     465935 non-null  float64\n",
      " 12  momentum_3_12  465935 non-null  float64\n",
      " 13  momentum_3     465935 non-null  float64\n",
      " 14  momentum_6     465935 non-null  float64\n",
      " 15  momentum_9     465935 non-null  float64\n",
      " 16  momentum_12    465935 non-null  float64\n",
      " 17  year           465935 non-null  int32  \n",
      " 18  month          465935 non-null  int32  \n",
      " 19  return_1m_t-1  463550 non-null  float64\n",
      " 20  return_1m_t-2  461165 non-null  float64\n",
      " 21  return_1m_t-3  458780 non-null  float64\n",
      " 22  return_1m_t-4  456395 non-null  float64\n",
      " 23  return_1m_t-5  454010 non-null  float64\n",
      " 24  return_1m_t-6  451625 non-null  float64\n",
      "dtypes: float64(23), int32(2)\n",
      "memory usage: 103.4+ MB\n"
     ]
    }
   ],
   "source": [
    "for t in range(1, 7):\n",
    "    data[f'return_1m_t-{t}'] = data.groupby(level='ticker').return_1m.shift(t)\n",
    "data.info()"
   ]
  },
  {
   "cell_type": "code",
   "execution_count": 62,
   "metadata": {},
   "outputs": [],
   "source": [
    "#Target: Holding Period Returns\n",
    "#Similarly, to compute returns for various holding periods, we use the normalized period returns \n",
    "# computed previously and shift them back to align them with the current financial features"
   ]
  },
  {
   "cell_type": "code",
   "execution_count": 63,
   "metadata": {},
   "outputs": [],
   "source": [
    "for t in [1,2,3,6,12]:\n",
    "    data[f'target_{t}m'] = data.groupby(level='ticker')[f'return_{t}m'].shift(-t)"
   ]
  },
  {
   "cell_type": "code",
   "execution_count": 64,
   "metadata": {},
   "outputs": [
    {
     "data": {
      "text/html": [
       "<div>\n",
       "<style scoped>\n",
       "    .dataframe tbody tr th:only-of-type {\n",
       "        vertical-align: middle;\n",
       "    }\n",
       "\n",
       "    .dataframe tbody tr th {\n",
       "        vertical-align: top;\n",
       "    }\n",
       "\n",
       "    .dataframe thead th {\n",
       "        text-align: right;\n",
       "    }\n",
       "</style>\n",
       "<table border=\"1\" class=\"dataframe\">\n",
       "  <thead>\n",
       "    <tr style=\"text-align: right;\">\n",
       "      <th></th>\n",
       "      <th></th>\n",
       "      <th>target_1m</th>\n",
       "      <th>target_2m</th>\n",
       "      <th>target_3m</th>\n",
       "      <th>return_1m</th>\n",
       "      <th>return_2m</th>\n",
       "      <th>return_3m</th>\n",
       "      <th>return_1m_t-1</th>\n",
       "      <th>return_1m_t-2</th>\n",
       "      <th>return_1m_t-3</th>\n",
       "    </tr>\n",
       "    <tr>\n",
       "      <th>ticker</th>\n",
       "      <th>date</th>\n",
       "      <th></th>\n",
       "      <th></th>\n",
       "      <th></th>\n",
       "      <th></th>\n",
       "      <th></th>\n",
       "      <th></th>\n",
       "      <th></th>\n",
       "      <th></th>\n",
       "      <th></th>\n",
       "    </tr>\n",
       "  </thead>\n",
       "  <tbody>\n",
       "    <tr>\n",
       "      <th rowspan=\"10\" valign=\"top\">A</th>\n",
       "      <th>2001-04-30</th>\n",
       "      <td>-0.140220</td>\n",
       "      <td>-0.087246</td>\n",
       "      <td>-0.098192</td>\n",
       "      <td>0.269444</td>\n",
       "      <td>0.040966</td>\n",
       "      <td>-0.105747</td>\n",
       "      <td>-0.146389</td>\n",
       "      <td>-0.340055</td>\n",
       "      <td>-0.003653</td>\n",
       "    </tr>\n",
       "    <tr>\n",
       "      <th>2001-05-31</th>\n",
       "      <td>-0.031008</td>\n",
       "      <td>-0.076414</td>\n",
       "      <td>-0.075527</td>\n",
       "      <td>-0.140220</td>\n",
       "      <td>0.044721</td>\n",
       "      <td>-0.023317</td>\n",
       "      <td>0.269444</td>\n",
       "      <td>-0.146389</td>\n",
       "      <td>-0.340055</td>\n",
       "    </tr>\n",
       "    <tr>\n",
       "      <th>2001-06-30</th>\n",
       "      <td>-0.119692</td>\n",
       "      <td>-0.097014</td>\n",
       "      <td>-0.155847</td>\n",
       "      <td>-0.031008</td>\n",
       "      <td>-0.087246</td>\n",
       "      <td>0.018842</td>\n",
       "      <td>-0.140220</td>\n",
       "      <td>0.269444</td>\n",
       "      <td>-0.146389</td>\n",
       "    </tr>\n",
       "    <tr>\n",
       "      <th>2001-07-31</th>\n",
       "      <td>-0.073750</td>\n",
       "      <td>-0.173364</td>\n",
       "      <td>-0.080114</td>\n",
       "      <td>-0.119692</td>\n",
       "      <td>-0.076414</td>\n",
       "      <td>-0.098192</td>\n",
       "      <td>-0.031008</td>\n",
       "      <td>-0.140220</td>\n",
       "      <td>0.269444</td>\n",
       "    </tr>\n",
       "    <tr>\n",
       "      <th>2001-08-31</th>\n",
       "      <td>-0.262264</td>\n",
       "      <td>-0.083279</td>\n",
       "      <td>0.009593</td>\n",
       "      <td>-0.073750</td>\n",
       "      <td>-0.097014</td>\n",
       "      <td>-0.075527</td>\n",
       "      <td>-0.119692</td>\n",
       "      <td>-0.031008</td>\n",
       "      <td>-0.140220</td>\n",
       "    </tr>\n",
       "    <tr>\n",
       "      <th>2001-09-30</th>\n",
       "      <td>0.139130</td>\n",
       "      <td>0.181052</td>\n",
       "      <td>0.134010</td>\n",
       "      <td>-0.262264</td>\n",
       "      <td>-0.173364</td>\n",
       "      <td>-0.155847</td>\n",
       "      <td>-0.073750</td>\n",
       "      <td>-0.119692</td>\n",
       "      <td>-0.031008</td>\n",
       "    </tr>\n",
       "    <tr>\n",
       "      <th>2001-10-31</th>\n",
       "      <td>0.224517</td>\n",
       "      <td>0.131458</td>\n",
       "      <td>0.108697</td>\n",
       "      <td>0.139130</td>\n",
       "      <td>-0.083279</td>\n",
       "      <td>-0.080114</td>\n",
       "      <td>-0.262264</td>\n",
       "      <td>-0.073750</td>\n",
       "      <td>-0.119692</td>\n",
       "    </tr>\n",
       "    <tr>\n",
       "      <th>2001-11-30</th>\n",
       "      <td>0.045471</td>\n",
       "      <td>0.054962</td>\n",
       "      <td>0.045340</td>\n",
       "      <td>0.224517</td>\n",
       "      <td>0.181052</td>\n",
       "      <td>0.009593</td>\n",
       "      <td>0.139130</td>\n",
       "      <td>-0.262264</td>\n",
       "      <td>-0.073750</td>\n",
       "    </tr>\n",
       "    <tr>\n",
       "      <th>2001-12-31</th>\n",
       "      <td>0.064539</td>\n",
       "      <td>0.045275</td>\n",
       "      <td>0.070347</td>\n",
       "      <td>0.045471</td>\n",
       "      <td>0.131458</td>\n",
       "      <td>0.134010</td>\n",
       "      <td>0.224517</td>\n",
       "      <td>0.139130</td>\n",
       "      <td>-0.262264</td>\n",
       "    </tr>\n",
       "    <tr>\n",
       "      <th>2002-01-31</th>\n",
       "      <td>0.026359</td>\n",
       "      <td>0.073264</td>\n",
       "      <td>-0.003306</td>\n",
       "      <td>0.064539</td>\n",
       "      <td>0.054962</td>\n",
       "      <td>0.108697</td>\n",
       "      <td>0.045471</td>\n",
       "      <td>0.224517</td>\n",
       "      <td>0.139130</td>\n",
       "    </tr>\n",
       "  </tbody>\n",
       "</table>\n",
       "</div>"
      ],
      "text/plain": [
       "                   target_1m  target_2m  target_3m  return_1m  return_2m  \\\n",
       "ticker date                                                                \n",
       "A      2001-04-30  -0.140220  -0.087246  -0.098192   0.269444   0.040966   \n",
       "       2001-05-31  -0.031008  -0.076414  -0.075527  -0.140220   0.044721   \n",
       "       2001-06-30  -0.119692  -0.097014  -0.155847  -0.031008  -0.087246   \n",
       "       2001-07-31  -0.073750  -0.173364  -0.080114  -0.119692  -0.076414   \n",
       "       2001-08-31  -0.262264  -0.083279   0.009593  -0.073750  -0.097014   \n",
       "       2001-09-30   0.139130   0.181052   0.134010  -0.262264  -0.173364   \n",
       "       2001-10-31   0.224517   0.131458   0.108697   0.139130  -0.083279   \n",
       "       2001-11-30   0.045471   0.054962   0.045340   0.224517   0.181052   \n",
       "       2001-12-31   0.064539   0.045275   0.070347   0.045471   0.131458   \n",
       "       2002-01-31   0.026359   0.073264  -0.003306   0.064539   0.054962   \n",
       "\n",
       "                   return_3m  return_1m_t-1  return_1m_t-2  return_1m_t-3  \n",
       "ticker date                                                                \n",
       "A      2001-04-30  -0.105747      -0.146389      -0.340055      -0.003653  \n",
       "       2001-05-31  -0.023317       0.269444      -0.146389      -0.340055  \n",
       "       2001-06-30   0.018842      -0.140220       0.269444      -0.146389  \n",
       "       2001-07-31  -0.098192      -0.031008      -0.140220       0.269444  \n",
       "       2001-08-31  -0.075527      -0.119692      -0.031008      -0.140220  \n",
       "       2001-09-30  -0.155847      -0.073750      -0.119692      -0.031008  \n",
       "       2001-10-31  -0.080114      -0.262264      -0.073750      -0.119692  \n",
       "       2001-11-30   0.009593       0.139130      -0.262264      -0.073750  \n",
       "       2001-12-31   0.134010       0.224517       0.139130      -0.262264  \n",
       "       2002-01-31   0.108697       0.045471       0.224517       0.139130  "
      ]
     },
     "execution_count": 64,
     "metadata": {},
     "output_type": "execute_result"
    }
   ],
   "source": [
    "cols = ['target_1m',\n",
    "        'target_2m',\n",
    "        'target_3m', \n",
    "        'return_1m',\n",
    "        'return_2m',\n",
    "        'return_3m',\n",
    "        'return_1m_t-1',\n",
    "        'return_1m_t-2',\n",
    "        'return_1m_t-3']\n",
    "\n",
    "data[cols].dropna().sort_index().head(10)"
   ]
  },
  {
   "cell_type": "code",
   "execution_count": 65,
   "metadata": {},
   "outputs": [
    {
     "name": "stdout",
     "output_type": "stream",
     "text": [
      "<class 'pandas.core.frame.DataFrame'>\n",
      "MultiIndex: 465935 entries, ('A', Timestamp('2001-01-31 00:00:00')) to ('ZUMZ', Timestamp('2018-03-31 00:00:00'))\n",
      "Data columns (total 30 columns):\n",
      " #   Column         Non-Null Count   Dtype  \n",
      "---  ------         --------------   -----  \n",
      " 0   return_1m      465935 non-null  float64\n",
      " 1   return_2m      465935 non-null  float64\n",
      " 2   return_3m      465935 non-null  float64\n",
      " 3   return_6m      465935 non-null  float64\n",
      " 4   return_9m      465935 non-null  float64\n",
      " 5   return_12m     465935 non-null  float64\n",
      " 6   Mkt-RF         465935 non-null  float64\n",
      " 7   SMB            465935 non-null  float64\n",
      " 8   HML            465935 non-null  float64\n",
      " 9   RMW            465935 non-null  float64\n",
      " 10  CMA            465935 non-null  float64\n",
      " 11  momentum_2     465935 non-null  float64\n",
      " 12  momentum_3_12  465935 non-null  float64\n",
      " 13  momentum_3     465935 non-null  float64\n",
      " 14  momentum_6     465935 non-null  float64\n",
      " 15  momentum_9     465935 non-null  float64\n",
      " 16  momentum_12    465935 non-null  float64\n",
      " 17  year           465935 non-null  int32  \n",
      " 18  month          465935 non-null  int32  \n",
      " 19  return_1m_t-1  463550 non-null  float64\n",
      " 20  return_1m_t-2  461165 non-null  float64\n",
      " 21  return_1m_t-3  458780 non-null  float64\n",
      " 22  return_1m_t-4  456395 non-null  float64\n",
      " 23  return_1m_t-5  454010 non-null  float64\n",
      " 24  return_1m_t-6  451625 non-null  float64\n",
      " 25  target_1m      463550 non-null  float64\n",
      " 26  target_2m      461165 non-null  float64\n",
      " 27  target_3m      458780 non-null  float64\n",
      " 28  target_6m      451625 non-null  float64\n",
      " 29  target_12m     437315 non-null  float64\n",
      "dtypes: float64(28), int32(2)\n",
      "memory usage: 121.2+ MB\n"
     ]
    }
   ],
   "source": [
    "data.info()"
   ]
  },
  {
   "cell_type": "code",
   "execution_count": 66,
   "metadata": {},
   "outputs": [],
   "source": [
    "#Create age proxy\n",
    "#We use quintiles of IPO year as a proxy for company age."
   ]
  },
  {
   "cell_type": "code",
   "execution_count": 71,
   "metadata": {},
   "outputs": [],
   "source": [
    "data = (data\n",
    "        .join(pd.qcut(stocks['IPO Year'], q=5, labels=list(range(1, 6)))\n",
    "            .astype(float)\n",
    "            .fillna(0)\n",
    "            .astype(int)\n",
    "            .to_frame('age')))\n",
    "data.age = data.age.fillna(-1)"
   ]
  },
  {
   "cell_type": "code",
   "execution_count": 72,
   "metadata": {},
   "outputs": [],
   "source": [
    "#Create dynamic size proxy\n",
    "#We use the marketcap information from the NASDAQ ticker info to create a size proxy."
   ]
  },
  {
   "cell_type": "code",
   "execution_count": 73,
   "metadata": {},
   "outputs": [
    {
     "name": "stdout",
     "output_type": "stream",
     "text": [
      "<class 'pandas.core.frame.DataFrame'>\n",
      "Index: 843 entries, AAL to ZUMZ\n",
      "Data columns (total 3 columns):\n",
      " #   Column      Non-Null Count  Dtype  \n",
      "---  ------      --------------  -----  \n",
      " 0   Market Cap  843 non-null    float64\n",
      " 1   IPO Year    447 non-null    float64\n",
      " 2   Sector      836 non-null    object \n",
      "dtypes: float64(2), object(1)\n",
      "memory usage: 58.6+ KB\n"
     ]
    }
   ],
   "source": [
    "stocks.info()"
   ]
  },
  {
   "cell_type": "code",
   "execution_count": 74,
   "metadata": {},
   "outputs": [],
   "source": [
    "#Market cap information is tied to currrent prices. We create an adjustment factor \n",
    "#to have the values reflect lower historical prices for each individual stock:"
   ]
  },
  {
   "cell_type": "code",
   "execution_count": 75,
   "metadata": {},
   "outputs": [
    {
     "name": "stdout",
     "output_type": "stream",
     "text": [
      "<class 'pandas.core.frame.DataFrame'>\n",
      "DatetimeIndex: 207 entries, 2018-03-31 to 2001-01-31\n",
      "Columns: 2385 entries, A to ZUMZ\n",
      "dtypes: float64(2385)\n",
      "memory usage: 3.8 MB\n"
     ]
    }
   ],
   "source": [
    "size_factor = (monthly_prices\n",
    "            .loc[data.index.get_level_values('date').unique(),\n",
    "            data.index.get_level_values('ticker').unique()]\n",
    "            .sort_index(ascending=False)\n",
    "            .pct_change()\n",
    "            .fillna(0)\n",
    "            .add(1)\n",
    "            .cumprod())\n",
    "size_factor.info()"
   ]
  },
  {
   "cell_type": "code",
   "execution_count": 78,
   "metadata": {},
   "outputs": [
    {
     "ename": "KeyError",
     "evalue": "\"['A', 'AAN', 'AAP', 'AAWW', 'ABAX', 'ABC', 'ABCO', 'ABFS', 'ABG', 'ABM', 'ABMD', 'ABT', 'ACAS', 'ACAT', 'ACC', 'ACCL', 'ACCO', 'ACE', 'ACFN', 'ACHN', 'ACI', 'ACN', 'ACO', 'ACXM', 'ADC', 'ADM', 'ADS', 'ADVS', 'AE', 'AEC', 'AEE', 'AEGN', 'AEL', 'AEO', 'AEPI', 'AES', 'AET', 'AF', 'AFAM', 'AFFX', 'AFG', 'AFL', 'AFOP', 'AFSI', 'AGCO', 'AGII', 'AGM', 'AGN', 'AGO', 'AGX', 'AHL', 'AHS', 'AHT', 'AI', 'AIG', 'AIMC', 'AIN', 'AINV', 'AIQ', 'AIR', 'AIRM', 'AIT', 'AIV', 'AIZ', 'AJG', 'AKR', 'AKRX', 'AKS', 'ALB', 'ALE', 'ALG', 'ALJ', 'ALK', 'ALL', 'ALOG', 'ALR', 'ALX', 'ALXN', 'AMAG', 'AMCC', 'AME', 'AMG', 'AMP', 'AMRI', 'AMSG', 'AMT', 'AMTD', 'AMZG', 'AN', 'ANAD', 'ANAT', 'ANCX', 'ANF', 'ANH', 'ANN', 'ANR', 'ANTM', 'AOI', 'AON', 'AOS', 'AP', 'APAGF', 'APC', 'APD', 'APH', 'APL', 'APOL', 'ARC', 'ARCW', 'ARE', 'ARG', 'ARIA', 'ARII', 'ARNA', 'ARNC', 'ARO', 'ARQL', 'ARRS', 'ARSD', 'ARTC', 'ARUN', 'ARW', 'ASBC', 'ASEI', 'ASGN', 'ASH', 'ASNA', 'ATI', 'ATK', 'ATMI', 'ATML', 'ATNY', 'ATO', 'ATR', 'ATRS', 'ATU', 'ATW', 'AUXL', 'AVA', 'AVB', 'AVD', 'AVNR', 'AVP', 'AVX', 'AVY', 'AWI', 'AWR', 'AXAS', 'AXE', 'AXL', 'AXLL', 'AXP', 'AXS', 'AYI', 'AYR', 'AZO', 'AZZ', 'B', 'BA', 'BABY', 'BAC', 'BANC', 'BAS', 'BAX', 'BBBY', 'BBCN', 'BBG', 'BBNK', 'BBOX', 'BBT', 'BBW', 'BBX', 'BBY', 'BC', 'BCO', 'BCOR', 'BCR', 'BDC', 'BDE', 'BDGE', 'BDN', 'BDSI', 'BDX', 'BEAV', 'BEBE', 'BEE', 'BEN', 'BFS', 'BF_B', 'BG', 'BGCP', 'BGG', 'BH', 'BHB', 'BHE', 'BHI', 'BHLB', 'BID', 'BIG', 'BIO', 'BIRT', 'BK', 'BKD', 'BKE', 'BKH', 'BKMU', 'BKS', 'BKYF', 'BLDR', 'BLK', 'BLL', 'BLT', 'BLX', 'BMI', 'BMS', 'BMTC', 'BMY', 'BNCN', 'BOBE', 'BOFI', 'BOH', 'BONT', 'BP', 'BPFH', 'BPZ', 'BRC', 'BRCD', 'BRCM', 'BREW', 'BRKS', 'BRK_A', 'BRK_B', 'BRO', 'BRS', 'BRT', 'BSTC', 'BSX', 'BTH', 'BTU', 'BTX', 'BWA', 'BWINB', 'BWLD', 'BWS', 'BXC', 'BXP', 'BXS', 'BYD', 'BYI', 'BZH', 'C', 'CA', 'CAB', 'CACB', 'CACI', 'CAG', 'CAH', 'CALD', 'CALL', 'CAM', 'CAS', 'CAT', 'CATO', 'CB', 'CBB', 'CBEY', 'CBG', 'CBI', 'CBK', 'CBL', 'CBM', 'CBR', 'CBS', 'CBST', 'CBT', 'CBU', 'CBZ', 'CCC', 'CCE', 'CCF', 'CCI', 'CCK', 'CCL', 'CCMP', 'CCO', 'CDE', 'CDI', 'CDR', 'CE', 'CEB', 'CECE', 'CELG', 'CERN', 'CETV', 'CF', 'CFI', 'CFNB', 'CFNL', 'CFR', 'CGI', 'CHD', 'CHDX', 'CHE', 'CHFC', 'CHFN', 'CHH', 'CHS', 'CHTP', 'CI', 'CIA', 'CIDM', 'CIEN', 'CIFC', 'CIR', 'CIX', 'CKEC', 'CKH', 'CKP', 'CL', 'CLC', 'CLCT', 'CLF', 'CLGX', 'CLH', 'CLI', 'CLMS', 'CLUB', 'CLX', 'CMA', 'CMC', 'CMCSK', 'CMG', 'CMI', 'CMN', 'CMO', 'CMP', 'CMS', 'CNA', 'CNBC', 'CNBKA', 'CNC', 'CNL', 'CNMD', 'CNO', 'CNP', 'CNQR', 'CNS', 'CNVR', 'CNW', 'CNX', 'COB', 'COBZ', 'COF', 'COG', 'COH', 'COHR', 'COL', 'COO', 'COP', 'CORE', 'CORR', 'COWN', 'CPA', 'CPB', 'CPE', 'CPF', 'CPHD', 'CPK', 'CPLA', 'CPST', 'CPT', 'CPWR', 'CQB', 'CR', 'CRAY', 'CRD_B', 'CREE', 'CRI', 'CRK', 'CRL', 'CRM', 'CRR', 'CRRC', 'CRRS', 'CRS', 'CRWN', 'CRY', 'CRZO', 'CSBK', 'CSC', 'CSCD', 'CSE', 'CSFL', 'CSH', 'CSII', 'CSL', 'CSS', 'CSU', 'CSV', 'CTB', 'CTIC', 'CTL', 'CTO', 'CTRX', 'CTS', 'CTWS', 'CTXS', 'CUB', 'CUBE', 'CUI', 'CUNB', 'CUR', 'CUZ', 'CVA', 'CVC', 'CVD', 'CVG', 'CVO', 'CVS', 'CVX', 'CW', 'CWEI', 'CWT', 'CXW', 'CY', 'CYBX', 'CYH', 'CYNO', 'CYTR', 'CYTX', 'D', 'DAR', 'DBD', 'DCI', 'DCO', 'DCT', 'DD', 'DDD', 'DDR', 'DDS', 'DE', 'DECK', 'DEI', 'DEL', 'DELL', 'DEPO', 'DEST', 'DF', 'DFZ', 'DGAS', 'DGX', 'DHI', 'DHR', 'DHT', 'DIN', 'DIS', 'DISCA', 'DK', 'DKS', 'DLB', 'DLLR', 'DLR', 'DLX', 'DMND', 'DNB', 'DNDN', 'DNR', 'DO', 'DOV', 'DOW', 'DPZ', 'DRC', 'DRE', 'DRH', 'DRI', 'DRIV', 'DRL', 'DRQ', 'DSCI', 'DSPG', 'DST', 'DSW', 'DTE', 'DTLK', 'DTSI', 'DTV', 'DUK', 'DV', 'DVA', 'DVN', 'DVR', 'DW', 'DWA', 'DX', 'DY', 'DYAX', 'EAT', 'EBF', 'EBS', 'ECL', 'ECOL', 'ED', 'EDE', 'EDIG', 'EDR', 'EE', 'EFII', 'EFX', 'EGN', 'EGOV', 'EGP', 'EGY', 'EIG', 'EIX', 'EL', 'ELGX', 'ELNK', 'ELRC', 'ELS', 'ELX', 'ELY', 'EMC', 'EMCI', 'EME', 'EMN', 'EMR', 'END', 'ENDP', 'ENH', 'ENR', 'ENS', 'ENVE', 'ENZ', 'ENZN', 'EOG', 'EOX', 'EPAY', 'EPIQ', 'EPM', 'EPR', 'EQR', 'EQT', 'EQU', 'EQY', 'ES', 'ESBF', 'ESC', 'ESE', 'ESI', 'ESIO', 'ESL', 'ESRX', 'ESS', 'ESV', 'ETFC', 'ETH', 'ETM', 'ETN', 'ETR', 'EV', 'EVC', 'EVR', 'EW', 'EXAC', 'EXAR', 'EXP', 'EXR', 'F', 'FBC', 'FBP', 'FC', 'FCE_A', 'FCF', 'FCH', 'FCN', 'FCS', 'FCX', 'FDEF', 'FDO', 'FDP', 'FDS', 'FDX', 'FE', 'FEIC', 'FFBH', 'FFG', 'FFKT', 'FHCO', 'FHN', 'FICO', 'FII', 'FINL', 'FIS', 'FISV', 'FIX', 'FL', 'FLIR', 'FLO', 'FLR', 'FLS', 'FMBI', 'FMC', 'FMD', 'FMER', 'FNB', 'FNF', 'FNFG', 'FNHC', 'FNSR', 'FOE', 'FPO', 'FR', 'FRBK', 'FRED', 'FRM', 'FRO', 'FRT', 'FRX', 'FSGI', 'FSP', 'FSS', 'FST', 'FSYS', 'FTI', 'FTK', 'FTR', 'FUL', 'FUR', 'FVE', 'FXCB', 'FXEN', 'GAS', 'GB', 'GBCI', 'GBL', 'GBLI', 'GBNK', 'GBX', 'GCA', 'GCI', 'GCO', 'GD', 'GDP', 'GE', 'GEF', 'GEO', 'GES', 'GFF', 'GFIG', 'GFN', 'GGG', 'GGP', 'GHC', 'GHDX', 'GHL', 'GHM', 'GIS', 'GK', 'GLF', 'GLT', 'GLUU', 'GLW', 'GMCR', 'GME', 'GMO', 'GMT', 'GNCMA', 'GNW', 'GOLD', 'GORO', 'GPC', 'GPI', 'GPK', 'GPN', 'GPOR', 'GPS', 'GPT', 'GPX', 'GRA', 'GRC', 'GRIF', 'GRMN', 'GRT', 'GS', 'GSIG', 'GSOL', 'GST', 'GTI', 'GTIV', 'GTLS', 'GTN', 'GTT', 'GTXI', 'GTY', 'GUID', 'GVA', 'GWR', 'GWW', 'GXP', 'GY', 'HAE', 'HAL', 'HAR', 'HBHC', 'HBI', 'HCBK', 'HCC', 'HCN', 'HD', 'HDNG', 'HE', 'HEI', 'HEOP', 'HERO', 'HES', 'HF', 'HFC', 'HGR', 'HIG', 'HIL', 'HILL', 'HITK', 'HITT', 'HIW', 'HK', 'HL', 'HLF', 'HLS', 'HLX', 'HME', 'HMN', 'HMPR', 'HMSY', 'HNH', 'HNI', 'HNR', 'HNT', 'HOG', 'HOMB', 'HOS', 'HOT', 'HOV', 'HP', 'HPQ', 'HPT', 'HPY', 'HR', 'HRB', 'HRC', 'HRG', 'HRL', 'HRS', 'HSC', 'HSH', 'HSP', 'HSY', 'HT', 'HTCH', 'HTCO', 'HTGC', 'HTH', 'HUB_B', 'HUM', 'HUN', 'HVB', 'HVT', 'HW', 'HWAY', 'HWCC', 'HXL', 'HZO', 'IACI', 'IBCA', 'IBKC', 'IBM', 'ICE', 'ICGE', 'ICON', 'IDA', 'IDIX', 'IDRA', 'IDT', 'IDTI', 'IEX', 'IFF', 'IG', 'IGT', 'IGTE', 'IHC', 'IHS', 'IIIN', 'IIVI', 'IM', 'IMMU', 'IMN', 'INAP', 'INFA', 'INGR', 'ININ', 'INSY', 'INT', 'INTL', 'INTX', 'INWK', 'IO', 'IP', 'IPCC', 'IPG', 'IPHS', 'IPXL', 'IR', 'IRC', 'IRET', 'IRF', 'IRM', 'ISBC', 'ISCA', 'ISH', 'ISIL', 'ISIS', 'ISLE', 'ISSI', 'IT', 'ITC', 'ITG', 'ITMN', 'ITT', 'ITW', 'IVC', 'IVZ', 'IXYS', 'JAH', 'JBL', 'JCI', 'JCOM', 'JCP', 'JDSU', 'JEC', 'JLL', 'JMBA', 'JNJ', 'JNPR', 'JNS', 'JNY', 'JOE', 'JOY', 'JPM', 'JRN', 'JWN', 'JW_A', 'K', 'KAI', 'KAMN', 'KBALB', 'KBH', 'KBR', 'KCLI', 'KEG', 'KEM', 'KERX', 'KEX', 'KEY', 'KFY', 'KIM', 'KKD', 'KMB', 'KMG', 'KMPR', 'KMT', 'KMX', 'KND', 'KNL', 'KNX', 'KO', 'KOG', 'KOP', 'KR', 'KRC', 'KRG', 'KRO', 'KS', 'KSS', 'KSU', 'KWK', 'KWR', 'L', 'LABL', 'LAD', 'LAYN', 'LAZ', 'LB', 'LBY', 'LCI', 'LDL', 'LDOS', 'LDR', 'LEG', 'LEN', 'LF', 'LG', 'LGF', 'LH', 'LHCG', 'LHO', 'LII', 'LINTA', 'LION', 'LIOX', 'LLL', 'LLTC', 'LLY', 'LM', 'LMIA', 'LMNX', 'LMT', 'LNC', 'LNCE', 'LNDC', 'LNG', 'LNN', 'LORL', 'LOV', 'LOW', 'LPNT', 'LPX', 'LSI', 'LTC', 'LTM', 'LTS', 'LTXC', 'LUB', 'LUK', 'LUV', 'LVLT', 'LVS', 'LXK', 'LXP', 'LXU', 'LYV', 'LZB', 'M', 'MA', 'MAA', 'MAC', 'MAN', 'MANT', 'MAS', 'MATX', 'MBFI', 'MBI', 'MBRG', 'MBVT', 'MCD', 'MCF', 'MCGC', 'MCK', 'MCO', 'MCRL', 'MCRS', 'MCS', 'MCY', 'MD', 'MDC', 'MDCA', 'MDCI', 'MDCO', 'MDP', 'MDR', 'MDT', 'MDU', 'MDVN', 'MEAS', 'MED', 'MEG', 'MEI', 'MENT', 'MET', 'METR', 'MFA', 'MFLX', 'MGI', 'MGLN', 'MGM', 'MHFI', 'MHGC', 'MHK', 'MHO', 'MHR', 'MIG', 'MIL', 'MILL', 'MINI', 'MKC', 'MKL', 'MLHR', 'MLI', 'MLM', 'MLNK', 'MLR', 'MMC', 'MMM', 'MMS', 'MNI', 'MNR', 'MNTA', 'MO', 'MOD', 'MOG_A', 'MOH', 'MON', 'MOS', 'MOSY', 'MOV', 'MPW', 'MPX', 'MRGE', 'MRH', 'MRK', 'MRLN', 'MRO', 'MS', 'MSA', 'MSCC', 'MSFG', 'MSI', 'MSL', 'MSM', 'MSO', 'MTB', 'MTD', 'MTG', 'MTH', 'MTN', 'MTOR', 'MTRN', 'MTSC', 'MTW', 'MTX', 'MTZ', 'MUR', 'MVC', 'MW', 'MWA', 'MWIV', 'MWV', 'MWW', 'MXIM', 'MXWL', 'MYE', 'MYL', 'NANO', 'NASB', 'NAT', 'NATL', 'NAV', 'NAVB', 'NAVG', 'NBBC', 'NBL', 'NBR', 'NBS', 'NC', 'NCI', 'NCR', 'NCS', 'NE', 'NEE', 'NEM', 'NEU', 'NEWP', 'NEWS', 'NFG', 'NFX', 'NGPC', 'NGS', 'NHC', 'NHI', 'NI', 'NILE', 'NJR', 'NKE', 'NL', 'NLS', 'NLY', 'NM', 'NMRX', 'NNI', 'NNVC', 'NOC', 'NOV', 'NP', 'NPBC', 'NPK', 'NPO', 'NPSP', 'NR', 'NRG', 'NSC', 'NSP', 'NSR', 'NTLS', 'NTRI', 'NU', 'NUAN', 'NUE', 'NUS', 'NUTR', 'NUVA', 'NVR', 'NWBO', 'NWN', 'NWY', 'NX', 'NXTM', 'NYCB', 'NYNY', 'NYT', 'O', 'OC', 'OCLR', 'OCN', 'OCR', 'ODC', 'OEH', 'OFC', 'OFG', 'OGE', 'OGXI', 'OHI', 'OI', 'OII', 'OIS', 'OKE', 'OKSB', 'OLBK', 'OLN', 'OLP', 'OMC', 'OME', 'OMG', 'OMI', 'OMN', 'ONNN', 'ONTY', 'OPLK', 'OPY', 'ORA', 'ORB', 'ORBC', 'ORCL', 'ORI', 'ORIT', 'OSIR', 'OSK', 'OUTR', 'OVTI', 'OXM', 'OXY', 'OZRK', 'PACR', 'PAG', 'PATR', 'PAY', 'PB', 'PBCT', 'PBH', 'PBI', 'PBY', 'PCBK', 'PCCC', 'PCG', 'PCL', 'PCLN', 'PCO', 'PCP', 'PCYC', 'PDCE', 'PDLI', 'PEG', 'PEI', 'PEIX', 'PENX', 'PERY', 'PES', 'PETM', 'PFE', 'PFS', 'PG', 'PGI', 'PGNX', 'PGR', 'PGTI', 'PH', 'PHH', 'PHIIK', 'PHM', 'PHMD', 'PHX', 'PICO', 'PII', 'PIKE', 'PIR', 'PJC', 'PKD', 'PKE', 'PKG', 'PKI', 'PKT', 'PKY', 'PL', 'PLCM', 'PLD', 'PLKI', 'PLT', 'PLXT', 'PMCS', 'PMFG', 'PNC', 'PNK', 'PNM', 'PNR', 'PNRA', 'PNW', 'PNX', 'PNY', 'POL', 'POM', 'POR', 'POWR', 'POZN', 'PPG', 'PPHM', 'PPL', 'PPS', 'PQ', 'PRA', 'PRGO', 'PRGX', 'PRK', 'PRKR', 'PRSC', 'PRU', 'PRXL', 'PSA', 'PSB', 'PSEM', 'PSTB', 'PSUN', 'PTIE', 'PTP', 'PTRY', 'PTX', 'PVA', 'PVH', 'PVTB', 'PWR', 'PX', 'PXD', 'PZG', 'QCOR', 'QGEN', 'QLGC', 'QLTY', 'QSII', 'QTM', 'R', 'RAD', 'RAI', 'RAS', 'RAVN', 'RBC', 'RCII', 'RCKB', 'RCL', 'RDC', 'RDEN', 'RDN', 'RE', 'RECN', 'REIS', 'RES', 'REV', 'REX', 'REXI', 'RF', 'RFMD', 'RGR', 'RGS', 'RHI', 'RHP', 'RHT', 'RIG', 'RJET', 'RJF', 'RKT', 'RL', 'RLI', 'RMD', 'RNR', 'RNWK', 'ROC', 'ROG', 'ROIAK', 'ROK', 'ROL', 'ROLL', 'ROVI', 'RPM', 'RPT', 'RPTP', 'RRC', 'RRD', 'RS', 'RSG', 'RSH', 'RSO', 'RSTI', 'RSYS', 'RT', 'RTEC', 'RTI', 'RTIX', 'RTK', 'RTN', 'RUTH', 'RVBD', 'RVLT', 'RWT', 'RYL', 'RYN', 'S', 'SAAS', 'SAFM', 'SAH', 'SAM', 'SAPE', 'SBH', 'SBNY', 'SCBT', 'SCCO', 'SCG', 'SCHN', 'SCHW', 'SCI', 'SCL', 'SCLN', 'SCS', 'SCSS', 'SDRL', 'SE', 'SEAC', 'SEB', 'SEE', 'SF', 'SFG', 'SFL', 'SFLY', 'SFY', 'SGI', 'SGK', 'SGMS', 'SGY', 'SHLD', 'SHLM', 'SHLO', 'SHO', 'SHW', 'SIAL', 'SIF', 'SIG', 'SIGM', 'SIMG', 'SIRO', 'SIVB', 'SJI', 'SJM', 'SJW', 'SKT', 'SKX', 'SLB', 'SLG', 'SLGN', 'SLXP', 'SM', 'SMA', 'SMG', 'SMP', 'SMRT', 'SNA', 'SNAK', 'SNBC', 'SNDK', 'SNH', 'SNHY', 'SNMX', 'SNSS', 'SNTA', 'SNV', 'SNX', 'SO', 'SON', 'SONC', 'SONS', 'SPA', 'SPAR', 'SPDC', 'SPF', 'SPG', 'SPLS', 'SPN', 'SPNC', 'SPPI', 'SPR', 'SPRT', 'SPW', 'SQBG', 'SQNM', 'SRE', 'SRI', 'SSD', 'SSI', 'SSS', 'STAR', 'STC', 'STE', 'STFC', 'STI', 'STJ', 'STL', 'STMP', 'STNR', 'STR', 'STRZA', 'STSA', 'STSI', 'STT', 'STZ', 'SUBK', 'SUI', 'SUNE', 'SUP', 'SUPX', 'SUSQ', 'SUSS', 'SVU', 'SWC', 'SWHC', 'SWK', 'SWM', 'SWN', 'SWS', 'SWX', 'SWY', 'SXI', 'SXT', 'SYK', 'SYKE', 'SYMC', 'SYNT', 'SYUT', 'SYX', 'SYY', 'T', 'TAM', 'TAP', 'TASR', 'TAXI', 'TAYC', 'TBI', 'TCAP', 'TCB', 'TCO', 'TDG', 'TDS', 'TDW', 'TDY', 'TE', 'TEAR', 'TECD', 'TECUA', 'TEG', 'TEN', 'TESO', 'TESS', 'TEX', 'TFX', 'TG', 'TGE', 'TGI', 'TGNA', 'TGT', 'THC', 'THG', 'THLD', 'THO', 'THOR', 'THS', 'TIBX', 'TICC', 'TIF', 'TIS', 'TISI', 'TIVO', 'TJX', 'TK', 'TKR', 'TMK', 'TMO', 'TMP', 'TNC', 'TOL', 'TPC', 'TPLM', 'TPX', 'TQNT', 'TR', 'TRAK', 'TRC', 'TREC', 'TREX', 'TRGT', 'TRI', 'TRK', 'TRN', 'TRR', 'TRV', 'TRW', 'TRXC', 'TSN', 'TSO', 'TSRA', 'TSS', 'TSYS', 'TTC', 'TTI', 'TUES', 'TUP', 'TWC', 'TWER', 'TWGP', 'TWI', 'TWMC', 'TWTC', 'TWX', 'TXI', 'TXT', 'TYC', 'TYL', 'UAA', 'UACL', 'UAM', 'UBA', 'UBNK', 'UBSH', 'UCFC', 'UDR', 'UFI', 'UFS', 'UGI', 'UHAL', 'UHS', 'UHT', 'UIL', 'UIS', 'ULTI', 'ULTR', 'UMH', 'UMPQ', 'UNF', 'UNFI', 'UNH', 'UNM', 'UNP', 'UNS', 'UNT', 'UNTD', 'UNXL', 'UPIP', 'UPL', 'UPS', 'URI', 'URS', 'USAK', 'USB', 'USG', 'USM', 'USMO', 'USNA', 'USPH', 'USTR', 'UTEK', 'UTI', 'UTIW', 'UTL', 'UTX', 'UVE', 'UVV', 'VAL', 'VAR', 'VASC', 'VDSI', 'VFC', 'VG', 'VGR', 'VHC', 'VIAB', 'VIAS', 'VICL', 'VIVO', 'VLCCF', 'VLO', 'VMC', 'VMI', 'VNO', 'VOCS', 'VOLC', 'VPFG', 'VPRT', 'VRX', 'VSH', 'VTR', 'VTSS', 'VVC', 'VVI', 'VVTV', 'VVUS', 'VZ', 'WAB', 'WAC', 'WAG', 'WAL', 'WAT', 'WBCO', 'WBMD', 'WBS', 'WCC', 'WCG', 'WCN', 'WDR', 'WEC', 'WETF', 'WEX', 'WFC', 'WFD', 'WFM', 'WG', 'WGL', 'WGO', 'WHG', 'WHR', 'WIBC', 'WIN', 'WLB', 'WLK', 'WLL', 'WLT', 'WM', 'WMAR', 'WMB', 'WMGI', 'WMK', 'WMT', 'WNC', 'WNR', 'WOR', 'WPP', 'WR', 'WRB', 'WRE', 'WRES', 'WRI', 'WSM', 'WSO', 'WST', 'WSTL', 'WTI', 'WTM', 'WTR', 'WTS', 'WTSL', 'WU', 'WWE', 'WWW', 'WWWW', 'WY', 'WYN', 'X', 'XCO', 'XCRA', 'XEC', 'XL', 'XLNX', 'XNPT', 'XOM', 'XOXO', 'XPO', 'XRM', 'XXIA', 'Y', 'YHOO', 'YRCW', 'YUM', 'ZAZA', 'ZBH', 'ZIGO', 'ZIOP', 'ZIXI', 'ZLC', 'ZMH', 'ZQK'] not in index\"",
     "output_type": "error",
     "traceback": [
      "\u001b[0;31m---------------------------------------------------------------------------\u001b[0m",
      "\u001b[0;31mKeyError\u001b[0m                                  Traceback (most recent call last)",
      "\u001b[1;32m/Users/Massimiliano/Documents/GitHub/DerivativeAnalytics/DataFeedAlphaFactors.ipynb Cell 42\u001b[0m line \u001b[0;36m2\n\u001b[1;32m      <a href='vscode-notebook-cell:/Users/Massimiliano/Documents/GitHub/DerivativeAnalytics/DataFeedAlphaFactors.ipynb#X60sZmlsZQ%3D%3D?line=0'>1</a>\u001b[0m msize \u001b[39m=\u001b[39m (size_factor\n\u001b[0;32m----> <a href='vscode-notebook-cell:/Users/Massimiliano/Documents/GitHub/DerivativeAnalytics/DataFeedAlphaFactors.ipynb#X60sZmlsZQ%3D%3D?line=1'>2</a>\u001b[0m         \u001b[39m.\u001b[39mmul(stocks\n\u001b[1;32m      <a href='vscode-notebook-cell:/Users/Massimiliano/Documents/GitHub/DerivativeAnalytics/DataFeedAlphaFactors.ipynb#X60sZmlsZQ%3D%3D?line=2'>3</a>\u001b[0m                 \u001b[39m.\u001b[39;49mloc[size_factor\u001b[39m.\u001b[39;49mcolumns, \u001b[39m'\u001b[39;49m\u001b[39mMarket Cap\u001b[39;49m\u001b[39m'\u001b[39;49m]))\u001b[39m.\u001b[39mdropna(axis\u001b[39m=\u001b[39m\u001b[39m1\u001b[39m, how\u001b[39m=\u001b[39m\u001b[39m'\u001b[39m\u001b[39mall\u001b[39m\u001b[39m'\u001b[39m)\n",
      "File \u001b[0;32m~/anaconda3/envs/python39/lib/python3.9/site-packages/pandas/core/indexing.py:1097\u001b[0m, in \u001b[0;36m_LocationIndexer.__getitem__\u001b[0;34m(self, key)\u001b[0m\n\u001b[1;32m   1095\u001b[0m     \u001b[39mif\u001b[39;00m \u001b[39mself\u001b[39m\u001b[39m.\u001b[39m_is_scalar_access(key):\n\u001b[1;32m   1096\u001b[0m         \u001b[39mreturn\u001b[39;00m \u001b[39mself\u001b[39m\u001b[39m.\u001b[39mobj\u001b[39m.\u001b[39m_get_value(\u001b[39m*\u001b[39mkey, takeable\u001b[39m=\u001b[39m\u001b[39mself\u001b[39m\u001b[39m.\u001b[39m_takeable)\n\u001b[0;32m-> 1097\u001b[0m     \u001b[39mreturn\u001b[39;00m \u001b[39mself\u001b[39;49m\u001b[39m.\u001b[39;49m_getitem_tuple(key)\n\u001b[1;32m   1098\u001b[0m \u001b[39melse\u001b[39;00m:\n\u001b[1;32m   1099\u001b[0m     \u001b[39m# we by definition only have the 0th axis\u001b[39;00m\n\u001b[1;32m   1100\u001b[0m     axis \u001b[39m=\u001b[39m \u001b[39mself\u001b[39m\u001b[39m.\u001b[39maxis \u001b[39mor\u001b[39;00m \u001b[39m0\u001b[39m\n",
      "File \u001b[0;32m~/anaconda3/envs/python39/lib/python3.9/site-packages/pandas/core/indexing.py:1280\u001b[0m, in \u001b[0;36m_LocIndexer._getitem_tuple\u001b[0;34m(self, tup)\u001b[0m\n\u001b[1;32m   1278\u001b[0m \u001b[39mwith\u001b[39;00m suppress(IndexingError):\n\u001b[1;32m   1279\u001b[0m     tup \u001b[39m=\u001b[39m \u001b[39mself\u001b[39m\u001b[39m.\u001b[39m_expand_ellipsis(tup)\n\u001b[0;32m-> 1280\u001b[0m     \u001b[39mreturn\u001b[39;00m \u001b[39mself\u001b[39;49m\u001b[39m.\u001b[39;49m_getitem_lowerdim(tup)\n\u001b[1;32m   1282\u001b[0m \u001b[39m# no multi-index, so validate all of the indexers\u001b[39;00m\n\u001b[1;32m   1283\u001b[0m tup \u001b[39m=\u001b[39m \u001b[39mself\u001b[39m\u001b[39m.\u001b[39m_validate_tuple_indexer(tup)\n",
      "File \u001b[0;32m~/anaconda3/envs/python39/lib/python3.9/site-packages/pandas/core/indexing.py:1024\u001b[0m, in \u001b[0;36m_LocationIndexer._getitem_lowerdim\u001b[0;34m(self, tup)\u001b[0m\n\u001b[1;32m   1022\u001b[0m             \u001b[39mreturn\u001b[39;00m section\n\u001b[1;32m   1023\u001b[0m         \u001b[39m# This is an elided recursive call to iloc/loc\u001b[39;00m\n\u001b[0;32m-> 1024\u001b[0m         \u001b[39mreturn\u001b[39;00m \u001b[39mgetattr\u001b[39;49m(section, \u001b[39mself\u001b[39;49m\u001b[39m.\u001b[39;49mname)[new_key]\n\u001b[1;32m   1026\u001b[0m \u001b[39mraise\u001b[39;00m IndexingError(\u001b[39m\"\u001b[39m\u001b[39mnot applicable\u001b[39m\u001b[39m\"\u001b[39m)\n",
      "File \u001b[0;32m~/anaconda3/envs/python39/lib/python3.9/site-packages/pandas/core/indexing.py:1103\u001b[0m, in \u001b[0;36m_LocationIndexer.__getitem__\u001b[0;34m(self, key)\u001b[0m\n\u001b[1;32m   1100\u001b[0m axis \u001b[39m=\u001b[39m \u001b[39mself\u001b[39m\u001b[39m.\u001b[39maxis \u001b[39mor\u001b[39;00m \u001b[39m0\u001b[39m\n\u001b[1;32m   1102\u001b[0m maybe_callable \u001b[39m=\u001b[39m com\u001b[39m.\u001b[39mapply_if_callable(key, \u001b[39mself\u001b[39m\u001b[39m.\u001b[39mobj)\n\u001b[0;32m-> 1103\u001b[0m \u001b[39mreturn\u001b[39;00m \u001b[39mself\u001b[39;49m\u001b[39m.\u001b[39;49m_getitem_axis(maybe_callable, axis\u001b[39m=\u001b[39;49maxis)\n",
      "File \u001b[0;32m~/anaconda3/envs/python39/lib/python3.9/site-packages/pandas/core/indexing.py:1332\u001b[0m, in \u001b[0;36m_LocIndexer._getitem_axis\u001b[0;34m(self, key, axis)\u001b[0m\n\u001b[1;32m   1329\u001b[0m     \u001b[39mif\u001b[39;00m \u001b[39mhasattr\u001b[39m(key, \u001b[39m\"\u001b[39m\u001b[39mndim\u001b[39m\u001b[39m\"\u001b[39m) \u001b[39mand\u001b[39;00m key\u001b[39m.\u001b[39mndim \u001b[39m>\u001b[39m \u001b[39m1\u001b[39m:\n\u001b[1;32m   1330\u001b[0m         \u001b[39mraise\u001b[39;00m \u001b[39mValueError\u001b[39;00m(\u001b[39m\"\u001b[39m\u001b[39mCannot index with multidimensional key\u001b[39m\u001b[39m\"\u001b[39m)\n\u001b[0;32m-> 1332\u001b[0m     \u001b[39mreturn\u001b[39;00m \u001b[39mself\u001b[39;49m\u001b[39m.\u001b[39;49m_getitem_iterable(key, axis\u001b[39m=\u001b[39;49maxis)\n\u001b[1;32m   1334\u001b[0m \u001b[39m# nested tuple slicing\u001b[39;00m\n\u001b[1;32m   1335\u001b[0m \u001b[39mif\u001b[39;00m is_nested_tuple(key, labels):\n",
      "File \u001b[0;32m~/anaconda3/envs/python39/lib/python3.9/site-packages/pandas/core/indexing.py:1272\u001b[0m, in \u001b[0;36m_LocIndexer._getitem_iterable\u001b[0;34m(self, key, axis)\u001b[0m\n\u001b[1;32m   1269\u001b[0m \u001b[39mself\u001b[39m\u001b[39m.\u001b[39m_validate_key(key, axis)\n\u001b[1;32m   1271\u001b[0m \u001b[39m# A collection of keys\u001b[39;00m\n\u001b[0;32m-> 1272\u001b[0m keyarr, indexer \u001b[39m=\u001b[39m \u001b[39mself\u001b[39;49m\u001b[39m.\u001b[39;49m_get_listlike_indexer(key, axis)\n\u001b[1;32m   1273\u001b[0m \u001b[39mreturn\u001b[39;00m \u001b[39mself\u001b[39m\u001b[39m.\u001b[39mobj\u001b[39m.\u001b[39m_reindex_with_indexers(\n\u001b[1;32m   1274\u001b[0m     {axis: [keyarr, indexer]}, copy\u001b[39m=\u001b[39m\u001b[39mTrue\u001b[39;00m, allow_dups\u001b[39m=\u001b[39m\u001b[39mTrue\u001b[39;00m\n\u001b[1;32m   1275\u001b[0m )\n",
      "File \u001b[0;32m~/anaconda3/envs/python39/lib/python3.9/site-packages/pandas/core/indexing.py:1462\u001b[0m, in \u001b[0;36m_LocIndexer._get_listlike_indexer\u001b[0;34m(self, key, axis)\u001b[0m\n\u001b[1;32m   1459\u001b[0m ax \u001b[39m=\u001b[39m \u001b[39mself\u001b[39m\u001b[39m.\u001b[39mobj\u001b[39m.\u001b[39m_get_axis(axis)\n\u001b[1;32m   1460\u001b[0m axis_name \u001b[39m=\u001b[39m \u001b[39mself\u001b[39m\u001b[39m.\u001b[39mobj\u001b[39m.\u001b[39m_get_axis_name(axis)\n\u001b[0;32m-> 1462\u001b[0m keyarr, indexer \u001b[39m=\u001b[39m ax\u001b[39m.\u001b[39;49m_get_indexer_strict(key, axis_name)\n\u001b[1;32m   1464\u001b[0m \u001b[39mreturn\u001b[39;00m keyarr, indexer\n",
      "File \u001b[0;32m~/anaconda3/envs/python39/lib/python3.9/site-packages/pandas/core/indexes/base.py:5877\u001b[0m, in \u001b[0;36mIndex._get_indexer_strict\u001b[0;34m(self, key, axis_name)\u001b[0m\n\u001b[1;32m   5874\u001b[0m \u001b[39melse\u001b[39;00m:\n\u001b[1;32m   5875\u001b[0m     keyarr, indexer, new_indexer \u001b[39m=\u001b[39m \u001b[39mself\u001b[39m\u001b[39m.\u001b[39m_reindex_non_unique(keyarr)\n\u001b[0;32m-> 5877\u001b[0m \u001b[39mself\u001b[39;49m\u001b[39m.\u001b[39;49m_raise_if_missing(keyarr, indexer, axis_name)\n\u001b[1;32m   5879\u001b[0m keyarr \u001b[39m=\u001b[39m \u001b[39mself\u001b[39m\u001b[39m.\u001b[39mtake(indexer)\n\u001b[1;32m   5880\u001b[0m \u001b[39mif\u001b[39;00m \u001b[39misinstance\u001b[39m(key, Index):\n\u001b[1;32m   5881\u001b[0m     \u001b[39m# GH 42790 - Preserve name from an Index\u001b[39;00m\n",
      "File \u001b[0;32m~/anaconda3/envs/python39/lib/python3.9/site-packages/pandas/core/indexes/base.py:5941\u001b[0m, in \u001b[0;36mIndex._raise_if_missing\u001b[0;34m(self, key, indexer, axis_name)\u001b[0m\n\u001b[1;32m   5938\u001b[0m     \u001b[39mraise\u001b[39;00m \u001b[39mKeyError\u001b[39;00m(\u001b[39mf\u001b[39m\u001b[39m\"\u001b[39m\u001b[39mNone of [\u001b[39m\u001b[39m{\u001b[39;00mkey\u001b[39m}\u001b[39;00m\u001b[39m] are in the [\u001b[39m\u001b[39m{\u001b[39;00maxis_name\u001b[39m}\u001b[39;00m\u001b[39m]\u001b[39m\u001b[39m\"\u001b[39m)\n\u001b[1;32m   5940\u001b[0m not_found \u001b[39m=\u001b[39m \u001b[39mlist\u001b[39m(ensure_index(key)[missing_mask\u001b[39m.\u001b[39mnonzero()[\u001b[39m0\u001b[39m]]\u001b[39m.\u001b[39munique())\n\u001b[0;32m-> 5941\u001b[0m \u001b[39mraise\u001b[39;00m \u001b[39mKeyError\u001b[39;00m(\u001b[39mf\u001b[39m\u001b[39m\"\u001b[39m\u001b[39m{\u001b[39;00mnot_found\u001b[39m}\u001b[39;00m\u001b[39m not in index\u001b[39m\u001b[39m\"\u001b[39m)\n",
      "\u001b[0;31mKeyError\u001b[0m: \"['A', 'AAN', 'AAP', 'AAWW', 'ABAX', 'ABC', 'ABCO', 'ABFS', 'ABG', 'ABM', 'ABMD', 'ABT', 'ACAS', 'ACAT', 'ACC', 'ACCL', 'ACCO', 'ACE', 'ACFN', 'ACHN', 'ACI', 'ACN', 'ACO', 'ACXM', 'ADC', 'ADM', 'ADS', 'ADVS', 'AE', 'AEC', 'AEE', 'AEGN', 'AEL', 'AEO', 'AEPI', 'AES', 'AET', 'AF', 'AFAM', 'AFFX', 'AFG', 'AFL', 'AFOP', 'AFSI', 'AGCO', 'AGII', 'AGM', 'AGN', 'AGO', 'AGX', 'AHL', 'AHS', 'AHT', 'AI', 'AIG', 'AIMC', 'AIN', 'AINV', 'AIQ', 'AIR', 'AIRM', 'AIT', 'AIV', 'AIZ', 'AJG', 'AKR', 'AKRX', 'AKS', 'ALB', 'ALE', 'ALG', 'ALJ', 'ALK', 'ALL', 'ALOG', 'ALR', 'ALX', 'ALXN', 'AMAG', 'AMCC', 'AME', 'AMG', 'AMP', 'AMRI', 'AMSG', 'AMT', 'AMTD', 'AMZG', 'AN', 'ANAD', 'ANAT', 'ANCX', 'ANF', 'ANH', 'ANN', 'ANR', 'ANTM', 'AOI', 'AON', 'AOS', 'AP', 'APAGF', 'APC', 'APD', 'APH', 'APL', 'APOL', 'ARC', 'ARCW', 'ARE', 'ARG', 'ARIA', 'ARII', 'ARNA', 'ARNC', 'ARO', 'ARQL', 'ARRS', 'ARSD', 'ARTC', 'ARUN', 'ARW', 'ASBC', 'ASEI', 'ASGN', 'ASH', 'ASNA', 'ATI', 'ATK', 'ATMI', 'ATML', 'ATNY', 'ATO', 'ATR', 'ATRS', 'ATU', 'ATW', 'AUXL', 'AVA', 'AVB', 'AVD', 'AVNR', 'AVP', 'AVX', 'AVY', 'AWI', 'AWR', 'AXAS', 'AXE', 'AXL', 'AXLL', 'AXP', 'AXS', 'AYI', 'AYR', 'AZO', 'AZZ', 'B', 'BA', 'BABY', 'BAC', 'BANC', 'BAS', 'BAX', 'BBBY', 'BBCN', 'BBG', 'BBNK', 'BBOX', 'BBT', 'BBW', 'BBX', 'BBY', 'BC', 'BCO', 'BCOR', 'BCR', 'BDC', 'BDE', 'BDGE', 'BDN', 'BDSI', 'BDX', 'BEAV', 'BEBE', 'BEE', 'BEN', 'BFS', 'BF_B', 'BG', 'BGCP', 'BGG', 'BH', 'BHB', 'BHE', 'BHI', 'BHLB', 'BID', 'BIG', 'BIO', 'BIRT', 'BK', 'BKD', 'BKE', 'BKH', 'BKMU', 'BKS', 'BKYF', 'BLDR', 'BLK', 'BLL', 'BLT', 'BLX', 'BMI', 'BMS', 'BMTC', 'BMY', 'BNCN', 'BOBE', 'BOFI', 'BOH', 'BONT', 'BP', 'BPFH', 'BPZ', 'BRC', 'BRCD', 'BRCM', 'BREW', 'BRKS', 'BRK_A', 'BRK_B', 'BRO', 'BRS', 'BRT', 'BSTC', 'BSX', 'BTH', 'BTU', 'BTX', 'BWA', 'BWINB', 'BWLD', 'BWS', 'BXC', 'BXP', 'BXS', 'BYD', 'BYI', 'BZH', 'C', 'CA', 'CAB', 'CACB', 'CACI', 'CAG', 'CAH', 'CALD', 'CALL', 'CAM', 'CAS', 'CAT', 'CATO', 'CB', 'CBB', 'CBEY', 'CBG', 'CBI', 'CBK', 'CBL', 'CBM', 'CBR', 'CBS', 'CBST', 'CBT', 'CBU', 'CBZ', 'CCC', 'CCE', 'CCF', 'CCI', 'CCK', 'CCL', 'CCMP', 'CCO', 'CDE', 'CDI', 'CDR', 'CE', 'CEB', 'CECE', 'CELG', 'CERN', 'CETV', 'CF', 'CFI', 'CFNB', 'CFNL', 'CFR', 'CGI', 'CHD', 'CHDX', 'CHE', 'CHFC', 'CHFN', 'CHH', 'CHS', 'CHTP', 'CI', 'CIA', 'CIDM', 'CIEN', 'CIFC', 'CIR', 'CIX', 'CKEC', 'CKH', 'CKP', 'CL', 'CLC', 'CLCT', 'CLF', 'CLGX', 'CLH', 'CLI', 'CLMS', 'CLUB', 'CLX', 'CMA', 'CMC', 'CMCSK', 'CMG', 'CMI', 'CMN', 'CMO', 'CMP', 'CMS', 'CNA', 'CNBC', 'CNBKA', 'CNC', 'CNL', 'CNMD', 'CNO', 'CNP', 'CNQR', 'CNS', 'CNVR', 'CNW', 'CNX', 'COB', 'COBZ', 'COF', 'COG', 'COH', 'COHR', 'COL', 'COO', 'COP', 'CORE', 'CORR', 'COWN', 'CPA', 'CPB', 'CPE', 'CPF', 'CPHD', 'CPK', 'CPLA', 'CPST', 'CPT', 'CPWR', 'CQB', 'CR', 'CRAY', 'CRD_B', 'CREE', 'CRI', 'CRK', 'CRL', 'CRM', 'CRR', 'CRRC', 'CRRS', 'CRS', 'CRWN', 'CRY', 'CRZO', 'CSBK', 'CSC', 'CSCD', 'CSE', 'CSFL', 'CSH', 'CSII', 'CSL', 'CSS', 'CSU', 'CSV', 'CTB', 'CTIC', 'CTL', 'CTO', 'CTRX', 'CTS', 'CTWS', 'CTXS', 'CUB', 'CUBE', 'CUI', 'CUNB', 'CUR', 'CUZ', 'CVA', 'CVC', 'CVD', 'CVG', 'CVO', 'CVS', 'CVX', 'CW', 'CWEI', 'CWT', 'CXW', 'CY', 'CYBX', 'CYH', 'CYNO', 'CYTR', 'CYTX', 'D', 'DAR', 'DBD', 'DCI', 'DCO', 'DCT', 'DD', 'DDD', 'DDR', 'DDS', 'DE', 'DECK', 'DEI', 'DEL', 'DELL', 'DEPO', 'DEST', 'DF', 'DFZ', 'DGAS', 'DGX', 'DHI', 'DHR', 'DHT', 'DIN', 'DIS', 'DISCA', 'DK', 'DKS', 'DLB', 'DLLR', 'DLR', 'DLX', 'DMND', 'DNB', 'DNDN', 'DNR', 'DO', 'DOV', 'DOW', 'DPZ', 'DRC', 'DRE', 'DRH', 'DRI', 'DRIV', 'DRL', 'DRQ', 'DSCI', 'DSPG', 'DST', 'DSW', 'DTE', 'DTLK', 'DTSI', 'DTV', 'DUK', 'DV', 'DVA', 'DVN', 'DVR', 'DW', 'DWA', 'DX', 'DY', 'DYAX', 'EAT', 'EBF', 'EBS', 'ECL', 'ECOL', 'ED', 'EDE', 'EDIG', 'EDR', 'EE', 'EFII', 'EFX', 'EGN', 'EGOV', 'EGP', 'EGY', 'EIG', 'EIX', 'EL', 'ELGX', 'ELNK', 'ELRC', 'ELS', 'ELX', 'ELY', 'EMC', 'EMCI', 'EME', 'EMN', 'EMR', 'END', 'ENDP', 'ENH', 'ENR', 'ENS', 'ENVE', 'ENZ', 'ENZN', 'EOG', 'EOX', 'EPAY', 'EPIQ', 'EPM', 'EPR', 'EQR', 'EQT', 'EQU', 'EQY', 'ES', 'ESBF', 'ESC', 'ESE', 'ESI', 'ESIO', 'ESL', 'ESRX', 'ESS', 'ESV', 'ETFC', 'ETH', 'ETM', 'ETN', 'ETR', 'EV', 'EVC', 'EVR', 'EW', 'EXAC', 'EXAR', 'EXP', 'EXR', 'F', 'FBC', 'FBP', 'FC', 'FCE_A', 'FCF', 'FCH', 'FCN', 'FCS', 'FCX', 'FDEF', 'FDO', 'FDP', 'FDS', 'FDX', 'FE', 'FEIC', 'FFBH', 'FFG', 'FFKT', 'FHCO', 'FHN', 'FICO', 'FII', 'FINL', 'FIS', 'FISV', 'FIX', 'FL', 'FLIR', 'FLO', 'FLR', 'FLS', 'FMBI', 'FMC', 'FMD', 'FMER', 'FNB', 'FNF', 'FNFG', 'FNHC', 'FNSR', 'FOE', 'FPO', 'FR', 'FRBK', 'FRED', 'FRM', 'FRO', 'FRT', 'FRX', 'FSGI', 'FSP', 'FSS', 'FST', 'FSYS', 'FTI', 'FTK', 'FTR', 'FUL', 'FUR', 'FVE', 'FXCB', 'FXEN', 'GAS', 'GB', 'GBCI', 'GBL', 'GBLI', 'GBNK', 'GBX', 'GCA', 'GCI', 'GCO', 'GD', 'GDP', 'GE', 'GEF', 'GEO', 'GES', 'GFF', 'GFIG', 'GFN', 'GGG', 'GGP', 'GHC', 'GHDX', 'GHL', 'GHM', 'GIS', 'GK', 'GLF', 'GLT', 'GLUU', 'GLW', 'GMCR', 'GME', 'GMO', 'GMT', 'GNCMA', 'GNW', 'GOLD', 'GORO', 'GPC', 'GPI', 'GPK', 'GPN', 'GPOR', 'GPS', 'GPT', 'GPX', 'GRA', 'GRC', 'GRIF', 'GRMN', 'GRT', 'GS', 'GSIG', 'GSOL', 'GST', 'GTI', 'GTIV', 'GTLS', 'GTN', 'GTT', 'GTXI', 'GTY', 'GUID', 'GVA', 'GWR', 'GWW', 'GXP', 'GY', 'HAE', 'HAL', 'HAR', 'HBHC', 'HBI', 'HCBK', 'HCC', 'HCN', 'HD', 'HDNG', 'HE', 'HEI', 'HEOP', 'HERO', 'HES', 'HF', 'HFC', 'HGR', 'HIG', 'HIL', 'HILL', 'HITK', 'HITT', 'HIW', 'HK', 'HL', 'HLF', 'HLS', 'HLX', 'HME', 'HMN', 'HMPR', 'HMSY', 'HNH', 'HNI', 'HNR', 'HNT', 'HOG', 'HOMB', 'HOS', 'HOT', 'HOV', 'HP', 'HPQ', 'HPT', 'HPY', 'HR', 'HRB', 'HRC', 'HRG', 'HRL', 'HRS', 'HSC', 'HSH', 'HSP', 'HSY', 'HT', 'HTCH', 'HTCO', 'HTGC', 'HTH', 'HUB_B', 'HUM', 'HUN', 'HVB', 'HVT', 'HW', 'HWAY', 'HWCC', 'HXL', 'HZO', 'IACI', 'IBCA', 'IBKC', 'IBM', 'ICE', 'ICGE', 'ICON', 'IDA', 'IDIX', 'IDRA', 'IDT', 'IDTI', 'IEX', 'IFF', 'IG', 'IGT', 'IGTE', 'IHC', 'IHS', 'IIIN', 'IIVI', 'IM', 'IMMU', 'IMN', 'INAP', 'INFA', 'INGR', 'ININ', 'INSY', 'INT', 'INTL', 'INTX', 'INWK', 'IO', 'IP', 'IPCC', 'IPG', 'IPHS', 'IPXL', 'IR', 'IRC', 'IRET', 'IRF', 'IRM', 'ISBC', 'ISCA', 'ISH', 'ISIL', 'ISIS', 'ISLE', 'ISSI', 'IT', 'ITC', 'ITG', 'ITMN', 'ITT', 'ITW', 'IVC', 'IVZ', 'IXYS', 'JAH', 'JBL', 'JCI', 'JCOM', 'JCP', 'JDSU', 'JEC', 'JLL', 'JMBA', 'JNJ', 'JNPR', 'JNS', 'JNY', 'JOE', 'JOY', 'JPM', 'JRN', 'JWN', 'JW_A', 'K', 'KAI', 'KAMN', 'KBALB', 'KBH', 'KBR', 'KCLI', 'KEG', 'KEM', 'KERX', 'KEX', 'KEY', 'KFY', 'KIM', 'KKD', 'KMB', 'KMG', 'KMPR', 'KMT', 'KMX', 'KND', 'KNL', 'KNX', 'KO', 'KOG', 'KOP', 'KR', 'KRC', 'KRG', 'KRO', 'KS', 'KSS', 'KSU', 'KWK', 'KWR', 'L', 'LABL', 'LAD', 'LAYN', 'LAZ', 'LB', 'LBY', 'LCI', 'LDL', 'LDOS', 'LDR', 'LEG', 'LEN', 'LF', 'LG', 'LGF', 'LH', 'LHCG', 'LHO', 'LII', 'LINTA', 'LION', 'LIOX', 'LLL', 'LLTC', 'LLY', 'LM', 'LMIA', 'LMNX', 'LMT', 'LNC', 'LNCE', 'LNDC', 'LNG', 'LNN', 'LORL', 'LOV', 'LOW', 'LPNT', 'LPX', 'LSI', 'LTC', 'LTM', 'LTS', 'LTXC', 'LUB', 'LUK', 'LUV', 'LVLT', 'LVS', 'LXK', 'LXP', 'LXU', 'LYV', 'LZB', 'M', 'MA', 'MAA', 'MAC', 'MAN', 'MANT', 'MAS', 'MATX', 'MBFI', 'MBI', 'MBRG', 'MBVT', 'MCD', 'MCF', 'MCGC', 'MCK', 'MCO', 'MCRL', 'MCRS', 'MCS', 'MCY', 'MD', 'MDC', 'MDCA', 'MDCI', 'MDCO', 'MDP', 'MDR', 'MDT', 'MDU', 'MDVN', 'MEAS', 'MED', 'MEG', 'MEI', 'MENT', 'MET', 'METR', 'MFA', 'MFLX', 'MGI', 'MGLN', 'MGM', 'MHFI', 'MHGC', 'MHK', 'MHO', 'MHR', 'MIG', 'MIL', 'MILL', 'MINI', 'MKC', 'MKL', 'MLHR', 'MLI', 'MLM', 'MLNK', 'MLR', 'MMC', 'MMM', 'MMS', 'MNI', 'MNR', 'MNTA', 'MO', 'MOD', 'MOG_A', 'MOH', 'MON', 'MOS', 'MOSY', 'MOV', 'MPW', 'MPX', 'MRGE', 'MRH', 'MRK', 'MRLN', 'MRO', 'MS', 'MSA', 'MSCC', 'MSFG', 'MSI', 'MSL', 'MSM', 'MSO', 'MTB', 'MTD', 'MTG', 'MTH', 'MTN', 'MTOR', 'MTRN', 'MTSC', 'MTW', 'MTX', 'MTZ', 'MUR', 'MVC', 'MW', 'MWA', 'MWIV', 'MWV', 'MWW', 'MXIM', 'MXWL', 'MYE', 'MYL', 'NANO', 'NASB', 'NAT', 'NATL', 'NAV', 'NAVB', 'NAVG', 'NBBC', 'NBL', 'NBR', 'NBS', 'NC', 'NCI', 'NCR', 'NCS', 'NE', 'NEE', 'NEM', 'NEU', 'NEWP', 'NEWS', 'NFG', 'NFX', 'NGPC', 'NGS', 'NHC', 'NHI', 'NI', 'NILE', 'NJR', 'NKE', 'NL', 'NLS', 'NLY', 'NM', 'NMRX', 'NNI', 'NNVC', 'NOC', 'NOV', 'NP', 'NPBC', 'NPK', 'NPO', 'NPSP', 'NR', 'NRG', 'NSC', 'NSP', 'NSR', 'NTLS', 'NTRI', 'NU', 'NUAN', 'NUE', 'NUS', 'NUTR', 'NUVA', 'NVR', 'NWBO', 'NWN', 'NWY', 'NX', 'NXTM', 'NYCB', 'NYNY', 'NYT', 'O', 'OC', 'OCLR', 'OCN', 'OCR', 'ODC', 'OEH', 'OFC', 'OFG', 'OGE', 'OGXI', 'OHI', 'OI', 'OII', 'OIS', 'OKE', 'OKSB', 'OLBK', 'OLN', 'OLP', 'OMC', 'OME', 'OMG', 'OMI', 'OMN', 'ONNN', 'ONTY', 'OPLK', 'OPY', 'ORA', 'ORB', 'ORBC', 'ORCL', 'ORI', 'ORIT', 'OSIR', 'OSK', 'OUTR', 'OVTI', 'OXM', 'OXY', 'OZRK', 'PACR', 'PAG', 'PATR', 'PAY', 'PB', 'PBCT', 'PBH', 'PBI', 'PBY', 'PCBK', 'PCCC', 'PCG', 'PCL', 'PCLN', 'PCO', 'PCP', 'PCYC', 'PDCE', 'PDLI', 'PEG', 'PEI', 'PEIX', 'PENX', 'PERY', 'PES', 'PETM', 'PFE', 'PFS', 'PG', 'PGI', 'PGNX', 'PGR', 'PGTI', 'PH', 'PHH', 'PHIIK', 'PHM', 'PHMD', 'PHX', 'PICO', 'PII', 'PIKE', 'PIR', 'PJC', 'PKD', 'PKE', 'PKG', 'PKI', 'PKT', 'PKY', 'PL', 'PLCM', 'PLD', 'PLKI', 'PLT', 'PLXT', 'PMCS', 'PMFG', 'PNC', 'PNK', 'PNM', 'PNR', 'PNRA', 'PNW', 'PNX', 'PNY', 'POL', 'POM', 'POR', 'POWR', 'POZN', 'PPG', 'PPHM', 'PPL', 'PPS', 'PQ', 'PRA', 'PRGO', 'PRGX', 'PRK', 'PRKR', 'PRSC', 'PRU', 'PRXL', 'PSA', 'PSB', 'PSEM', 'PSTB', 'PSUN', 'PTIE', 'PTP', 'PTRY', 'PTX', 'PVA', 'PVH', 'PVTB', 'PWR', 'PX', 'PXD', 'PZG', 'QCOR', 'QGEN', 'QLGC', 'QLTY', 'QSII', 'QTM', 'R', 'RAD', 'RAI', 'RAS', 'RAVN', 'RBC', 'RCII', 'RCKB', 'RCL', 'RDC', 'RDEN', 'RDN', 'RE', 'RECN', 'REIS', 'RES', 'REV', 'REX', 'REXI', 'RF', 'RFMD', 'RGR', 'RGS', 'RHI', 'RHP', 'RHT', 'RIG', 'RJET', 'RJF', 'RKT', 'RL', 'RLI', 'RMD', 'RNR', 'RNWK', 'ROC', 'ROG', 'ROIAK', 'ROK', 'ROL', 'ROLL', 'ROVI', 'RPM', 'RPT', 'RPTP', 'RRC', 'RRD', 'RS', 'RSG', 'RSH', 'RSO', 'RSTI', 'RSYS', 'RT', 'RTEC', 'RTI', 'RTIX', 'RTK', 'RTN', 'RUTH', 'RVBD', 'RVLT', 'RWT', 'RYL', 'RYN', 'S', 'SAAS', 'SAFM', 'SAH', 'SAM', 'SAPE', 'SBH', 'SBNY', 'SCBT', 'SCCO', 'SCG', 'SCHN', 'SCHW', 'SCI', 'SCL', 'SCLN', 'SCS', 'SCSS', 'SDRL', 'SE', 'SEAC', 'SEB', 'SEE', 'SF', 'SFG', 'SFL', 'SFLY', 'SFY', 'SGI', 'SGK', 'SGMS', 'SGY', 'SHLD', 'SHLM', 'SHLO', 'SHO', 'SHW', 'SIAL', 'SIF', 'SIG', 'SIGM', 'SIMG', 'SIRO', 'SIVB', 'SJI', 'SJM', 'SJW', 'SKT', 'SKX', 'SLB', 'SLG', 'SLGN', 'SLXP', 'SM', 'SMA', 'SMG', 'SMP', 'SMRT', 'SNA', 'SNAK', 'SNBC', 'SNDK', 'SNH', 'SNHY', 'SNMX', 'SNSS', 'SNTA', 'SNV', 'SNX', 'SO', 'SON', 'SONC', 'SONS', 'SPA', 'SPAR', 'SPDC', 'SPF', 'SPG', 'SPLS', 'SPN', 'SPNC', 'SPPI', 'SPR', 'SPRT', 'SPW', 'SQBG', 'SQNM', 'SRE', 'SRI', 'SSD', 'SSI', 'SSS', 'STAR', 'STC', 'STE', 'STFC', 'STI', 'STJ', 'STL', 'STMP', 'STNR', 'STR', 'STRZA', 'STSA', 'STSI', 'STT', 'STZ', 'SUBK', 'SUI', 'SUNE', 'SUP', 'SUPX', 'SUSQ', 'SUSS', 'SVU', 'SWC', 'SWHC', 'SWK', 'SWM', 'SWN', 'SWS', 'SWX', 'SWY', 'SXI', 'SXT', 'SYK', 'SYKE', 'SYMC', 'SYNT', 'SYUT', 'SYX', 'SYY', 'T', 'TAM', 'TAP', 'TASR', 'TAXI', 'TAYC', 'TBI', 'TCAP', 'TCB', 'TCO', 'TDG', 'TDS', 'TDW', 'TDY', 'TE', 'TEAR', 'TECD', 'TECUA', 'TEG', 'TEN', 'TESO', 'TESS', 'TEX', 'TFX', 'TG', 'TGE', 'TGI', 'TGNA', 'TGT', 'THC', 'THG', 'THLD', 'THO', 'THOR', 'THS', 'TIBX', 'TICC', 'TIF', 'TIS', 'TISI', 'TIVO', 'TJX', 'TK', 'TKR', 'TMK', 'TMO', 'TMP', 'TNC', 'TOL', 'TPC', 'TPLM', 'TPX', 'TQNT', 'TR', 'TRAK', 'TRC', 'TREC', 'TREX', 'TRGT', 'TRI', 'TRK', 'TRN', 'TRR', 'TRV', 'TRW', 'TRXC', 'TSN', 'TSO', 'TSRA', 'TSS', 'TSYS', 'TTC', 'TTI', 'TUES', 'TUP', 'TWC', 'TWER', 'TWGP', 'TWI', 'TWMC', 'TWTC', 'TWX', 'TXI', 'TXT', 'TYC', 'TYL', 'UAA', 'UACL', 'UAM', 'UBA', 'UBNK', 'UBSH', 'UCFC', 'UDR', 'UFI', 'UFS', 'UGI', 'UHAL', 'UHS', 'UHT', 'UIL', 'UIS', 'ULTI', 'ULTR', 'UMH', 'UMPQ', 'UNF', 'UNFI', 'UNH', 'UNM', 'UNP', 'UNS', 'UNT', 'UNTD', 'UNXL', 'UPIP', 'UPL', 'UPS', 'URI', 'URS', 'USAK', 'USB', 'USG', 'USM', 'USMO', 'USNA', 'USPH', 'USTR', 'UTEK', 'UTI', 'UTIW', 'UTL', 'UTX', 'UVE', 'UVV', 'VAL', 'VAR', 'VASC', 'VDSI', 'VFC', 'VG', 'VGR', 'VHC', 'VIAB', 'VIAS', 'VICL', 'VIVO', 'VLCCF', 'VLO', 'VMC', 'VMI', 'VNO', 'VOCS', 'VOLC', 'VPFG', 'VPRT', 'VRX', 'VSH', 'VTR', 'VTSS', 'VVC', 'VVI', 'VVTV', 'VVUS', 'VZ', 'WAB', 'WAC', 'WAG', 'WAL', 'WAT', 'WBCO', 'WBMD', 'WBS', 'WCC', 'WCG', 'WCN', 'WDR', 'WEC', 'WETF', 'WEX', 'WFC', 'WFD', 'WFM', 'WG', 'WGL', 'WGO', 'WHG', 'WHR', 'WIBC', 'WIN', 'WLB', 'WLK', 'WLL', 'WLT', 'WM', 'WMAR', 'WMB', 'WMGI', 'WMK', 'WMT', 'WNC', 'WNR', 'WOR', 'WPP', 'WR', 'WRB', 'WRE', 'WRES', 'WRI', 'WSM', 'WSO', 'WST', 'WSTL', 'WTI', 'WTM', 'WTR', 'WTS', 'WTSL', 'WU', 'WWE', 'WWW', 'WWWW', 'WY', 'WYN', 'X', 'XCO', 'XCRA', 'XEC', 'XL', 'XLNX', 'XNPT', 'XOM', 'XOXO', 'XPO', 'XRM', 'XXIA', 'Y', 'YHOO', 'YRCW', 'YUM', 'ZAZA', 'ZBH', 'ZIGO', 'ZIOP', 'ZIXI', 'ZLC', 'ZMH', 'ZQK'] not in index\""
     ]
    }
   ],
   "source": [
    "msize = (size_factor\n",
    "        .mul(stocks\n",
    "                .loc[size_factor.columns, 'Market Cap'])).dropna(axis=1, how='all')"
   ]
  },
  {
   "cell_type": "code",
   "execution_count": null,
   "metadata": {},
   "outputs": [],
   "source": []
  }
 ],
 "metadata": {
  "kernelspec": {
   "display_name": "Python 3",
   "language": "python",
   "name": "python3"
  },
  "language_info": {
   "codemirror_mode": {
    "name": "ipython",
    "version": 3
   },
   "file_extension": ".py",
   "mimetype": "text/x-python",
   "name": "python",
   "nbconvert_exporter": "python",
   "pygments_lexer": "ipython3",
   "version": "3.9.17"
  },
  "orig_nbformat": 4
 },
 "nbformat": 4,
 "nbformat_minor": 2
}
