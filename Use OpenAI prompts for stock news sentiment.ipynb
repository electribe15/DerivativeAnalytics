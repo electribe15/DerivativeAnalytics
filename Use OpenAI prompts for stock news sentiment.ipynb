{
 "cells": [
  {
   "cell_type": "markdown",
   "metadata": {},
   "source": [
    "\n",
    "Download news headlines in one line of code\n",
    "Build a prompt to predict the sentiment of a headline\n",
    "Bring it all together with LangChain\n",
    "Use OpenAI prompts for stock news sentiment"
   ]
  },
  {
   "cell_type": "markdown",
   "metadata": {},
   "source": [
    "Import the OpenBB SDK for news and LangChain for building the app. \n",
    "Afterward, instantiate an OpenAI GPT-4 LLM."
   ]
  },
  {
   "cell_type": "code",
   "execution_count": 48,
   "metadata": {},
   "outputs": [],
   "source": [
    "\n",
    "OPENAI_KEY_PATH = \"/Users/Massimiliano/openai_key.txt\"\n",
    "OPENAI_API_KEY = open(OPENAI_KEY_PATH, \"r\").read().strip()"
   ]
  },
  {
   "cell_type": "code",
   "execution_count": 77,
   "metadata": {},
   "outputs": [],
   "source": [
    "from openbb_terminal.sdk import openbb\n",
    "\n",
    "from langchain import LLMChain\n",
    "from langchain.prompts import PromptTemplate\n",
    "from langchain.chat_models import ChatOpenAI\n",
    "\n",
    "from dotenv import load_dotenv\n",
    "load_dotenv()\n",
    "\n",
    "llm=ChatOpenAI(model=\"text-davinci-002\", temperature=0,openai_api_key=OPENAI_API_KEY)\n"
   ]
  },
  {
   "cell_type": "code",
   "execution_count": 78,
   "metadata": {},
   "outputs": [],
   "source": [
    "#Predict the sentiment\n",
    "#We use a straightforward prompt which outputs positive, negative, or neutral \n",
    "#depending on the LLM’s interpretation of the sentiment."
   ]
  },
  {
   "cell_type": "code",
   "execution_count": 79,
   "metadata": {},
   "outputs": [],
   "source": [
    "prompt=\"\"\"\n",
    "Is the predominant sentiment of the statement positive, negative, or neutral?\n",
    "----------------------------------------\n",
    "Statement: {statement}\n",
    "----------------------------------------\n",
    "Respond with one word in lowercase: positive, negative, or neutral.\n",
    "Sentiment:\n",
    "\"\"\"\n",
    "\n",
    "chain = LLMChain.from_string(\n",
    "    llm=llm,\n",
    "    template=prompt\n",
    ")"
   ]
  },
  {
   "cell_type": "markdown",
   "metadata": {},
   "source": [
    "After creating the prompt, we create a LangChain chain using the OpenAI LLM and the prompt.\n",
    "\n",
    "The LLMChain integrates a PromptTemplate, a Model, and Guardrails. It processes user input through formatting, submits it to the model for a response, and subsequently validates and corrects the model's output as needed.\n",
    "\n",
    "Next, we’ll download news headlines using the OpenBB SDK and apply the chain’s run method to each one."
   ]
  },
  {
   "cell_type": "code",
   "execution_count": null,
   "metadata": {},
   "outputs": [],
   "source": [
    "Ticker=\"MSFT\"\n",
    "Ticker = openbb.news(term=Ticker)\n",
    "Ticker[\"Sentiment\"] = Ticker.Description.apply(chain.run)\n",
    "Ticker[[\"Description\", \"Sentiment\"]]"
   ]
  },
  {
   "cell_type": "markdown",
   "metadata": {},
   "source": [
    "This code creates a pandas DataFrame. We apply the chain.run method to the \n",
    "Description column and set the predicted sentiment in the Sentiment column.\n",
    "\n",
    "Printing the output gives us a DataFrame with the predicted sentiment."
   ]
  }
 ],
 "metadata": {
  "kernelspec": {
   "display_name": "python39",
   "language": "python",
   "name": "python3"
  },
  "language_info": {
   "codemirror_mode": {
    "name": "ipython",
    "version": 3
   },
   "file_extension": ".py",
   "mimetype": "text/x-python",
   "name": "python",
   "nbconvert_exporter": "python",
   "pygments_lexer": "ipython3",
   "version": "3.9.17"
  }
 },
 "nbformat": 4,
 "nbformat_minor": 2
}
