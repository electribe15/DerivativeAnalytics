{
 "cells": [
  {
   "cell_type": "markdown",
   "metadata": {},
   "source": [
    "The SABR model, built in 2002, stands as a key stochastic volatility framework in finance for modeling derivatives. SABR stands for \"stochastic alpha, beta, rho\" which are the key inputs to the model.\n",
    "\n",
    "SABR is good at capturing the market-observed anomalies such as skew and smile.\n",
    "\n",
    "It operates on the premise that asset prices follow a geometric Brownian motion while volatility follows an Ornstein-Uhlenbeck process, parameterized by alpha (initial volatility level), beta (variance elasticity), rho (price-volatility correlation), and nu (volatility's volatility).\n",
    "\n",
    "One of its standout features is the closed-form approximation for implied volatility—known as the Hagan formula—which allows for fast and accurate computations of implied volatility across strike prices."
   ]
  },
  {
   "cell_type": "code",
   "execution_count": 2,
   "metadata": {},
   "outputs": [],
   "source": [
    "import warnings\n",
    "warnings.filterwarnings('ignore')\n",
    "\n",
    "import pandas as pd\n",
    "import numpy as np\n",
    "import matplotlib.pyplot as plt\n",
    "from openbb import obb\n",
    "from pysabr import Hagan2002LognormalSABR\n",
    "from pysabr import hagan_2002_lognormal_sabr as sabr\n",
    "from pysabr.black import lognormal_call"
   ]
  },
  {
   "cell_type": "code",
   "execution_count": 32,
   "metadata": {},
   "outputs": [],
   "source": [
    "symbol=\"SPY\"\n",
    "expiration='2026-12-18'\n",
    "expiration=pd.to_datetime(expiration)\n",
    "spy=obb.derivatives.options.chains(symbol=symbol).to_dataframe()"
   ]
  },
  {
   "cell_type": "code",
   "execution_count": 33,
   "metadata": {},
   "outputs": [
    {
     "name": "stdout",
     "output_type": "stream",
     "text": [
      "Index(['contract_symbol', 'expiration', 'strike', 'option_type',\n",
      "       'open_interest', 'volume', 'theoretical_price', 'last_trade_price',\n",
      "       'tick', 'bid', 'bid_size', 'ask', 'ask_size', 'open', 'high', 'low',\n",
      "       'prev_close', 'change', 'change_percent', 'implied_volatility', 'delta',\n",
      "       'gamma', 'theta', 'vega', 'rho', 'last_trade_timestamp', 'dte'],\n",
      "      dtype='object')\n"
     ]
    }
   ],
   "source": [
    "print(spy.columns)"
   ]
  },
  {
   "cell_type": "code",
   "execution_count": 34,
   "metadata": {},
   "outputs": [
    {
     "name": "stdout",
     "output_type": "stream",
     "text": [
      "         contract_symbol  expiration  strike option_type  open_interest  \\\n",
      "0     SPY240220C00424000  2024-02-20   424.0        call             17   \n",
      "1     SPY240220P00424000  2024-02-20   424.0         put           2874   \n",
      "2     SPY240220C00425000  2024-02-20   425.0        call              1   \n",
      "3     SPY240220P00425000  2024-02-20   425.0         put            309   \n",
      "4     SPY240220C00426000  2024-02-20   426.0        call              0   \n",
      "...                  ...         ...     ...         ...            ...   \n",
      "8643  SPY261218P00740000  2026-12-18   740.0         put              0   \n",
      "8644  SPY261218C00745000  2026-12-18   745.0        call              5   \n",
      "8645  SPY261218P00745000  2026-12-18   745.0         put              0   \n",
      "8646  SPY261218C00750000  2026-12-18   750.0        call           1679   \n",
      "8647  SPY261218P00750000  2026-12-18   750.0         put              0   \n",
      "\n",
      "      volume  theoretical_price  last_trade_price       tick     bid  ...  \\\n",
      "0         17            72.2252             72.65       down   71.60  ...   \n",
      "1         52             0.0000              0.01  no_change    0.00  ...   \n",
      "2          1            71.2252             69.80       down   70.60  ...   \n",
      "3          1             0.0000              0.01  no_change    0.00  ...   \n",
      "4          0            70.2252              0.00  no_change   69.60  ...   \n",
      "...      ...                ...               ...        ...     ...  ...   \n",
      "8643       0           243.7750              0.00  no_change  241.00  ...   \n",
      "8644       0             3.3240              2.91       down    1.79  ...   \n",
      "8645       0           248.7750              0.00  no_change  246.00  ...   \n",
      "8646      44             3.1168              3.30         up    3.00  ...   \n",
      "8647       0           253.7750            255.00       down  251.00  ...   \n",
      "\n",
      "      change  change_percent  implied_volatility   delta   gamma   theta  \\\n",
      "0     -3.020         -0.0399              0.0000  1.0000  0.0000  0.0000   \n",
      "1      0.005          1.0000              0.0000  0.0000  0.0000  0.0000   \n",
      "2     -4.870         -0.0652              0.0000  1.0000  0.0000  0.0000   \n",
      "3      0.005          1.0000              0.0000  0.0000  0.0000  0.0000   \n",
      "4      0.000          0.0000              0.0000  1.0000  0.0000  0.0000   \n",
      "...      ...             ...                 ...     ...     ...     ...   \n",
      "8643   0.000          0.0000              0.0000 -1.0000  0.0000 -0.0176   \n",
      "8644   0.000          0.0000              0.1228  0.0815  0.0015 -0.0067   \n",
      "8645   0.000          0.0000              0.0000 -1.0000  0.0000 -0.0180   \n",
      "8646  -0.075         -0.0222              0.1254  0.0771  0.0014 -0.0064   \n",
      "8647   0.000          0.0000              0.0000 -1.0000  0.0000 -0.0184   \n",
      "\n",
      "        vega     rho  last_trade_timestamp   dte  \n",
      "0     0.0000  0.0003   2024-02-20 14:51:38    -1  \n",
      "1     0.0000  0.0000   2024-02-20 15:33:44    -1  \n",
      "2     0.0000  0.0003   2024-02-20 12:24:57    -1  \n",
      "3     0.0000  0.0000   2024-02-20 09:47:40    -1  \n",
      "4     0.0000  0.0003                   NaT    -1  \n",
      "...      ...     ...                   ...   ...  \n",
      "8643  0.0000  0.0001                   NaT  1031  \n",
      "8644  1.3103  1.0196   2024-02-13 09:30:00  1031  \n",
      "8645  0.0000  0.0001                   NaT  1031  \n",
      "8646  1.2599  0.9658   2024-02-20 12:47:41  1031  \n",
      "8647  0.0000  0.0001   2024-02-06 10:42:10  1031  \n",
      "\n",
      "[8648 rows x 27 columns]\n"
     ]
    }
   ],
   "source": [
    "print(spy)"
   ]
  },
  {
   "cell_type": "code",
   "execution_count": 38,
   "metadata": {},
   "outputs": [],
   "source": [
    "#From here, grab the calls and puts at the specified expiration.\n",
    "calls = spy[spy.option_type == \"call\"]\n",
    "jan_2026_c = calls[calls.expiration == expiration].set_index(\"strike\")\n",
    "jan_2026_c[\"mid\"] = (jan_2026_c.ask + jan_2026_c.ask) / 2\n",
    "\n",
    "puts = spy[spy.option_type == \"put\"]\n",
    "jan_2026_p = puts[puts.expiration == expiration].set_index(\"strike\")\n",
    "jan_2026_p[\"mid\"] = (jan_2026_p.ask + jan_2026_p.ask) / 2\n",
    "\n",
    "strikes = jan_2026_c.index\n",
    "vols = jan_2026_c.implied_volatility * 100\n",
    "\n",
    "#We filter the DataFrame for call and put options at the given expiration. \n",
    "# We then compute the mid price to get a more accurate picture of implied volatility. \n",
    "# We’ll need the strikes and market implied volatilities, too"
   ]
  },
  {
   "cell_type": "code",
   "execution_count": 39,
   "metadata": {},
   "outputs": [],
   "source": [
    "#Fit the SABR model\n",
    "#First, we compute the forward stock price using put-call parity, set the expiration, and assign a beta."
   ]
  },
  {
   "cell_type": "code",
   "execution_count": 40,
   "metadata": {},
   "outputs": [],
   "source": [
    "f = (\n",
    "    (jan_2026_c.mid - jan_2026_p.mid)\n",
    "    .dropna()\n",
    "    .abs()\n",
    "    .sort_values()\n",
    "    .index[0]\n",
    ")\n",
    "t = (pd.Timestamp(expiration) - pd.Timestamp.now()).days / 365\n",
    "beta = 0.5"
   ]
  },
  {
   "cell_type": "code",
   "execution_count": 41,
   "metadata": {},
   "outputs": [],
   "source": [
    "#Put-call parity defines the relationship between put options, \n",
    "#call options, and the forward price of the underlying.\n",
    "#The t parameter is the fraction of time until expiration.\n",
    "\n",
    "#The beta parameter governs the shape of the forward rate, \n",
    "#which influences the shape of the implied volatility smile. \n",
    "#A beta of 1 implies a lognormal distribution, which is consistent with the Black-Scholes model. \n",
    "#Moving beta away from 1 allows for different shapes of volatility smiles.\n",
    "#In practice, setting beta to 0.5 is usually a safe bet.\n",
    "\n",
    "#Once we set the parameters, we instantiate the model and call fit to get alpha, rho, and volvol."
   ]
  },
  {
   "cell_type": "code",
   "execution_count": 42,
   "metadata": {},
   "outputs": [],
   "source": [
    "sabr_lognormal = Hagan2002LognormalSABR(\n",
    "    f=f,\n",
    "    t=t,\n",
    "    beta=beta\n",
    ")\n",
    "\n",
    "alpha, rho, volvol = sabr_lognormal.fit(strikes, vols)"
   ]
  },
  {
   "cell_type": "code",
   "execution_count": 43,
   "metadata": {},
   "outputs": [],
   "source": [
    "#The fit method calibrates the SABR model parameters to best fit a given volatility smile. \n",
    "#The alpha parameter is a measure of the at-the-money volatility level, rho represents \n",
    "#the correlation between the asset price and its volatility, and volvol which is the volatility \n",
    "#of volatility.\n",
    "\n",
    "#Generate a fitted volatility smile\n",
    "#Now that we have alpha, rho, and volvol, we can generate the calibrated volatility smile"
   ]
  },
  {
   "cell_type": "code",
   "execution_count": 44,
   "metadata": {},
   "outputs": [
    {
     "data": {
      "image/png": "[encoded data removed]",
      "text/plain": [
       "<Figure size 640x480 with 1 Axes>"
      ]
     },
     "metadata": {},
     "output_type": "display_data"
    }
   ],
   "source": [
    "calibrated_vols = [\n",
    "    sabr.lognormal_vol(strike, f, t, alpha, beta, rho, volvol) * 100\n",
    "    for strike in strikes\n",
    "]\n",
    "plt.plot(\n",
    "    strikes, \n",
    "    calibrated_vols\n",
    ")\n",
    "\n",
    "plt.xlabel(\"Strike\")\n",
    "plt.ylabel(\"Volatility\")\n",
    "plt.title(\"Volatility Smile\")\n",
    "plt.plot(strikes, vols)\n",
    "plt.show()"
   ]
  },
  {
   "cell_type": "code",
   "execution_count": 45,
   "metadata": {},
   "outputs": [],
   "source": [
    "#assess the model error"
   ]
  },
  {
   "cell_type": "code",
   "execution_count": 46,
   "metadata": {},
   "outputs": [
    {
     "data": {
      "image/png": "[encoded data removed]",
      "text/plain": [
       "<Figure size 640x480 with 1 Axes>"
      ]
     },
     "metadata": {},
     "output_type": "display_data"
    }
   ],
   "source": [
    "black_values = []\n",
    "for strike, calibrated_vol in zip(strikes.tolist(), calibrated_vols):\n",
    "    black_value = lognormal_call(\n",
    "        strike, \n",
    "        f, \n",
    "        t, \n",
    "        calibrated_vol / 100, \n",
    "        0.05, \n",
    "        cp=\"call\"\n",
    "    )\n",
    "    black_values.append(black_value)\n",
    "\n",
    "\n",
    "option_values = pd.DataFrame(\n",
    "    {\n",
    "        \"black\": black_values,\n",
    "        \"market\": jan_2026_c.mid\n",
    "    },\n",
    "    index=strikes\n",
    ")\n",
    "\n",
    "\n",
    "(option_values.black - option_values.market).plot.bar()\n",
    "\n",
    "# Adjust x-axis interval\n",
    "plt.xticks(range(0, len(strikes), 5))  # Change '5' to any number that suits your needs\n",
    "\n",
    "plt.show()"
   ]
  },
  {
   "cell_type": "code",
   "execution_count": 32,
   "metadata": {},
   "outputs": [],
   "source": [
    "#The result is a bar chart which demonstrates the model error for each strike price \n",
    "#based on the calibrated implied volatility from the SABR model."
   ]
  }
 ],
 "metadata": {
  "kernelspec": {
   "display_name": "python39",
   "language": "python",
   "name": "python3"
  },
  "language_info": {
   "codemirror_mode": {
    "name": "ipython",
    "version": 3
   },
   "file_extension": ".py",
   "mimetype": "text/x-python",
   "name": "python",
   "nbconvert_exporter": "python",
   "pygments_lexer": "ipython3",
   "version": "3.10.13"
  }
 },
 "nbformat": 4,
 "nbformat_minor": 2
}
