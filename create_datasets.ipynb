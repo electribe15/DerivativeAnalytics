{
 "cells": [
  {
   "cell_type": "code",
   "execution_count": 1,
   "metadata": {
    "ExecuteTime": {
     "end_time": "2020-06-18T14:32:07.092623Z",
     "start_time": "2020-06-18T14:32:07.090885Z"
    }
   },
   "outputs": [],
   "source": [
    "import warnings\n",
    "warnings.filterwarnings('ignore')"
   ]
  },
  {
   "cell_type": "code",
   "execution_count": 2,
   "metadata": {
    "ExecuteTime": {
     "end_time": "2020-06-18T14:32:07.263130Z",
     "start_time": "2020-06-18T14:32:07.259861Z"
    }
   },
   "outputs": [
    {
     "name": "stderr",
     "output_type": "stream",
     "text": [
      "INFO:openbb_terminal.cryptocurrency.onchain.bitquery_model:START\n",
      "INFO:openbb_terminal.cryptocurrency.onchain.bitquery_model:END\n"
     ]
    },
    {
     "data": {
      "text/html": [
       "<pre style=\"white-space:pre;overflow-x:auto;line-height:normal;font-family:Menlo,'DejaVu Sans Mono',consolas,'Courier New',monospace\"><span style=\"color: #808000; text-decoration-color: #808000\">Forecasting Toolkit is disabled. To use the Forecasting features please install the toolkit following the instructions here: https://my.openbb.co/app/sdk/installation</span>\n",
       "\n",
       "</pre>\n"
      ],
      "text/plain": [
       "\u001b[33mForecasting Toolkit is disabled. To use the Forecasting features please install the toolkit following the instructions here: https://my.openbb.co/app/sdk/installation\u001b[0m\n",
       "\n"
      ]
     },
     "metadata": {},
     "output_type": "display_data"
    },
    {
     "data": {
      "text/html": [
       "<pre style=\"white-space:pre;overflow-x:auto;line-height:normal;font-family:Menlo,'DejaVu Sans Mono',consolas,'Courier New',monospace\"><span style=\"color: #808000; text-decoration-color: #808000\">Portfolio Optimization Toolkit is disabled. To use the Optimization features please install the toolkit following the instructions here: https://my.openbb.co/app/sdk/installation</span>\n",
       "\n",
       "</pre>\n"
      ],
      "text/plain": [
       "\u001b[33mPortfolio Optimization Toolkit is disabled. To use the Optimization features please install the toolkit following the instructions here: https://my.openbb.co/app/sdk/installation\u001b[0m\n",
       "\n"
      ]
     },
     "metadata": {},
     "output_type": "display_data"
    },
    {
     "name": "stderr",
     "output_type": "stream",
     "text": [
      "INFO:openbb_terminal.loggers:Logging configuration finished\n",
      "INFO:openbb_terminal.loggers:Logging set to ['file', 'posthog']\n",
      "INFO:openbb_terminal.loggers:Verbosity set to 20\n",
      "INFO:openbb_terminal.loggers:LOGFORMAT: %(levelname)s-%(appName)s-%(commitHash)s-%(appId)s-%(sessionId)s-%(userId)s-%(asctime)s-%(name)s-%(funcName)s-%(lineno)s-%(message)s\n",
      "INFO:openbb_terminal.core.log.generation.settings_logger:STARTUP: {\"PREFERENCES\": {\"PLOT_BACKEND\": null, \"PLOT_DPI\": 100, \"PLOT_HEIGHT\": 500, \"PLOT_WIDTH\": 800, \"PLOT_HEIGHT_PERCENTAGE\": 50.0, \"PLOT_WIDTH_PERCENTAGE\": 70.0, \"PLOT_OPEN_EXPORT\": false, \"PLOT_ENABLE_PYWRY\": true, \"PLOT_PYWRY_WIDTH\": 1400, \"PLOT_PYWRY_HEIGHT\": 762, \"FILE_OVERWRITE\": false, \"SHOW_VERSION\": true, \"RETRY_WITH_LOAD\": false, \"USE_TABULATE_DF\": true, \"USE_INTERACTIVE_DF\": true, \"USE_CLEAR_AFTER_CMD\": false, \"USE_DATETIME\": true, \"USE_PROMPT_TOOLKIT\": true, \"USE_PLOT_AUTOSCALING\": false, \"ENABLE_THOUGHTS_DAY\": false, \"ENABLE_QUICK_EXIT\": false, \"OPEN_REPORT_AS_HTML\": true, \"ENABLE_EXIT_AUTO_HELP\": true, \"REMEMBER_CONTEXTS\": true, \"ENABLE_RICH_PANEL\": true, \"ENABLE_CHECK_API\": true, \"TOOLBAR_HINT\": true, \"PREVIOUS_USE\": false, \"TIMEZONE\": \"America/New_York\", \"FLAIR\": \":bug\", \"USE_LANGUAGE\": \"en\", \"REQUEST_TIMEOUT\": 5, \"MONITOR\": 0, \"MPL_STYLE\": \"dark\", \"PMF_STYLE\": \"dark\", \"RICH_STYLE\": \"dark\", \"CHART_STYLE\": \"dark\", \"TABLE_STYLE\": \"dark\", \"GUESS_EASTER_EGG_FILE\": \"/Users/Massimiliano/Documents/GitHub/DerivativeAnalytics/DerivativeAnalytics/guess_game.json\", \"USER_DATA_SOURCES_FILE\": \"/Users/Massimiliano/OpenBBUserData/sources/sources.json\"}, \"KEYS\": {\"API_BINANCE_KEY\": \"not_defined\", \"API_BINANCE_SECRET\": \"not_defined\", \"API_BITQUERY_KEY\": \"not_defined\", \"API_BIZTOC_TOKEN\": \"not_defined\", \"API_CMC_KEY\": \"not_defined\", \"API_COINBASE_KEY\": \"not_defined\", \"API_COINBASE_PASS_PHRASE\": \"not_defined\", \"API_COINBASE_SECRET\": \"not_defined\", \"API_COINGLASS_KEY\": \"not_defined\", \"API_COMPANIESHOUSE_KEY\": \"not_defined\", \"API_CRYPTO_PANIC_KEY\": \"not_defined\", \"API_DAPPRADAR_KEY\": \"not_defined\", \"API_DATABENTO_KEY\": \"not_defined\", \"API_EODHD_KEY\": \"not_defined\", \"API_ETHPLORER_KEY\": \"not_defined\", \"API_FINNHUB_KEY\": \"not_defined\", \"API_FRED_KEY\": \"not_defined\", \"API_GITHUB_KEY\": \"not_defined\", \"API_GLASSNODE_KEY\": \"not_defined\", \"API_INTRINIO_KEY\": \"not_defined\", \"API_KEY_ALPHAVANTAGE\": \"not_defined\", \"API_KEY_FINANCIALMODELINGPREP\": \"not_defined\", \"API_KEY_NIXTLA\": \"not_defined\", \"API_KEY_QUANDL\": \"not_defined\", \"API_MESSARI_KEY\": \"not_defined\", \"API_NEWS_TOKEN\": \"not_defined\", \"API_OPENAI_KEY\": \"not_defined\", \"API_POLYGON_KEY\": \"not_defined\", \"API_REDDIT_CLIENT_ID\": \"not_defined\", \"API_REDDIT_CLIENT_SECRET\": \"not_defined\", \"API_REDDIT_PASSWORD\": \"not_defined\", \"API_REDDIT_USERNAME\": \"not_defined\", \"API_REDDIT_USER_AGENT\": \"not_defined\", \"API_SANTIMENT_KEY\": \"not_defined\", \"API_SHROOM_KEY\": \"not_defined\", \"API_SMARTSTAKE_KEY\": \"not_defined\", \"API_SMARTSTAKE_TOKEN\": \"not_defined\", \"API_STOCKSERA_KEY\": \"not_defined\", \"API_TOKEN_TERMINAL_KEY\": \"not_defined\", \"API_TRADIER_TOKEN\": \"not_defined\", \"API_TWITTER_BEARER_TOKEN\": \"not_defined\", \"API_TWITTER_KEY\": \"not_defined\", \"API_TWITTER_SECRET_KEY\": \"not_defined\", \"API_ULTIMA_KEY\": \"not_defined\", \"API_WHALE_ALERT_KEY\": \"not_defined\"}, \"SYSTEM\": {\"OS\": \"Darwin\", \"PYTHON_VERSION\": \"3.9.17\", \"PLATFORM\": \"macOS-10.16-x86_64-i386-64bit\", \"VERSION\": \"3.2.2\", \"LOGGING_APP_ID\": \"8e33e0cb-8005-40c9-b14a-e85b6ae91bd1\", \"LOGGING_APP_NAME\": \"gst_packaged_pypi\", \"LOGGING_COMMIT_HASH\": \"unknown-commit\", \"LOGGING_BRANCH\": \"unknown-branch\", \"LOGGING_FREQUENCY\": \"H\", \"LOGGING_HANDLERS\": [\"file\", \"posthog\"], \"LOGGING_ROLLING_CLOCK\": false, \"LOGGING_VERBOSITY\": 20, \"LOGGING_SUB_APP\": \"sdk\", \"LOGGING_SUPPRESS\": false, \"LOGGING_SEND_TO_S3\": false, \"LOG_COLLECT\": true, \"DISABLE_STREAMLIT_WARNING\": false, \"DISABLE_FORECASTING_WARNING\": true, \"DISABLE_OPTIMIZATION_WARNING\": true, \"TEST_MODE\": false, \"DEBUG_MODE\": false, \"DEV_BACKEND\": false, \"ENABLE_AUTHENTICATION\": true, \"HEADLESS\": false}} \n",
      "INFO:openbb_terminal.core.session.sdk_session:START\n",
      "INFO:openbb_terminal.core.session.sdk_session:END\n"
     ]
    }
   ],
   "source": [
    "from pathlib import Path\n",
    "import requests\n",
    "from io import BytesIO\n",
    "from zipfile import ZipFile, BadZipFile\n",
    "\n",
    "import numpy as np\n",
    "import pandas as pd\n",
    "import pandas_datareader.data as web\n",
    "from sklearn.datasets import fetch_openml\n",
    "from openbb_terminal.sdk import openbb\n",
    "import os\n",
    "path=\"/Users/Massimiliano\"\n",
    "os.chdir(path)\n",
    "\n",
    "pd.set_option('display.expand_frame_repr', False)"
   ]
  },
  {
   "cell_type": "code",
   "execution_count": 3,
   "metadata": {
    "ExecuteTime": {
     "end_time": "2020-06-19T02:27:54.832609Z",
     "start_time": "2020-06-19T02:27:54.824778Z"
    }
   },
   "outputs": [],
   "source": [
    "DATA_STORE = Path('assets.h5')"
   ]
  },
  {
   "cell_type": "code",
   "execution_count": 75,
   "metadata": {
    "ExecuteTime": {
     "end_time": "2020-06-16T21:38:46.759327Z",
     "start_time": "2020-06-16T21:37:48.398856Z"
    }
   },
   "outputs": [
    {
     "name": "stdout",
     "output_type": "stream",
     "text": [
      "<class 'pandas.core.frame.DataFrame'>\n",
      "MultiIndex: 15389314 entries, (Timestamp('1962-01-02 00:00:00'), 'ARNC') to (Timestamp('2018-03-27 00:00:00'), 'ZUMZ')\n",
      "Data columns (total 12 columns):\n",
      " #   Column       Non-Null Count     Dtype  \n",
      "---  ------       --------------     -----  \n",
      " 0   open         15388776 non-null  float64\n",
      " 1   high         15389259 non-null  float64\n",
      " 2   low          15389259 non-null  float64\n",
      " 3   close        15389313 non-null  float64\n",
      " 4   volume       15389314 non-null  float64\n",
      " 5   ex-dividend  15389314 non-null  float64\n",
      " 6   split_ratio  15389313 non-null  float64\n",
      " 7   adj_open     15388776 non-null  float64\n",
      " 8   adj_high     15389259 non-null  float64\n",
      " 9   adj_low      15389259 non-null  float64\n",
      " 10  adj_close    15389313 non-null  float64\n",
      " 11  adj_volume   15389314 non-null  float64\n",
      "dtypes: float64(12)\n",
      "memory usage: 1.4+ GB\n",
      "None\n"
     ]
    }
   ],
   "source": [
    "df = (pd.read_csv('/Users/Massimiliano/wiki_stocks.csv',\n",
    "        parse_dates=['date'],\n",
    "        index_col=['date', 'ticker'],\n",
    "        infer_datetime_format=True).sort_index())\n",
    "\n",
    "print(df.info(null_counts=True))\n",
    "with pd.HDFStore(DATA_STORE) as store:\n",
    "    store.put('quandl/wiki/prices', df)"
   ]
  },
  {
   "cell_type": "code",
   "execution_count": null,
   "metadata": {},
   "outputs": [
    {
     "name": "stdout",
     "output_type": "stream",
     "text": [
      "<class 'pandas.core.frame.DataFrame'>\n",
      "DatetimeIndex: 2610 entries, 2013-09-09 to 2023-09-08\n",
      "Data columns (total 1 columns):\n",
      " #   Column  Non-Null Count  Dtype  \n",
      "---  ------  --------------  -----  \n",
      " 0   close   2518 non-null   float64\n",
      "dtypes: float64(1)\n",
      "memory usage: 40.8 KB\n",
      "None\n"
     ]
    }
   ],
   "source": [
    "df = web.DataReader(name='SP500', data_source='fred', start=2009).squeeze().to_frame('close')\n",
    "print(df.info())\n",
    "with pd.HDFStore(DATA_STORE) as store:\n",
    "    store.put('sp500/fred', df)"
   ]
  },
  {
   "cell_type": "code",
   "execution_count": 11,
   "metadata": {
    "ExecuteTime": {
     "end_time": "2020-06-17T10:50:19.998830Z",
     "start_time": "2020-06-17T10:50:18.784120Z"
    }
   },
   "outputs": [],
   "source": [
    "url = 'https://en.wikipedia.org/wiki/List_of_S%26P_500_companies'\n",
    "df = pd.read_html(url, header=0)[0]"
   ]
  },
  {
   "cell_type": "code",
   "execution_count": 12,
   "metadata": {
    "ExecuteTime": {
     "end_time": "2020-06-17T10:50:21.745331Z",
     "start_time": "2020-06-17T10:50:21.724637Z"
    }
   },
   "outputs": [
    {
     "data": {
      "text/html": [
       "<div>\n",
       "<style scoped>\n",
       "    .dataframe tbody tr th:only-of-type {\n",
       "        vertical-align: middle;\n",
       "    }\n",
       "\n",
       "    .dataframe tbody tr th {\n",
       "        vertical-align: top;\n",
       "    }\n",
       "\n",
       "    .dataframe thead th {\n",
       "        text-align: right;\n",
       "    }\n",
       "</style>\n",
       "<table border=\"1\" class=\"dataframe\">\n",
       "  <thead>\n",
       "    <tr style=\"text-align: right;\">\n",
       "      <th></th>\n",
       "      <th>Symbol</th>\n",
       "      <th>Security</th>\n",
       "      <th>GICS Sector</th>\n",
       "      <th>GICS Sub-Industry</th>\n",
       "      <th>Headquarters Location</th>\n",
       "      <th>Date added</th>\n",
       "      <th>CIK</th>\n",
       "      <th>Founded</th>\n",
       "    </tr>\n",
       "  </thead>\n",
       "  <tbody>\n",
       "    <tr>\n",
       "      <th>0</th>\n",
       "      <td>MMM</td>\n",
       "      <td>3M</td>\n",
       "      <td>Industrials</td>\n",
       "      <td>Industrial Conglomerates</td>\n",
       "      <td>Saint Paul, Minnesota</td>\n",
       "      <td>1957-03-04</td>\n",
       "      <td>66740</td>\n",
       "      <td>1902</td>\n",
       "    </tr>\n",
       "    <tr>\n",
       "      <th>1</th>\n",
       "      <td>AOS</td>\n",
       "      <td>A. O. Smith</td>\n",
       "      <td>Industrials</td>\n",
       "      <td>Building Products</td>\n",
       "      <td>Milwaukee, Wisconsin</td>\n",
       "      <td>2017-07-26</td>\n",
       "      <td>91142</td>\n",
       "      <td>1916</td>\n",
       "    </tr>\n",
       "    <tr>\n",
       "      <th>2</th>\n",
       "      <td>ABT</td>\n",
       "      <td>Abbott</td>\n",
       "      <td>Health Care</td>\n",
       "      <td>Health Care Equipment</td>\n",
       "      <td>North Chicago, Illinois</td>\n",
       "      <td>1957-03-04</td>\n",
       "      <td>1800</td>\n",
       "      <td>1888</td>\n",
       "    </tr>\n",
       "    <tr>\n",
       "      <th>3</th>\n",
       "      <td>ABBV</td>\n",
       "      <td>AbbVie</td>\n",
       "      <td>Health Care</td>\n",
       "      <td>Pharmaceuticals</td>\n",
       "      <td>North Chicago, Illinois</td>\n",
       "      <td>2012-12-31</td>\n",
       "      <td>1551152</td>\n",
       "      <td>2013 (1888)</td>\n",
       "    </tr>\n",
       "    <tr>\n",
       "      <th>4</th>\n",
       "      <td>ACN</td>\n",
       "      <td>Accenture</td>\n",
       "      <td>Information Technology</td>\n",
       "      <td>IT Consulting &amp; Other Services</td>\n",
       "      <td>Dublin, Ireland</td>\n",
       "      <td>2011-07-06</td>\n",
       "      <td>1467373</td>\n",
       "      <td>1989</td>\n",
       "    </tr>\n",
       "  </tbody>\n",
       "</table>\n",
       "</div>"
      ],
      "text/plain": [
       "  Symbol     Security             GICS Sector               GICS Sub-Industry    Headquarters Location  Date added      CIK      Founded\n",
       "0    MMM           3M             Industrials        Industrial Conglomerates    Saint Paul, Minnesota  1957-03-04    66740         1902\n",
       "1    AOS  A. O. Smith             Industrials               Building Products     Milwaukee, Wisconsin  2017-07-26    91142         1916\n",
       "2    ABT       Abbott             Health Care           Health Care Equipment  North Chicago, Illinois  1957-03-04     1800         1888\n",
       "3   ABBV       AbbVie             Health Care                 Pharmaceuticals  North Chicago, Illinois  2012-12-31  1551152  2013 (1888)\n",
       "4    ACN    Accenture  Information Technology  IT Consulting & Other Services          Dublin, Ireland  2011-07-06  1467373         1989"
      ]
     },
     "execution_count": 12,
     "metadata": {},
     "output_type": "execute_result"
    }
   ],
   "source": [
    "df.head()"
   ]
  },
  {
   "cell_type": "code",
   "execution_count": 16,
   "metadata": {
    "ExecuteTime": {
     "end_time": "2020-06-17T10:51:06.628859Z",
     "start_time": "2020-06-17T10:51:06.621125Z"
    }
   },
   "outputs": [],
   "source": [
    "df.columns = ['ticker', 'name', 'gics_sector', 'gics_sub_industry',\n",
    "                'location', 'first_added', 'cik', 'founded']"
   ]
  },
  {
   "cell_type": "code",
   "execution_count": 17,
   "metadata": {
    "ExecuteTime": {
     "end_time": "2020-06-17T10:51:14.523579Z",
     "start_time": "2020-06-17T10:51:14.515004Z"
    }
   },
   "outputs": [
    {
     "name": "stdout",
     "output_type": "stream",
     "text": [
      "<class 'pandas.core.frame.DataFrame'>\n",
      "RangeIndex: 503 entries, 0 to 502\n",
      "Data columns (total 8 columns):\n",
      " #   Column             Non-Null Count  Dtype \n",
      "---  ------             --------------  ----- \n",
      " 0   ticker             503 non-null    object\n",
      " 1   name               503 non-null    object\n",
      " 2   gics_sector        503 non-null    object\n",
      " 3   gics_sub_industry  503 non-null    object\n",
      " 4   location           503 non-null    object\n",
      " 5   first_added        493 non-null    object\n",
      " 6   cik                503 non-null    int64 \n",
      " 7   founded            503 non-null    object\n",
      "dtypes: int64(1), object(7)\n",
      "memory usage: 31.6+ KB\n",
      "None\n"
     ]
    }
   ],
   "source": [
    "print(df.info())"
   ]
  },
  {
   "cell_type": "code",
   "execution_count": 78,
   "metadata": {
    "ExecuteTime": {
     "end_time": "2020-06-17T10:51:17.814771Z",
     "start_time": "2020-06-17T10:51:17.788608Z"
    }
   },
   "outputs": [],
   "source": [
    "with pd.HDFStore(DATA_STORE) as store:\n",
    "    store.put('sp500/stocks', df)"
   ]
  },
  {
   "cell_type": "code",
   "execution_count": 30,
   "metadata": {},
   "outputs": [
    {
     "name": "stdout",
     "output_type": "stream",
     "text": [
      "<class 'pandas.core.frame.DataFrame'>\n",
      "Int64Index: 4314 entries, 0 to 4313\n",
      "Data columns (total 11 columns):\n",
      " #   Column      Non-Null Count  Dtype  \n",
      "---  ------      --------------  -----  \n",
      " 0   Symbol      4313 non-null   object \n",
      " 1   Name        4314 non-null   object \n",
      " 2   Last Sale   4314 non-null   object \n",
      " 3   Net Change  4314 non-null   float64\n",
      " 4   % Change    4313 non-null   object \n",
      " 5   Market Cap  4302 non-null   float64\n",
      " 6   Country     4313 non-null   object \n",
      " 7   IPO Year    2622 non-null   float64\n",
      " 8   Volume      4314 non-null   int64  \n",
      " 9   Sector      4184 non-null   object \n",
      " 10  Industry    4184 non-null   object \n",
      "dtypes: float64(3), int64(1), object(7)\n",
      "memory usage: 404.4+ KB\n",
      "None\n"
     ]
    }
   ],
   "source": [
    "\n",
    "exchanges = ['NASDAQ.csv', 'AMEX.csv', 'NYSE.csv']\n",
    "df = pd.concat([pd.read_csv(format(ex)) for ex in exchanges]).dropna(how='all', axis=1)\n",
    "\n",
    "df = df[~df.index.duplicated()]\n",
    "print(df.info()) "
   ]
  },
  {
   "cell_type": "markdown",
   "metadata": {},
   "source": []
  },
  {
   "cell_type": "code",
   "execution_count": 31,
   "metadata": {},
   "outputs": [
    {
     "data": {
      "text/html": [
       "<div>\n",
       "<style scoped>\n",
       "    .dataframe tbody tr th:only-of-type {\n",
       "        vertical-align: middle;\n",
       "    }\n",
       "\n",
       "    .dataframe tbody tr th {\n",
       "        vertical-align: top;\n",
       "    }\n",
       "\n",
       "    .dataframe thead th {\n",
       "        text-align: right;\n",
       "    }\n",
       "</style>\n",
       "<table border=\"1\" class=\"dataframe\">\n",
       "  <thead>\n",
       "    <tr style=\"text-align: right;\">\n",
       "      <th></th>\n",
       "      <th>Symbol</th>\n",
       "      <th>Name</th>\n",
       "      <th>Last Sale</th>\n",
       "      <th>Net Change</th>\n",
       "      <th>% Change</th>\n",
       "      <th>Market Cap</th>\n",
       "      <th>Country</th>\n",
       "      <th>IPO Year</th>\n",
       "      <th>Volume</th>\n",
       "      <th>Sector</th>\n",
       "      <th>Industry</th>\n",
       "    </tr>\n",
       "  </thead>\n",
       "  <tbody>\n",
       "    <tr>\n",
       "      <th>0</th>\n",
       "      <td>AACG</td>\n",
       "      <td>ATA Creativity Global American Depositary Shares</td>\n",
       "      <td>$1.15</td>\n",
       "      <td>-0.03</td>\n",
       "      <td>-2.542%</td>\n",
       "      <td>3.636550e+07</td>\n",
       "      <td>China</td>\n",
       "      <td>2008.0</td>\n",
       "      <td>8843</td>\n",
       "      <td>Consumer Discretionary</td>\n",
       "      <td>Educational Services</td>\n",
       "    </tr>\n",
       "    <tr>\n",
       "      <th>1</th>\n",
       "      <td>AACI</td>\n",
       "      <td>Armada Acquisition Corp. I Common Stock</td>\n",
       "      <td>$10.75</td>\n",
       "      <td>0.01</td>\n",
       "      <td>0.093%</td>\n",
       "      <td>0.000000e+00</td>\n",
       "      <td>United States</td>\n",
       "      <td>2021.0</td>\n",
       "      <td>202</td>\n",
       "      <td>Finance</td>\n",
       "      <td>Blank Checks</td>\n",
       "    </tr>\n",
       "    <tr>\n",
       "      <th>2</th>\n",
       "      <td>AACIW</td>\n",
       "      <td>Armada Acquisition Corp. I Warrant</td>\n",
       "      <td>$0.0692</td>\n",
       "      <td>0.00</td>\n",
       "      <td>0.00%</td>\n",
       "      <td>0.000000e+00</td>\n",
       "      <td>United States</td>\n",
       "      <td>2021.0</td>\n",
       "      <td>10</td>\n",
       "      <td>Finance</td>\n",
       "      <td>Blank Checks</td>\n",
       "    </tr>\n",
       "    <tr>\n",
       "      <th>3</th>\n",
       "      <td>AADI</td>\n",
       "      <td>Aadi Bioscience Inc. Common Stock</td>\n",
       "      <td>$5.62</td>\n",
       "      <td>0.49</td>\n",
       "      <td>9.552%</td>\n",
       "      <td>1.378016e+08</td>\n",
       "      <td>United States</td>\n",
       "      <td>NaN</td>\n",
       "      <td>136084</td>\n",
       "      <td>Health Care</td>\n",
       "      <td>Biotechnology: Pharmaceutical Preparations</td>\n",
       "    </tr>\n",
       "    <tr>\n",
       "      <th>4</th>\n",
       "      <td>AAL</td>\n",
       "      <td>American Airlines Group Inc. Common Stock</td>\n",
       "      <td>$14.11</td>\n",
       "      <td>0.13</td>\n",
       "      <td>0.93%</td>\n",
       "      <td>9.218958e+09</td>\n",
       "      <td>United States</td>\n",
       "      <td>NaN</td>\n",
       "      <td>17132956</td>\n",
       "      <td>Consumer Discretionary</td>\n",
       "      <td>Air Freight/Delivery Services</td>\n",
       "    </tr>\n",
       "  </tbody>\n",
       "</table>\n",
       "</div>"
      ],
      "text/plain": [
       "  Symbol                                              Name Last Sale  Net Change % Change    Market Cap        Country  IPO Year    Volume                  Sector                                    Industry\n",
       "0   AACG  ATA Creativity Global American Depositary Shares     $1.15       -0.03  -2.542%  3.636550e+07          China    2008.0      8843  Consumer Discretionary                        Educational Services\n",
       "1   AACI           Armada Acquisition Corp. I Common Stock    $10.75        0.01   0.093%  0.000000e+00  United States    2021.0       202                 Finance                                Blank Checks\n",
       "2  AACIW                Armada Acquisition Corp. I Warrant   $0.0692        0.00    0.00%  0.000000e+00  United States    2021.0        10                 Finance                                Blank Checks\n",
       "3   AADI                 Aadi Bioscience Inc. Common Stock     $5.62        0.49   9.552%  1.378016e+08  United States       NaN    136084             Health Care  Biotechnology: Pharmaceutical Preparations\n",
       "4    AAL         American Airlines Group Inc. Common Stock    $14.11        0.13    0.93%  9.218958e+09  United States       NaN  17132956  Consumer Discretionary               Air Freight/Delivery Services"
      ]
     },
     "execution_count": 31,
     "metadata": {},
     "output_type": "execute_result"
    }
   ],
   "source": [
    "df.head()"
   ]
  },
  {
   "cell_type": "code",
   "execution_count": 38,
   "metadata": {},
   "outputs": [],
   "source": [
    "mcap = df[['Market Cap']].dropna()\n"
   ]
  },
  {
   "cell_type": "markdown",
   "metadata": {},
   "source": [
    "### Store result"
   ]
  },
  {
   "cell_type": "markdown",
   "metadata": {},
   "source": [
    "The file `us_equities_meta_data.csv` contains a version of the data used for many of the examples. Load using \n",
    "```\n",
    "df = pd.read_csv('us_equities_meta_data.csv')\n",
    "```\n",
    "and proceed to store in HDF5 format."
   ]
  },
  {
   "cell_type": "code",
   "execution_count": 24,
   "metadata": {
    "ExecuteTime": {
     "end_time": "2020-06-16T21:35:00.910722Z",
     "start_time": "2020-06-16T21:35:00.862761Z"
    }
   },
   "outputs": [
    {
     "name": "stderr",
     "output_type": "stream",
     "text": [
      "INFO:openbb_terminal.stocks.screener.finviz_model:START\n",
      "INFO:openbb_terminal.stocks.screener.finviz_model:{\"INPUT\": {\"preset_loaded\": \"sp500_filter\", \"data_type\": \"overview\", \"limit\": \"-1\", \"ascend\": \"False\", \"chart\": \"False\"}, \"VIRTUAL_PATH\": \"stocks.screener.screener_data\", \"CHART\": false}\n",
      "INFO:openbb_terminal.stocks.screener.finviz_model:START\n"
     ]
    },
    {
     "name": "stdout",
     "output_type": "stream",
     "text": [
      "[Info] loading page [##############################] 26/26 \r"
     ]
    },
    {
     "name": "stderr",
     "output_type": "stream",
     "text": [
      "INFO:openbb_terminal.stocks.screener.finviz_model:END\n",
      "INFO:openbb_terminal.stocks.screener.finviz_model:END\n",
      "INFO:openbb_terminal.stocks.screener.finviz_model:START\n",
      "INFO:openbb_terminal.stocks.screener.finviz_model:{\"INPUT\": {\"preset_loaded\": \"sp500_filter\", \"data_type\": \"ownership\", \"limit\": \"-1\", \"ascend\": \"False\", \"chart\": \"False\"}, \"VIRTUAL_PATH\": \"stocks.screener.screener_data\", \"CHART\": false}\n",
      "INFO:openbb_terminal.stocks.screener.finviz_model:START\n"
     ]
    },
    {
     "name": "stdout",
     "output_type": "stream",
     "text": [
      "[Info] loading page [##############################] 26/26 \r"
     ]
    },
    {
     "name": "stderr",
     "output_type": "stream",
     "text": [
      "INFO:openbb_terminal.stocks.screener.finviz_model:END\n",
      "INFO:openbb_terminal.stocks.screener.finviz_model:END\n",
      "INFO:openbb_terminal.stocks.screener.finviz_model:START\n",
      "INFO:openbb_terminal.stocks.screener.finviz_model:{\"INPUT\": {\"preset_loaded\": \"sp500_filter\", \"data_type\": \"performance\", \"limit\": \"-1\", \"ascend\": \"False\", \"chart\": \"False\"}, \"VIRTUAL_PATH\": \"stocks.screener.screener_data\", \"CHART\": false}\n",
      "INFO:openbb_terminal.stocks.screener.finviz_model:START\n"
     ]
    },
    {
     "name": "stdout",
     "output_type": "stream",
     "text": [
      "[Info] loading page [##############################] 26/26 \r"
     ]
    },
    {
     "name": "stderr",
     "output_type": "stream",
     "text": [
      "INFO:openbb_terminal.stocks.screener.finviz_model:END\n",
      "INFO:openbb_terminal.stocks.screener.finviz_model:END\n",
      "INFO:openbb_terminal.stocks.screener.finviz_model:START\n",
      "INFO:openbb_terminal.stocks.screener.finviz_model:{\"INPUT\": {\"preset_loaded\": \"sp500_filter\", \"data_type\": \"technical\", \"limit\": \"-1\", \"ascend\": \"False\", \"chart\": \"False\"}, \"VIRTUAL_PATH\": \"stocks.screener.screener_data\", \"CHART\": false}\n",
      "INFO:openbb_terminal.stocks.screener.finviz_model:START\n"
     ]
    },
    {
     "name": "stdout",
     "output_type": "stream",
     "text": [
      "[Info] loading page [##############################] 26/26 \r"
     ]
    },
    {
     "name": "stderr",
     "output_type": "stream",
     "text": [
      "INFO:openbb_terminal.stocks.screener.finviz_model:END\n",
      "INFO:openbb_terminal.stocks.screener.finviz_model:END\n",
      "INFO:openbb_terminal.stocks.screener.finviz_model:START\n",
      "INFO:openbb_terminal.stocks.screener.finviz_model:{\"INPUT\": {\"preset_loaded\": \"sp500_filter\", \"data_type\": \"valuation\", \"limit\": \"-1\", \"ascend\": \"False\", \"chart\": \"False\"}, \"VIRTUAL_PATH\": \"stocks.screener.screener_data\", \"CHART\": false}\n",
      "INFO:openbb_terminal.stocks.screener.finviz_model:START\n"
     ]
    },
    {
     "name": "stdout",
     "output_type": "stream",
     "text": [
      "[Info] loading page [##############################] 26/26 \r"
     ]
    },
    {
     "name": "stderr",
     "output_type": "stream",
     "text": [
      "INFO:openbb_terminal.stocks.screener.finviz_model:END\n",
      "INFO:openbb_terminal.stocks.screener.finviz_model:END\n"
     ]
    },
    {
     "data": {
      "text/html": [
       "<div>\n",
       "<style scoped>\n",
       "    .dataframe tbody tr th:only-of-type {\n",
       "        vertical-align: middle;\n",
       "    }\n",
       "\n",
       "    .dataframe tbody tr th {\n",
       "        vertical-align: top;\n",
       "    }\n",
       "\n",
       "    .dataframe thead th {\n",
       "        text-align: right;\n",
       "    }\n",
       "</style>\n",
       "<table border=\"1\" class=\"dataframe\">\n",
       "  <thead>\n",
       "    <tr style=\"text-align: right;\">\n",
       "      <th></th>\n",
       "      <th></th>\n",
       "      <th></th>\n",
       "      <th></th>\n",
       "      <th>Company</th>\n",
       "      <th>Sector</th>\n",
       "      <th>Industry</th>\n",
       "      <th>Country</th>\n",
       "      <th>Market Cap</th>\n",
       "      <th>P/E</th>\n",
       "      <th>Fwd P/E</th>\n",
       "      <th>PEG</th>\n",
       "      <th>P/S</th>\n",
       "      <th>P/B</th>\n",
       "      <th>...</th>\n",
       "      <th>Beta</th>\n",
       "      <th>ATR</th>\n",
       "      <th>SMA20</th>\n",
       "      <th>SMA50</th>\n",
       "      <th>SMA200</th>\n",
       "      <th>52W High</th>\n",
       "      <th>52W Low</th>\n",
       "      <th>RSI</th>\n",
       "      <th>from Open</th>\n",
       "      <th>Gap</th>\n",
       "    </tr>\n",
       "    <tr>\n",
       "      <th>Ticker</th>\n",
       "      <th>Price</th>\n",
       "      <th>Change</th>\n",
       "      <th>Volume</th>\n",
       "      <th></th>\n",
       "      <th></th>\n",
       "      <th></th>\n",
       "      <th></th>\n",
       "      <th></th>\n",
       "      <th></th>\n",
       "      <th></th>\n",
       "      <th></th>\n",
       "      <th></th>\n",
       "      <th></th>\n",
       "      <th></th>\n",
       "      <th></th>\n",
       "      <th></th>\n",
       "      <th></th>\n",
       "      <th></th>\n",
       "      <th></th>\n",
       "      <th></th>\n",
       "      <th></th>\n",
       "      <th></th>\n",
       "      <th></th>\n",
       "      <th></th>\n",
       "    </tr>\n",
       "  </thead>\n",
       "  <tbody>\n",
       "    <tr>\n",
       "      <th>AAPL</th>\n",
       "      <th>175.01</th>\n",
       "      <th>-0.0042</th>\n",
       "      <th>108898991</th>\n",
       "      <td>Apple Inc.</td>\n",
       "      <td>Technology</td>\n",
       "      <td>Consumer Electronics</td>\n",
       "      <td>USA</td>\n",
       "      <td>2747560000000.0</td>\n",
       "      <td>29.41</td>\n",
       "      <td>26.54</td>\n",
       "      <td>4.62</td>\n",
       "      <td>7.16</td>\n",
       "      <td>45.58</td>\n",
       "      <td>...</td>\n",
       "      <td>1.28</td>\n",
       "      <td>3.65</td>\n",
       "      <td>-0.028</td>\n",
       "      <td>-0.0543</td>\n",
       "      <td>0.0633</td>\n",
       "      <td>-0.1171</td>\n",
       "      <td>0.4094</td>\n",
       "      <td>39.8</td>\n",
       "      <td>-0.0076</td>\n",
       "      <td>0.0035</td>\n",
       "    </tr>\n",
       "    <tr>\n",
       "      <th>MSFT</th>\n",
       "      <th>330.22</th>\n",
       "      <th>-0.025</th>\n",
       "      <th>36811776</th>\n",
       "      <td>Microsoft Corporation</td>\n",
       "      <td>Technology</td>\n",
       "      <td>Software - Infrastructure</td>\n",
       "      <td>USA</td>\n",
       "      <td>2516460000000.0</td>\n",
       "      <td>34.1</td>\n",
       "      <td>26.17</td>\n",
       "      <td>2.37</td>\n",
       "      <td>11.87</td>\n",
       "      <td>11.9</td>\n",
       "      <td>...</td>\n",
       "      <td>0.9</td>\n",
       "      <td>6.1</td>\n",
       "      <td>0.0068</td>\n",
       "      <td>-0.0068</td>\n",
       "      <td>0.1301</td>\n",
       "      <td>-0.0997</td>\n",
       "      <td>0.5472</td>\n",
       "      <td>49.73</td>\n",
       "      <td>-0.0201</td>\n",
       "      <td>-0.005</td>\n",
       "    </tr>\n",
       "    <tr>\n",
       "      <th>GOOGL</th>\n",
       "      <th>137.4</th>\n",
       "      <th>-0.0051</th>\n",
       "      <th>38790642</th>\n",
       "      <td>Alphabet Inc.</td>\n",
       "      <td>Communication Services</td>\n",
       "      <td>Internet Content &amp; Information</td>\n",
       "      <td>USA</td>\n",
       "      <td>1746470000000.0</td>\n",
       "      <td>30.09</td>\n",
       "      <td>20.6</td>\n",
       "      <td>1.86</td>\n",
       "      <td>6.03</td>\n",
       "      <td>6.51</td>\n",
       "      <td>...</td>\n",
       "      <td>1.06</td>\n",
       "      <td>2.65</td>\n",
       "      <td>0.0296</td>\n",
       "      <td>0.0657</td>\n",
       "      <td>0.2489</td>\n",
       "      <td>-0.0093</td>\n",
       "      <td>0.6487</td>\n",
       "      <td>62.9</td>\n",
       "      <td>-0.0051</td>\n",
       "      <td>0.0</td>\n",
       "    </tr>\n",
       "    <tr>\n",
       "      <th>GOOG</th>\n",
       "      <th>138.3</th>\n",
       "      <th>-0.005</th>\n",
       "      <th>48628430</th>\n",
       "      <td>Alphabet Inc.</td>\n",
       "      <td>Communication Services</td>\n",
       "      <td>Internet Content &amp; Information</td>\n",
       "      <td>USA</td>\n",
       "      <td>1737700000000.0</td>\n",
       "      <td>28.57</td>\n",
       "      <td>20.89</td>\n",
       "      <td>1.76</td>\n",
       "      <td>6.0</td>\n",
       "      <td>6.54</td>\n",
       "      <td>...</td>\n",
       "      <td>1.06</td>\n",
       "      <td>2.63</td>\n",
       "      <td>0.0299</td>\n",
       "      <td>0.0676</td>\n",
       "      <td>0.2502</td>\n",
       "      <td>-0.009</td>\n",
       "      <td>0.6573</td>\n",
       "      <td>62.88</td>\n",
       "      <td>-0.0044</td>\n",
       "      <td>-0.0006</td>\n",
       "    </tr>\n",
       "    <tr>\n",
       "      <th>AMZN</th>\n",
       "      <th>140.39</th>\n",
       "      <th>-0.0299</th>\n",
       "      <th>101770091</th>\n",
       "      <td>Amazon.com Inc.</td>\n",
       "      <td>Consumer Cyclical</td>\n",
       "      <td>Internet Retail</td>\n",
       "      <td>USA</td>\n",
       "      <td>1493190000000.0</td>\n",
       "      <td>111.6</td>\n",
       "      <td>44.55</td>\n",
       "      <td>&lt;NA&gt;</td>\n",
       "      <td>2.78</td>\n",
       "      <td>8.57</td>\n",
       "      <td>...</td>\n",
       "      <td>1.23</td>\n",
       "      <td>3.36</td>\n",
       "      <td>0.0253</td>\n",
       "      <td>0.0425</td>\n",
       "      <td>0.2651</td>\n",
       "      <td>-0.0375</td>\n",
       "      <td>0.7241</td>\n",
       "      <td>55.44</td>\n",
       "      <td>-0.0167</td>\n",
       "      <td>-0.0135</td>\n",
       "    </tr>\n",
       "    <tr>\n",
       "      <th>...</th>\n",
       "      <th>...</th>\n",
       "      <th>...</th>\n",
       "      <th>...</th>\n",
       "      <td>...</td>\n",
       "      <td>...</td>\n",
       "      <td>...</td>\n",
       "      <td>...</td>\n",
       "      <td>...</td>\n",
       "      <td>...</td>\n",
       "      <td>...</td>\n",
       "      <td>...</td>\n",
       "      <td>...</td>\n",
       "      <td>...</td>\n",
       "      <td>...</td>\n",
       "      <td>...</td>\n",
       "      <td>...</td>\n",
       "      <td>...</td>\n",
       "      <td>...</td>\n",
       "      <td>...</td>\n",
       "      <td>...</td>\n",
       "      <td>...</td>\n",
       "      <td>...</td>\n",
       "      <td>...</td>\n",
       "      <td>...</td>\n",
       "    </tr>\n",
       "    <tr>\n",
       "      <th>OGN</th>\n",
       "      <th>19.54</th>\n",
       "      <th>-0.0126</th>\n",
       "      <th>6070408</th>\n",
       "      <td>Organon &amp; Co.</td>\n",
       "      <td>Healthcare</td>\n",
       "      <td>Drug Manufacturers - General</td>\n",
       "      <td>USA</td>\n",
       "      <td>5060000000.0</td>\n",
       "      <td>6.63</td>\n",
       "      <td>4.25</td>\n",
       "      <td>&lt;NA&gt;</td>\n",
       "      <td>0.82</td>\n",
       "      <td>&lt;NA&gt;</td>\n",
       "      <td>...</td>\n",
       "      <td>0.77</td>\n",
       "      <td>0.55</td>\n",
       "      <td>-0.0772</td>\n",
       "      <td>-0.0891</td>\n",
       "      <td>-0.182</td>\n",
       "      <td>-0.3975</td>\n",
       "      <td>0.0355</td>\n",
       "      <td>35.39</td>\n",
       "      <td>-0.0051</td>\n",
       "      <td>-0.0076</td>\n",
       "    </tr>\n",
       "    <tr>\n",
       "      <th>ALK</th>\n",
       "      <th>39.47</th>\n",
       "      <th>0.0028</th>\n",
       "      <th>3042709</th>\n",
       "      <td>Alaska Air Group Inc.</td>\n",
       "      <td>Industrials</td>\n",
       "      <td>Airlines</td>\n",
       "      <td>USA</td>\n",
       "      <td>5010000000.0</td>\n",
       "      <td>32.04</td>\n",
       "      <td>5.77</td>\n",
       "      <td>1.42</td>\n",
       "      <td>0.48</td>\n",
       "      <td>1.27</td>\n",
       "      <td>...</td>\n",
       "      <td>1.55</td>\n",
       "      <td>1.01</td>\n",
       "      <td>-0.047</td>\n",
       "      <td>-0.153</td>\n",
       "      <td>-0.1451</td>\n",
       "      <td>-0.3097</td>\n",
       "      <td>0.0612</td>\n",
       "      <td>26.29</td>\n",
       "      <td>0.0008</td>\n",
       "      <td>0.002</td>\n",
       "    </tr>\n",
       "    <tr>\n",
       "      <th>LNC</th>\n",
       "      <th>26.03</th>\n",
       "      <th>0.0124</th>\n",
       "      <th>44226049</th>\n",
       "      <td>Lincoln National Corporation</td>\n",
       "      <td>Financial</td>\n",
       "      <td>Insurance - Life</td>\n",
       "      <td>USA</td>\n",
       "      <td>4360000000.0</td>\n",
       "      <td>&lt;NA&gt;</td>\n",
       "      <td>3.33</td>\n",
       "      <td>&lt;NA&gt;</td>\n",
       "      <td>0.25</td>\n",
       "      <td>0.92</td>\n",
       "      <td>...</td>\n",
       "      <td>1.81</td>\n",
       "      <td>0.89</td>\n",
       "      <td>0.0223</td>\n",
       "      <td>-0.0138</td>\n",
       "      <td>-0.0302</td>\n",
       "      <td>-0.5232</td>\n",
       "      <td>0.407</td>\n",
       "      <td>52.52</td>\n",
       "      <td>0.0297</td>\n",
       "      <td>-0.0167</td>\n",
       "    </tr>\n",
       "    <tr>\n",
       "      <th>DXC</th>\n",
       "      <th>20.69</th>\n",
       "      <th>0.0</th>\n",
       "      <th>10523300</th>\n",
       "      <td>DXC Technology Company</td>\n",
       "      <td>Technology</td>\n",
       "      <td>Information Technology Services</td>\n",
       "      <td>USA</td>\n",
       "      <td>4250000000.0</td>\n",
       "      <td>&lt;NA&gt;</td>\n",
       "      <td>5.26</td>\n",
       "      <td>&lt;NA&gt;</td>\n",
       "      <td>0.3</td>\n",
       "      <td>1.33</td>\n",
       "      <td>...</td>\n",
       "      <td>1.97</td>\n",
       "      <td>0.55</td>\n",
       "      <td>0.005</td>\n",
       "      <td>-0.1136</td>\n",
       "      <td>-0.1898</td>\n",
       "      <td>-0.3165</td>\n",
       "      <td>0.1118</td>\n",
       "      <td>43.21</td>\n",
       "      <td>0.0044</td>\n",
       "      <td>-0.0043</td>\n",
       "    </tr>\n",
       "    <tr>\n",
       "      <th>NWL</th>\n",
       "      <th>9.49</th>\n",
       "      <th>-0.0237</th>\n",
       "      <th>108329240</th>\n",
       "      <td>Newell Brands Inc.</td>\n",
       "      <td>Consumer Defensive</td>\n",
       "      <td>Household &amp; Personal Products</td>\n",
       "      <td>USA</td>\n",
       "      <td>4030000000.0</td>\n",
       "      <td>&lt;NA&gt;</td>\n",
       "      <td>8.81</td>\n",
       "      <td>&lt;NA&gt;</td>\n",
       "      <td>0.47</td>\n",
       "      <td>1.19</td>\n",
       "      <td>...</td>\n",
       "      <td>1.01</td>\n",
       "      <td>0.37</td>\n",
       "      <td>-0.0662</td>\n",
       "      <td>-0.0685</td>\n",
       "      <td>-0.1859</td>\n",
       "      <td>-0.4501</td>\n",
       "      <td>0.2167</td>\n",
       "      <td>40.2</td>\n",
       "      <td>-0.0166</td>\n",
       "      <td>-0.0072</td>\n",
       "    </tr>\n",
       "  </tbody>\n",
       "</table>\n",
       "<p>503 rows × 46 columns</p>\n",
       "</div>"
      ],
      "text/plain": [
       "                                                      Company                  Sector                         Industry Country       Market Cap    P/E  Fwd P/E   PEG    P/S    P/B  ...  Beta   ATR   SMA20   SMA50  SMA200  52W High  52W Low    RSI  from Open     Gap\n",
       "Ticker Price  Change  Volume                                                                                                                                                         ...                                                                                 \n",
       "AAPL   175.01 -0.0042 108898991                    Apple Inc.              Technology             Consumer Electronics     USA  2747560000000.0  29.41    26.54  4.62   7.16  45.58  ...  1.28  3.65  -0.028 -0.0543  0.0633   -0.1171   0.4094   39.8    -0.0076  0.0035\n",
       "MSFT   330.22 -0.025  36811776          Microsoft Corporation              Technology        Software - Infrastructure     USA  2516460000000.0   34.1    26.17  2.37  11.87   11.9  ...   0.9   6.1  0.0068 -0.0068  0.1301   -0.0997   0.5472  49.73    -0.0201  -0.005\n",
       "GOOGL  137.4  -0.0051 38790642                  Alphabet Inc.  Communication Services   Internet Content & Information     USA  1746470000000.0  30.09     20.6  1.86   6.03   6.51  ...  1.06  2.65  0.0296  0.0657  0.2489   -0.0093   0.6487   62.9    -0.0051     0.0\n",
       "GOOG   138.3  -0.005  48628430                  Alphabet Inc.  Communication Services   Internet Content & Information     USA  1737700000000.0  28.57    20.89  1.76    6.0   6.54  ...  1.06  2.63  0.0299  0.0676  0.2502    -0.009   0.6573  62.88    -0.0044 -0.0006\n",
       "AMZN   140.39 -0.0299 101770091               Amazon.com Inc.       Consumer Cyclical                  Internet Retail     USA  1493190000000.0  111.6    44.55  <NA>   2.78   8.57  ...  1.23  3.36  0.0253  0.0425  0.2651   -0.0375   0.7241  55.44    -0.0167 -0.0135\n",
       "...                                                       ...                     ...                              ...     ...              ...    ...      ...   ...    ...    ...  ...   ...   ...     ...     ...     ...       ...      ...    ...        ...     ...\n",
       "OGN    19.54  -0.0126 6070408                   Organon & Co.              Healthcare     Drug Manufacturers - General     USA     5060000000.0   6.63     4.25  <NA>   0.82   <NA>  ...  0.77  0.55 -0.0772 -0.0891  -0.182   -0.3975   0.0355  35.39    -0.0051 -0.0076\n",
       "ALK    39.47   0.0028 3042709           Alaska Air Group Inc.             Industrials                         Airlines     USA     5010000000.0  32.04     5.77  1.42   0.48   1.27  ...  1.55  1.01  -0.047  -0.153 -0.1451   -0.3097   0.0612  26.29     0.0008   0.002\n",
       "LNC    26.03   0.0124 44226049   Lincoln National Corporation               Financial                 Insurance - Life     USA     4360000000.0   <NA>     3.33  <NA>   0.25   0.92  ...  1.81  0.89  0.0223 -0.0138 -0.0302   -0.5232    0.407  52.52     0.0297 -0.0167\n",
       "DXC    20.69   0.0    10523300         DXC Technology Company              Technology  Information Technology Services     USA     4250000000.0   <NA>     5.26  <NA>    0.3   1.33  ...  1.97  0.55   0.005 -0.1136 -0.1898   -0.3165   0.1118  43.21     0.0044 -0.0043\n",
       "NWL    9.49   -0.0237 108329240            Newell Brands Inc.      Consumer Defensive    Household & Personal Products     USA     4030000000.0   <NA>     8.81  <NA>   0.47   1.19  ...  1.01  0.37 -0.0662 -0.0685 -0.1859   -0.4501   0.2167   40.2    -0.0166 -0.0072\n",
       "\n",
       "[503 rows x 46 columns]"
      ]
     },
     "execution_count": 24,
     "metadata": {},
     "output_type": "execute_result"
    }
   ],
   "source": [
    "sp500_overview = openbb.stocks.screener.screener_data(preset_loaded='sp500_filter', data_type = 'overview')\n",
    "sp500_ownership = openbb.stocks.screener.screener_data(preset_loaded='sp500_filter', data_type = 'ownership')\n",
    "sp500_performance = openbb.stocks.screener.screener_data(preset_loaded='sp500_filter', data_type = 'performance')\n",
    "sp500_technical = openbb.stocks.screener.screener_data(preset_loaded='sp500_filter', data_type = 'technical')\n",
    "sp500_valuation = openbb.stocks.screener.screener_data(preset_loaded='sp500_filter', data_type = 'valuation')\n",
    "\n",
    "sp500_overview = sp500_overview.convert_dtypes()\n",
    "sp500_ownership = sp500_ownership.convert_dtypes()\n",
    "sp500_performance = sp500_performance.convert_dtypes()\n",
    "sp500_technical = sp500_technical.convert_dtypes()\n",
    "sp500_valuation = sp500_valuation.convert_dtypes()\n",
    "\n",
    "sp500_overview.drop(columns = ['P/E'], inplace = True)\n",
    "sp500_overview.set_index(keys = ['Ticker', 'Price', 'Change', 'Volume'], inplace = True)\n",
    "sp500_performance.drop(columns = ['Avg Volume', 'Price', 'Change', 'Volume'], inplace = True)\n",
    "sp500_performance.set_index(keys = ['Ticker'], inplace = True)\n",
    "sp500_ownership.drop(columns = ['Price', 'Change', 'Volume', 'Market Cap'], inplace = True)\n",
    "sp500_ownership.set_index(keys = ['Ticker'], inplace = True)\n",
    "sp500_technical.drop(columns = ['Price', 'Change', 'Volume'], inplace = True)\n",
    "sp500_technical.set_index(keys = ['Ticker'], inplace = True)\n",
    "sp500_valuation.drop(columns = ['Price', 'Change', 'Volume', 'Market Cap'], inplace = True)\n",
    "sp500_valuation.set_index(keys = ['Ticker'], inplace = True)\n",
    "\n",
    "\n",
    "sp500_df = sp500_overview.join(sp500_valuation)\n",
    "sp500_df = sp500_df.join(sp500_ownership)\n",
    "sp500_df = sp500_df.join(sp500_performance)\n",
    "sp500_df = sp500_df.join(sp500_technical)\n",
    "\n",
    "sp500_df\n"
   ]
  },
  {
   "cell_type": "code",
   "execution_count": 27,
   "metadata": {
    "ExecuteTime": {
     "end_time": "2020-06-16T21:35:22.388412Z",
     "start_time": "2020-06-16T21:35:22.356828Z"
    }
   },
   "outputs": [
    {
     "name": "stdout",
     "output_type": "stream",
     "text": [
      "<class 'pandas.core.frame.DataFrame'>\n",
      "RangeIndex: 503 entries, 0 to 502\n",
      "Data columns (total 50 columns):\n",
      " #   Column         Non-Null Count  Dtype  \n",
      "---  ------         --------------  -----  \n",
      " 0   Ticker         503 non-null    object \n",
      " 1   Price          503 non-null    float64\n",
      " 2   Change         503 non-null    float64\n",
      " 3   Volume         503 non-null    int64  \n",
      " 4   Company        503 non-null    object \n",
      " 5   Sector         503 non-null    object \n",
      " 6   Industry       503 non-null    object \n",
      " 7   Country        503 non-null    object \n",
      " 8   Market Cap     503 non-null    float64\n",
      " 9   P/E            463 non-null    float64\n",
      " 10  Fwd P/E        499 non-null    float64\n",
      " 11  PEG            382 non-null    float64\n",
      " 12  P/S            503 non-null    float64\n",
      " 13  P/B            468 non-null    float64\n",
      " 14  P/C            499 non-null    float64\n",
      " 15  P/FCF          433 non-null    float64\n",
      " 16  EPS this Y     501 non-null    float64\n",
      " 17  EPS next Y     501 non-null    float64\n",
      " 18  EPS past 5Y    498 non-null    float64\n",
      " 19  EPS next 5Y    473 non-null    float64\n",
      " 20  Sales past 5Y  496 non-null    float64\n",
      " 21  Outstanding    503 non-null    float64\n",
      " 22  Float          503 non-null    float64\n",
      " 23  Insider Own    502 non-null    float64\n",
      " 24  Insider Trans  500 non-null    float64\n",
      " 25  Inst Own       503 non-null    float64\n",
      " 26  Inst Trans     495 non-null    float64\n",
      " 27  Float Short    503 non-null    float64\n",
      " 28  Short Ratio    503 non-null    float64\n",
      " 29  Avg Volume     503 non-null    float64\n",
      " 30  1W             503 non-null    float64\n",
      " 31  1M             503 non-null    float64\n",
      " 32  3M             503 non-null    float64\n",
      " 33  6M             502 non-null    float64\n",
      " 34  1Y             501 non-null    float64\n",
      " 35  YTD            503 non-null    float64\n",
      " 36  1W Volatility  503 non-null    float64\n",
      " 37  1M Volatility  503 non-null    float64\n",
      " 38  Recom          499 non-null    float64\n",
      " 39  Rel Volume     503 non-null    float64\n",
      " 40  Beta           501 non-null    float64\n",
      " 41  ATR            503 non-null    float64\n",
      " 42  SMA20          503 non-null    float64\n",
      " 43  SMA50          503 non-null    float64\n",
      " 44  SMA200         503 non-null    float64\n",
      " 45  52W High       503 non-null    float64\n",
      " 46  52W Low        503 non-null    float64\n",
      " 47  RSI            503 non-null    float64\n",
      " 48  from Open      503 non-null    float64\n",
      " 49  Gap            503 non-null    float64\n",
      "dtypes: float64(44), int64(1), object(5)\n",
      "memory usage: 196.6+ KB\n",
      "None\n"
     ]
    }
   ],
   "source": [
    "sp500_df.to_csv('SP500_df.csv')\n",
    "\n",
    "sp500_df = (pd.read_csv('SP500_df.csv'))\n",
    "print(sp500_df.info(null_counts=True))\n",
    "with pd.HDFStore(DATA_STORE) as store:\n",
    "        store.put('SP500_df', sp500_df)"
   ]
  },
  {
   "cell_type": "markdown",
   "metadata": {},
   "source": [
    "## MNIST Data"
   ]
  },
  {
   "cell_type": "code",
   "execution_count": 36,
   "metadata": {
    "ExecuteTime": {
     "end_time": "2020-06-18T17:19:11.720146Z",
     "start_time": "2020-06-18T17:18:53.948739Z"
    }
   },
   "outputs": [],
   "source": [
    "mnist = fetch_openml('mnist_784', version=1)"
   ]
  },
  {
   "cell_type": "code",
   "execution_count": 37,
   "metadata": {
    "ExecuteTime": {
     "end_time": "2020-06-18T17:19:11.723222Z",
     "start_time": "2020-06-18T17:19:11.721079Z"
    }
   },
   "outputs": [
    {
     "name": "stdout",
     "output_type": "stream",
     "text": [
      "**Author**: Yann LeCun, Corinna Cortes, Christopher J.C. Burges  \n",
      "**Source**: [MNIST Website](http://yann.lecun.com/exdb/mnist/) - Date unknown  \n",
      "**Please cite**:  \n",
      "\n",
      "The MNIST database of handwritten digits with 784 features, raw data available at: http://yann.lecun.com/exdb/mnist/. It can be split in a training set of the first 60,000 examples, and a test set of 10,000 examples  \n",
      "\n",
      "It is a subset of a larger set available from NIST. The digits have been size-normalized and centered in a fixed-size image. It is a good database for people who want to try learning techniques and pattern recognition methods on real-world data while spending minimal efforts on preprocessing and formatting. The original black and white (bilevel) images from NIST were size normalized to fit in a 20x20 pixel box while preserving their aspect ratio. The resulting images contain grey levels as a result of the anti-aliasing technique used by the normalization algorithm. the images were centered in a 28x28 image by computing the center of mass of the pixels, and translating the image so as to position this point at the center of the 28x28 field.  \n",
      "\n",
      "With some classification methods (particularly template-based methods, such as SVM and K-nearest neighbors), the error rate improves when the digits are centered by bounding box rather than center of mass. If you do this kind of pre-processing, you should report it in your publications. The MNIST database was constructed from NIST's NIST originally designated SD-3 as their training set and SD-1 as their test set. However, SD-3 is much cleaner and easier to recognize than SD-1. The reason for this can be found on the fact that SD-3 was collected among Census Bureau employees, while SD-1 was collected among high-school students. Drawing sensible conclusions from learning experiments requires that the result be independent of the choice of training set and test among the complete set of samples. Therefore it was necessary to build a new database by mixing NIST's datasets.  \n",
      "\n",
      "The MNIST training set is composed of 30,000 patterns from SD-3 and 30,000 patterns from SD-1. Our test set was composed of 5,000 patterns from SD-3 and 5,000 patterns from SD-1. The 60,000 pattern training set contained examples from approximately 250 writers. We made sure that the sets of writers of the training set and test set were disjoint. SD-1 contains 58,527 digit images written by 500 different writers. In contrast to SD-3, where blocks of data from each writer appeared in sequence, the data in SD-1 is scrambled. Writer identities for SD-1 is available and we used this information to unscramble the writers. We then split SD-1 in two: characters written by the first 250 writers went into our new training set. The remaining 250 writers were placed in our test set. Thus we had two sets with nearly 30,000 examples each. The new training set was completed with enough examples from SD-3, starting at pattern # 0, to make a full set of 60,000 training patterns. Similarly, the new test set was completed with SD-3 examples starting at pattern # 35,000 to make a full set with 60,000 test patterns. Only a subset of 10,000 test images (5,000 from SD-1 and 5,000 from SD-3) is available on this site. The full 60,000 sample training set is available.\n",
      "\n",
      "Downloaded from openml.org.\n"
     ]
    }
   ],
   "source": [
    "print(mnist.DESCR)"
   ]
  },
  {
   "cell_type": "code",
   "execution_count": 38,
   "metadata": {
    "ExecuteTime": {
     "end_time": "2020-06-18T17:19:21.823457Z",
     "start_time": "2020-06-18T17:19:21.815369Z"
    }
   },
   "outputs": [
    {
     "data": {
      "text/plain": [
       "dict_keys(['data', 'target', 'frame', 'categories', 'feature_names', 'target_names', 'DESCR', 'details', 'url'])"
      ]
     },
     "execution_count": 38,
     "metadata": {},
     "output_type": "execute_result"
    }
   ],
   "source": [
    "mnist.keys()"
   ]
  },
  {
   "cell_type": "code",
   "execution_count": 39,
   "metadata": {
    "ExecuteTime": {
     "end_time": "2020-06-18T17:19:59.989715Z",
     "start_time": "2020-06-18T17:19:59.983320Z"
    }
   },
   "outputs": [],
   "source": [
    "mnist_path = Path('mnist')\n",
    "if not mnist_path.exists():\n",
    "    mnist_path.mkdir()"
   ]
  },
  {
   "cell_type": "code",
   "execution_count": 40,
   "metadata": {
    "ExecuteTime": {
     "end_time": "2020-06-18T17:20:25.489271Z",
     "start_time": "2020-06-18T17:20:25.418621Z"
    }
   },
   "outputs": [],
   "source": [
    "np.save(mnist_path / 'data', mnist.data.astype(np.uint8))\n",
    "np.save(mnist_path / 'labels', mnist.target.astype(np.uint8))"
   ]
  },
  {
   "cell_type": "markdown",
   "metadata": {},
   "source": [
    "## Fashion MNIST Image Data"
   ]
  },
  {
   "cell_type": "markdown",
   "metadata": {},
   "source": [
    "We will use the Fashion MNIST image data created by [Zalando Research](https://github.com/zalandoresearch/fashion-mnist) for some demonstrations."
   ]
  },
  {
   "cell_type": "code",
   "execution_count": 12,
   "metadata": {
    "ExecuteTime": {
     "end_time": "2020-06-18T14:42:51.598398Z",
     "start_time": "2020-06-18T14:42:38.233167Z"
    }
   },
   "outputs": [],
   "source": [
    "fashion_mnist = fetch_openml(name='Fashion-MNIST')"
   ]
  },
  {
   "cell_type": "code",
   "execution_count": 13,
   "metadata": {
    "ExecuteTime": {
     "end_time": "2020-06-18T14:42:51.604464Z",
     "start_time": "2020-06-18T14:42:51.599373Z"
    }
   },
   "outputs": [
    {
     "name": "stdout",
     "output_type": "stream",
     "text": [
      "**Author**: Han Xiao, Kashif Rasul, Roland Vollgraf  \n",
      "**Source**: [Zalando Research](https://github.com/zalandoresearch/fashion-mnist)  \n",
      "**Please cite**: Han Xiao and Kashif Rasul and Roland Vollgraf, Fashion-MNIST: a Novel Image Dataset for Benchmarking Machine Learning Algorithms, arXiv, cs.LG/1708.07747  \n",
      "\n",
      "Fashion-MNIST is a dataset of Zalando's article images, consisting of a training set of 60,000 examples and a test set of 10,000 examples. Each example is a 28x28 grayscale image, associated with a label from 10 classes. Fashion-MNIST is intended to serve as a direct drop-in replacement for the original MNIST dataset for benchmarking machine learning algorithms. It shares the same image size and structure of training and testing splits. \n",
      "\n",
      "Raw data available at: https://github.com/zalandoresearch/fashion-mnist\n",
      "\n",
      "### Target classes\n",
      "Each training and test example is assigned to one of the following labels:\n",
      "Label  Description  \n",
      "0  T-shirt/top  \n",
      "1  Trouser  \n",
      "2  Pullover  \n",
      "3  Dress  \n",
      "4  Coat  \n",
      "5  Sandal  \n",
      "6  Shirt  \n",
      "7  Sneaker  \n",
      "8  Bag  \n",
      "9  Ankle boot\n",
      "\n",
      "Downloaded from openml.org.\n"
     ]
    }
   ],
   "source": [
    "print(fashion_mnist.DESCR)"
   ]
  },
  {
   "cell_type": "code",
   "execution_count": 33,
   "metadata": {
    "ExecuteTime": {
     "end_time": "2020-06-18T15:14:10.969125Z",
     "start_time": "2020-06-18T15:14:10.960466Z"
    }
   },
   "outputs": [],
   "source": [
    "label_dict = {0: 'T-shirt/top',\n",
    "              1: 'Trouser',\n",
    "              2: 'Pullover',\n",
    "              3: 'Dress',\n",
    "              4: 'Coat',\n",
    "              5: 'Sandal',\n",
    "              6: 'Shirt',\n",
    "              7: 'Sneaker',\n",
    "              8: 'Bag',\n",
    "              9: 'Ankle boot'}"
   ]
  },
  {
   "cell_type": "code",
   "execution_count": 34,
   "metadata": {
    "ExecuteTime": {
     "end_time": "2020-06-18T15:14:11.293906Z",
     "start_time": "2020-06-18T15:14:11.290279Z"
    }
   },
   "outputs": [],
   "source": [
    "fashion_path = Path('fashion_mnist')\n",
    "if not fashion_path.exists():\n",
    "    fashion_path.mkdir()"
   ]
  },
  {
   "cell_type": "code",
   "execution_count": 35,
   "metadata": {
    "ExecuteTime": {
     "end_time": "2020-06-18T15:14:11.941092Z",
     "start_time": "2020-06-18T15:14:11.926416Z"
    }
   },
   "outputs": [],
   "source": [
    "pd.Series(label_dict).to_csv(fashion_path / 'label_dict.csv', index=False, header=None)"
   ]
  },
  {
   "cell_type": "code",
   "execution_count": 31,
   "metadata": {
    "ExecuteTime": {
     "end_time": "2020-06-18T14:45:50.376114Z",
     "start_time": "2020-06-18T14:45:50.301028Z"
    }
   },
   "outputs": [],
   "source": [
    "np.save(fashion_path / 'data', fashion_mnist.data.astype(np.uint8))\n",
    "np.save(fashion_path / 'labels', fashion_mnist.target.astype(np.uint8))\n"
   ]
  },
  {
   "cell_type": "markdown",
   "metadata": {},
   "source": [
    "## Bond Price Indexes"
   ]
  },
  {
   "cell_type": "markdown",
   "metadata": {},
   "source": [
    "The following code downloads several bond indexes from the Federal Reserve Economic Data service ([FRED](https://fred.stlouisfed.org/))"
   ]
  },
  {
   "cell_type": "markdown",
   "metadata": {},
   "source": [
    "> Warning: Unfortunately, most of this data has been [recently removed](https://news.research.stlouisfed.org/2022/01/ice-benchmark-administration-ltd-iba-data-to-be-removed-from-fred/) from the FRED service. It is not important for the examples in the book, so you can just ignore this."
   ]
  },
  {
   "cell_type": "code",
   "execution_count": 27,
   "metadata": {},
   "outputs": [],
   "source": [
    "securities = {'BAMLCC0A0CMTRIV'   : 'US Corp Master TRI',\n",
    "              'BAMLHYH0A0HYM2TRIV': 'US High Yield TRI',\n",
    "              'BAMLEMCBPITRIV'    : 'Emerging Markets Corporate Plus TRI',\n",
    "              'GOLDAMGBD228NLBM'  : 'Gold (London, USD)',\n",
    "              'DGS10'             : '10-Year Treasury CMR',\n",
    "              }\n",
    "\n",
    "df = web.DataReader(name=list(securities.keys()), data_source='fred', start=2000)\n",
    "df = df.rename(columns=securities).dropna(how='all').resample('B').mean()\n",
    "\n",
    "with pd.HDFStore(DATA_STORE) as store:\n",
    "    store.put('fred/assets', df)"
   ]
  }
 ],
 "metadata": {
  "kernelspec": {
   "display_name": "Python 3 (ipykernel)",
   "language": "python",
   "name": "python3"
  },
  "language_info": {
   "codemirror_mode": {
    "name": "ipython",
    "version": 3
   },
   "file_extension": ".py",
   "mimetype": "text/x-python",
   "name": "python",
   "nbconvert_exporter": "python",
   "pygments_lexer": "ipython3",
   "version": "3.9.17"
  },
  "toc": {
   "base_numbering": 1,
   "nav_menu": {},
   "number_sections": true,
   "sideBar": true,
   "skip_h1_title": true,
   "title_cell": "Table of Contents",
   "title_sidebar": "Contents",
   "toc_cell": false,
   "toc_position": {},
   "toc_section_display": true,
   "toc_window_display": true
  }
 },
 "nbformat": 4,
 "nbformat_minor": 4
}
